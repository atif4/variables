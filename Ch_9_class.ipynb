{
 "cells": [
  {
   "cell_type": "code",
   "execution_count": 5,
   "metadata": {},
   "outputs": [
    {
     "name": "stdout",
     "output_type": "stream",
     "text": [
      "enter your name: w\n",
      "enter your age3\n"
     ]
    }
   ],
   "source": [
    "class Dog():\n",
    "    def __init__(self,name,age):\n",
    "        self.name=name\n",
    "        self.age=age\n",
    "    def sit(self):\n",
    "        print(self.name+\" is sitting\")\n",
    "    def roll_over(self):\n",
    "        print(self.name+\" is rolling\")\n",
    "        gb= self.sit()\n",
    "name=input('enter your name: ')\n",
    "age = input('enter your age')\n",
    "a = Dog(name ,age)"
   ]
  },
  {
   "cell_type": "markdown",
   "metadata": {},
   "source": [
    "# Making an instance from a class  "
   ]
  },
  {
   "cell_type": "code",
   "execution_count": 2,
   "metadata": {},
   "outputs": [
    {
     "name": "stdout",
     "output_type": "stream",
     "text": [
      "My dog name is suny .\n",
      "My dog age is 12 .\n"
     ]
    }
   ],
   "source": [
    "print(\"My dog name is \"+a.name+\" .\")\n",
    "print(\"My dog age is \"+str(a.age)+\" .\")"
   ]
  },
  {
   "cell_type": "markdown",
   "metadata": {},
   "source": [
    "# Accessing Attributes"
   ]
  },
  {
   "cell_type": "code",
   "execution_count": 3,
   "metadata": {
    "scrolled": true
   },
   "outputs": [
    {
     "data": {
      "text/plain": [
       "'suny'"
      ]
     },
     "execution_count": 3,
     "metadata": {},
     "output_type": "execute_result"
    }
   ],
   "source": [
    "a.name"
   ]
  },
  {
   "cell_type": "code",
   "execution_count": 4,
   "metadata": {},
   "outputs": [
    {
     "data": {
      "text/plain": [
       "'12'"
      ]
     },
     "execution_count": 4,
     "metadata": {},
     "output_type": "execute_result"
    }
   ],
   "source": [
    "a.age"
   ]
  },
  {
   "cell_type": "markdown",
   "metadata": {},
   "source": [
    "# calling methods"
   ]
  },
  {
   "cell_type": "code",
   "execution_count": 6,
   "metadata": {},
   "outputs": [
    {
     "name": "stdout",
     "output_type": "stream",
     "text": [
      "w is rolling\n",
      "w is sitting\n"
     ]
    }
   ],
   "source": [
    "#a.sit()\n",
    "a.roll_over()"
   ]
  },
  {
   "cell_type": "markdown",
   "metadata": {},
   "source": [
    "# creating multiply instance  "
   ]
  },
  {
   "cell_type": "code",
   "execution_count": 6,
   "metadata": {},
   "outputs": [
    {
     "name": "stdout",
     "output_type": "stream",
     "text": [
      "\n",
      "My dog name is john.\n",
      "My dog age is 3.\n",
      "\n",
      "My dog name is sendy.\n",
      "My dog age is 5.\n",
      "\n",
      "My dog name is june.\n",
      "My dog age is 2.\n",
      "\n",
      "My dog name is green.\n",
      "My dog age is 6.\n"
     ]
    }
   ],
   "source": [
    "b=Dog('john',3)\n",
    "c=Dog('sendy',5)\n",
    "d=Dog('june',2)\n",
    "e=Dog('green',6)\n",
    "\n",
    "print(\"\\nMy dog name is \"+b.name+\".\\nMy dog age is \"+str(b.age)+\".\")\n",
    "\n",
    "print(\"\\nMy dog name is \"+c.name+\".\\nMy dog age is \"+str(c.age)+\".\")\n",
    "\n",
    "print(\"\\nMy dog name is \"+d.name+\".\\nMy dog age is \"+str(d.age)+\".\")\n",
    "\n",
    "print(\"\\nMy dog name is \"+e.name+\".\\nMy dog age is \"+str(e.age)+\".\")"
   ]
  },
  {
   "cell_type": "markdown",
   "metadata": {},
   "source": [
    "# loop list and class"
   ]
  },
  {
   "cell_type": "code",
   "execution_count": 13,
   "metadata": {},
   "outputs": [],
   "source": [
    "class Dog():\n",
    "    def __init__(self,name,age):\n",
    "        self.name=name\n",
    "        self.age=age\n",
    "    def sit(self):\n",
    "        print(str(self.name)+\" is sitting\")\n",
    "    def roll_over(self):\n",
    "        print(str(self.name)+\" is rolling\")\n",
    "        \n",
    "\n",
    "z=['john','sendy','june','green']\n",
    "y=[3,4,7,9]\n",
    "z.append('jozf')\n",
    "y.append(67)\n",
    "a = Dog(z,y)\n"
   ]
  },
  {
   "cell_type": "code",
   "execution_count": 8,
   "metadata": {},
   "outputs": [
    {
     "name": "stdout",
     "output_type": "stream",
     "text": [
      "My dog name is john.\n",
      "My dog age is 3.\n",
      "\n",
      "My dog name is sendy.\n",
      "My dog age is 4.\n",
      "\n",
      "My dog name is june.\n",
      "My dog age is 7.\n",
      "\n",
      "My dog name is green.\n",
      "My dog age is 9.\n",
      "\n",
      "My dog name is jozf.\n",
      "My dog age is 67.\n",
      "\n"
     ]
    }
   ],
   "source": [
    "v=0\n",
    "for i in a.name:\n",
    "    print(\"My dog name is \"+str(i)+\".\\nMy dog age is \"+str(a.age[v])+\".\\n\")\n",
    "    v+=1"
   ]
  },
  {
   "cell_type": "code",
   "execution_count": 9,
   "metadata": {},
   "outputs": [
    {
     "name": "stdout",
     "output_type": "stream",
     "text": [
      "The dogs are:\n",
      "\n",
      "\t-John\n",
      "\t-Sendy\n",
      "\t-June\n",
      "\t-Green\n",
      "\t-Jozf\n"
     ]
    }
   ],
   "source": [
    "print(\"The dogs are:\\n\")\n",
    "for i in a.name:\n",
    "    print('\\t-'+i.title())\n",
    "    "
   ]
  },
  {
   "cell_type": "code",
   "execution_count": 10,
   "metadata": {},
   "outputs": [
    {
     "name": "stdout",
     "output_type": "stream",
     "text": [
      "The dogs ages are:\n",
      "\n",
      "\t- 3 year(s)\n",
      "\t- 4 year(s)\n",
      "\t- 7 year(s)\n",
      "\t- 9 year(s)\n",
      "\t- 67 year(s)\n"
     ]
    }
   ],
   "source": [
    "print(\"The dogs ages are:\\n\")\n",
    "for j in a.age:\n",
    "    print('\\t-',str(j),'year(s)')"
   ]
  },
  {
   "cell_type": "code",
   "execution_count": 11,
   "metadata": {},
   "outputs": [
    {
     "name": "stdout",
     "output_type": "stream",
     "text": [
      "My dog name is john, My dog age is 3 .\n",
      "My dog name is sendy, My dog age is 4 .\n",
      "My dog name is june, My dog age is 7 .\n",
      "My dog name is green, My dog age is 9 .\n",
      "My dog name is jozf, My dog age is 67 .\n"
     ]
    }
   ],
   "source": [
    "n=0\n",
    "for k in a.name:\n",
    "    print(\"My dog name is \"+k+\", My dog age is \"+str(a.age[n])+\" .\")\n",
    "    n+=1"
   ]
  },
  {
   "cell_type": "code",
   "execution_count": 12,
   "metadata": {},
   "outputs": [
    {
     "name": "stdout",
     "output_type": "stream",
     "text": [
      "['john', 'sendy', 'june', 'green', 'jozf'] is sitting\n",
      "['john', 'sendy', 'june', 'green', 'jozf'] is rolling\n",
      "['john', 'sendy', 'june', 'green', 'jozf'] is sitting\n",
      "['john', 'sendy', 'june', 'green', 'jozf'] is rolling\n",
      "['john', 'sendy', 'june', 'green', 'jozf'] is sitting\n",
      "['john', 'sendy', 'june', 'green', 'jozf'] is rolling\n",
      "['john', 'sendy', 'june', 'green', 'jozf'] is sitting\n",
      "['john', 'sendy', 'june', 'green', 'jozf'] is rolling\n",
      "['john', 'sendy', 'june', 'green', 'jozf'] is sitting\n",
      "['john', 'sendy', 'june', 'green', 'jozf'] is rolling\n"
     ]
    }
   ],
   "source": [
    "for i in a.name:\n",
    "    a.sit()\n",
    "    a.roll_over()"
   ]
  },
  {
   "cell_type": "code",
   "execution_count": 13,
   "metadata": {},
   "outputs": [
    {
     "name": "stdout",
     "output_type": "stream",
     "text": [
      "['john', 'sendy', 'june', 'green', 'jozf'] is sitting\n",
      "['john', 'sendy', 'june', 'green', 'jozf'] is sitting\n",
      "['john', 'sendy', 'june', 'green', 'jozf'] is sitting\n",
      "['john', 'sendy', 'june', 'green', 'jozf'] is sitting\n",
      "['john', 'sendy', 'june', 'green', 'jozf'] is sitting\n",
      "['john', 'sendy', 'june', 'green', 'jozf'] is rolling\n"
     ]
    }
   ],
   "source": [
    "for i in a.name:   \n",
    "    a.sit()\n",
    "a.roll_over()"
   ]
  },
  {
   "cell_type": "code",
   "execution_count": 14,
   "metadata": {},
   "outputs": [],
   "source": [
    "class Restaurant():\n",
    "    def __init__(self , r_n, r_ct):\n",
    "        self.r_n=r_n\n",
    "        self.r_ct=r_ct\n",
    "    def desc_r(self):\n",
    "        print('the '+self.r_n+' is of the famous restaurant .\\nIt has mostly '+self.r_ct+' .')\n",
    "    def open_r(self):\n",
    "        print('the '+self.r_n+' opens at 10 am to mid-night. ')\n",
    "a = Restaurant('kolachi Restaurant','sea food')"
   ]
  },
  {
   "cell_type": "code",
   "execution_count": 7,
   "metadata": {},
   "outputs": [
    {
     "name": "stdout",
     "output_type": "stream",
     "text": [
      "\tINSTANCE\n",
      "\n",
      "The kolachi Restaurant is on sea.\n",
      "It has sea food in a range .\n",
      "\tATTRIBUTE\n",
      "\n",
      "kolachi Restaurant\n",
      "sea food\n",
      "\tCALLING MOTHOD\n",
      "\n",
      "the kolachi Restaurant is of the famous restaurant .\n",
      "It has mostly sea food .\n",
      "the kolachi Restaurant opens at 10 am to mid-night. \n",
      "\tCALLING MOTHOD\n",
      "\n",
      "the kolachi Restaurant is of the famous restaurant .\n",
      "It has mostly sea food .\n",
      "the kolachi Restaurant opens at 10 am to mid-night. \n",
      "\n",
      "\tTHREE RESTAURANT\n",
      "\n",
      "\n",
      "kolachi Restaurant Servers sea food\n",
      "The Restaurant Name Is KOLACHI RESTAURANTIt'S Speciality Is SEA FOOD.\n",
      "\n",
      "kolachi Restaurant Servers sea food\n",
      "The Restaurant Name Is KOLACHI RESTAURANTIt'S Speciality Is SEA FOOD.\n",
      "\n",
      "kolachi Restaurant Servers sea food\n",
      "The Restaurant Name Is KOLACHI RESTAURANTIt'S Speciality Is SEA FOOD.\n",
      "\n",
      "\n",
      "The Restaurant Name Is HYDERABAD DARBARA It'S Speciality Is TRATIONAL FOODS\n",
      "The Restaurant Name Is ROYAL TAJIt'S Speciality Is ITALY FOODS \n",
      "The Restaurant Name Is INDUS It'S Speciality Is ASIAN FOODS\n"
     ]
    }
   ],
   "source": [
    "class Restaurant():\n",
    "    def __init__(self , r_n, r_ct):\n",
    "        self.r_n=r_n\n",
    "        self.r_ct=r_ct\n",
    "    def desc_r(self):\n",
    "        print('the '+self.r_n+' is of the famous restaurant .\\nIt has mostly '+self.r_ct+' .')\n",
    "    def open_r(self):\n",
    "        print('the '+self.r_n+' opens at 10 am to mid-night. ')\n",
    "a = Restaurant('kolachi Restaurant','sea food')\n",
    "print('\\tINSTANCE\\n')\n",
    "print('The '+a.r_n+' is on sea.')\n",
    "print(\"It has \"+a.r_ct+\" in a range .\")\n",
    "print('\\tATTRIBUTE\\n')\n",
    "print(a.r_n)\n",
    "print(a.r_ct)\n",
    "print('\\tCALLING MOTHOD\\n')\n",
    "a.desc_r()\n",
    "a.open_r()\n",
    "print('\\tCALLING MOTHOD\\n')\n",
    "a.desc_r()\n",
    "a.open_r()\n",
    "mas = 'the restaurant name is '\n",
    "mas1= \"\\nIt's speciality is \"\n",
    "print('\\n\\tTHREE RESTAURANT')\n",
    "b=Restaurant('Hyderabad Darbara ','Trational foods')\n",
    "c=Restaurant('Royal Taj','Italy Foods ')\n",
    "d=Restaurant('Indus ','Asian Foods')\n",
    "mas = 'the restaurant name is '\n",
    "mas1= \"It's speciality is \"\n",
    "rl =[b,c,d]\n",
    "emrl=[]\n",
    "print('\\n')\n",
    "while rl:\n",
    "    z=rl.pop()\n",
    "    print(a.r_n+\" Servers \"+a.r_ct)\n",
    "    print(mas.title()+a.r_n.upper()+mas1.title()+a.r_ct.upper()+'.\\n')\n",
    "    emrl.append(z)\n",
    "\n",
    "print('\\n'+mas.title()+b.r_n.upper()+mas1.title()+b.r_ct.upper())\n",
    "print(mas.title()+c.r_n.upper()+mas1.title()+c.r_ct.upper())\n",
    "print(mas.title()+d.r_n.upper()+mas1.title()+d.r_ct.upper())"
   ]
  },
  {
   "cell_type": "code",
   "execution_count": 16,
   "metadata": {},
   "outputs": [
    {
     "name": "stdout",
     "output_type": "stream",
     "text": [
      "\tATTRIBUTE\n",
      "\n",
      "Hyderabad Darbara\n",
      "Trational foods\n"
     ]
    }
   ],
   "source": [
    "print('\\tATTRIBUTE\\n')\n",
    "print(a.r_n)\n",
    "print(a.r_ct)"
   ]
  },
  {
   "cell_type": "code",
   "execution_count": 17,
   "metadata": {},
   "outputs": [
    {
     "name": "stdout",
     "output_type": "stream",
     "text": [
      "\tCALLING MOTHOD\n",
      "\n",
      "the Hyderabad Darbara is of the famous restaurant .\n",
      "It has mostly Trational foods .\n",
      "the Hyderabad Darbara opens at 10 am to mid-night. \n"
     ]
    }
   ],
   "source": [
    "print('\\tCALLING MOTHOD\\n')\n",
    "a.desc_r()\n",
    "a.open_r()"
   ]
  },
  {
   "cell_type": "code",
   "execution_count": 18,
   "metadata": {},
   "outputs": [
    {
     "name": "stdout",
     "output_type": "stream",
     "text": [
      "\tTHREE RESTAURANT\n",
      "\n",
      "The Restaurant Name Is HYDERABAD DARBARA \n",
      "It'S Speciality Is TRATIONAL FOODS.\n",
      "\n",
      "The Restaurant Name Is ROYAL TAJ\n",
      "It'S Speciality Is ITALY FOODS .\n",
      "\n",
      "The Restaurant Name Is INDUS \n",
      "It'S Speciality Is ASIAN FOODS.\n",
      "\n"
     ]
    }
   ],
   "source": [
    "mas = 'the restaurant name is '\n",
    "mas1= \"\\nIt's speciality is \"\n",
    "print('\\tTHREE RESTAURANT\\n')\n",
    "b=Restaurant('Hyderabad Darbara ','Trational foods')\n",
    "c=Restaurant('Royal Taj','Italy Foods ')\n",
    "d=Restaurant('Indus ','Asian Foods')\n",
    "\n",
    "print(mas.title()+b.r_n.upper()+mas1.title()+b.r_ct.upper()+'.\\n')\n",
    "print(mas.title()+c.r_n.upper()+mas1.title()+c.r_ct.upper()+'.\\n')\n",
    "print(mas.title()+d.r_n.upper()+mas1.title()+d.r_ct.upper()+'.\\n')"
   ]
  },
  {
   "cell_type": "code",
   "execution_count": 19,
   "metadata": {},
   "outputs": [
    {
     "name": "stdout",
     "output_type": "stream",
     "text": [
      "\tTHREE RESTAURANT\n",
      "\n",
      "Indus Servers Asian Foods.\n",
      "\n",
      "The Restaurant Name Is INDUS\n",
      "It'S Speciality Is ASIAN FOODS.\n",
      "\n",
      "Royal Taj Servers Italy Foods .\n",
      "\n",
      "The Restaurant Name Is ROYAL TAJ\n",
      "It'S Speciality Is ITALY FOODS .\n",
      "\n",
      "Hyderabad Darbara Servers Trational foods.\n",
      "\n",
      "The Restaurant Name Is HYDERABAD DARBARA\n",
      "It'S Speciality Is TRATIONAL FOODS.\n",
      "\n"
     ]
    }
   ],
   "source": [
    "mas = 'the restaurant name is '\n",
    "mas1= \"\\nIt's speciality is \"\n",
    "print('\\tTHREE RESTAURANT\\n')\n",
    "b=Restaurant('Hyderabad Darbara','Trational foods')\n",
    "c=Restaurant('Royal Taj','Italy Foods ')\n",
    "d=Restaurant('Indus','Asian Foods')\n",
    "rl =[b,c,d]\n",
    "emrl=[]\n",
    "while rl:\n",
    "    a=rl.pop()\n",
    "    print(a.r_n+\" Servers \"+a.r_ct+\".\\n\")\n",
    "    print(mas.title()+a.r_n.upper()+mas1.title()+a.r_ct.upper()+'.\\n')\n",
    "    emrl.append(a)\n",
    "    "
   ]
  },
  {
   "cell_type": "markdown",
   "metadata": {},
   "source": [
    "# Working ⚒ with class and instances"
   ]
  },
  {
   "cell_type": "code",
   "execution_count": 20,
   "metadata": {},
   "outputs": [
    {
     "name": "stdout",
     "output_type": "stream",
     "text": [
      "Audi A4 2013\n"
     ]
    }
   ],
   "source": [
    "class Car():\n",
    "    def __init__(self,cn,cmo,cy):\n",
    "        self.cn=cn\n",
    "        self.cmo=cmo\n",
    "        self.cy=cy\n",
    "    def gdn(self):\n",
    "        ln=self.cn+\" \"+self.cmo+\" \"+str(self.cy)\n",
    "        return ln.title()\n",
    "a=Car('audi','a4',2013)\n",
    "print(a.gdn())"
   ]
  },
  {
   "cell_type": "markdown",
   "metadata": {},
   "source": [
    "# setting a default value for a attribute"
   ]
  },
  {
   "cell_type": "code",
   "execution_count": 21,
   "metadata": {},
   "outputs": [
    {
     "name": "stdout",
     "output_type": "stream",
     "text": [
      "Audi A4 2013\n",
      "This car has 0 miles on it\n"
     ]
    }
   ],
   "source": [
    "class Car():\n",
    "    def __init__(self,cn,cmo,cy):\n",
    "        self.cn=cn\n",
    "        self.cmo=cmo\n",
    "        self.cy=cy\n",
    "        self.odometer_reading = 0\n",
    "    def gdn(self):\n",
    "        ln=self.cn+\" \"+self.cmo+\" \"+str(self.cy)\n",
    "        return ln.title()\n",
    "    def read_odometer(self):\n",
    "        print('This car has '+str(self.odometer_reading)+' miles on it')\n",
    "a=Car('audi','a4',2013)\n",
    "print(a.gdn())\n",
    "a.read_odometer()"
   ]
  },
  {
   "cell_type": "markdown",
   "metadata": {},
   "source": [
    "# Modifying Attribute values"
   ]
  },
  {
   "cell_type": "code",
   "execution_count": 22,
   "metadata": {},
   "outputs": [
    {
     "name": "stdout",
     "output_type": "stream",
     "text": [
      "Audi A4 2013\n",
      "This car has 34 miles on it\n"
     ]
    }
   ],
   "source": [
    "class Car():\n",
    "    def __init__(self,cn,cmo,cy):\n",
    "        self.cn=cn\n",
    "        self.cmo=cmo\n",
    "        self.cy=cy\n",
    "        self.odometer_reading = 0\n",
    "    def gdn(self):\n",
    "        ln=self.cn+\" \"+self.cmo+\" \"+str(self.cy)\n",
    "        return ln.title()\n",
    "    def read_odometer(self):\n",
    "        print('This car has '+str(self.odometer_reading)+' miles on it')\n",
    "a=Car('audi','a4',2013)\n",
    "print(a.gdn())\n",
    "a.odometer_reading=34\n",
    "a.read_odometer()"
   ]
  },
  {
   "cell_type": "markdown",
   "metadata": {},
   "source": [
    "# Modifying an Attribute's value through a Method"
   ]
  },
  {
   "cell_type": "code",
   "execution_count": 23,
   "metadata": {},
   "outputs": [
    {
     "name": "stdout",
     "output_type": "stream",
     "text": [
      "Audi A4 2013\n",
      "This car has 34 miles on it\n"
     ]
    }
   ],
   "source": [
    "class Car():\n",
    "    def __init__(self,cn,cmo,cy):\n",
    "        self.cn=cn\n",
    "        self.cmo=cmo\n",
    "        self.cy=cy\n",
    "        self.odometer_reading = 0\n",
    "    def gdn(self):\n",
    "        ln=self.cn+\" \"+self.cmo+\" \"+str(self.cy)\n",
    "        return ln.title()\n",
    "    def read_odometer(self):\n",
    "        print('This car has '+str(self.odometer_reading)+' miles on it')\n",
    "    def update_odometer(self,mileage):\n",
    "        self.odometer_reading = mileage\n",
    "        #print(\"The car has covered \"+str(mileage)+\" miles.\")\n",
    "a=Car('audi','a4',2013)\n",
    "print(a.gdn())\n",
    "a.update_odometer(34)\n",
    "a.read_odometer()"
   ]
  },
  {
   "cell_type": "code",
   "execution_count": 24,
   "metadata": {},
   "outputs": [
    {
     "name": "stdout",
     "output_type": "stream",
     "text": [
      "Audi A4 2013\n",
      "The car has covered 34 miles.\n",
      "This car has 34 miles on it\n"
     ]
    }
   ],
   "source": [
    "class Car():\n",
    "    def __init__(self,cn,cmo,cy):\n",
    "        self.cn=cn\n",
    "        self.cmo=cmo\n",
    "        self.cy=cy\n",
    "        self.odometer_reading = 0\n",
    "    def gdn(self):\n",
    "        ln=self.cn+\" \"+self.cmo+\" \"+str(self.cy)\n",
    "        return ln.title()\n",
    "    def read_odometer(self):\n",
    "        print('This car has '+str(self.odometer_reading)+' miles on it')\n",
    "    def update_odometer(self,mileage):\n",
    "        if mileage >= self.odometer_reading:\n",
    "            self.odometer_reading = mileage\n",
    "            print(\"The car has covered \"+str(mileage)+\" miles.\")\n",
    "        else:\n",
    "            print(\"you can not roll back an odometer. \")\n",
    "a=Car('audi','a4',2013)\n",
    "print(a.gdn())\n",
    "a.update_odometer(34)\n",
    "a.read_odometer()"
   ]
  },
  {
   "cell_type": "markdown",
   "metadata": {},
   "source": [
    "# Incrementing An Attribute value through a method"
   ]
  },
  {
   "cell_type": "code",
   "execution_count": 25,
   "metadata": {},
   "outputs": [
    {
     "name": "stdout",
     "output_type": "stream",
     "text": [
      "Audi A4 2013\n",
      "The car has covered 23500 miles.\n",
      "This car has 23500 miles on it\n",
      "This car has 23600 miles on it\n"
     ]
    }
   ],
   "source": [
    "class Car():\n",
    "    def __init__(self,cn,cmo,cy):\n",
    "        self.cn=cn\n",
    "        self.cmo=cmo\n",
    "        self.cy=cy\n",
    "        self.odometer_reading = 0\n",
    "    def gdn(self):\n",
    "        ln=self.cn+\" \"+self.cmo+\" \"+str(self.cy)\n",
    "        return ln.title()\n",
    "    \n",
    "    def read_odometer(self):\n",
    "        print('This car has '+str(self.odometer_reading)+' miles on it')\n",
    "        \n",
    "    def update_odometer(self,mileage):\n",
    "        if mileage >= self.odometer_reading:\n",
    "            self.odometer_reading = mileage\n",
    "            print(\"The car has covered \"+str(mileage)+\" miles.\")\n",
    "        else:\n",
    "            print(\"you can not roll back an odometer. \")\n",
    "            \n",
    "    def increament_odometer(self,miles):\n",
    "        self.odometer_reading += miles\n",
    "\n",
    "a=Car('audi','a4',2013)\n",
    "print(a.gdn())\n",
    "\n",
    "a.update_odometer(23500)\n",
    "a.read_odometer()\n",
    "\n",
    "a.increament_odometer(100)\n",
    "a.read_odometer()"
   ]
  },
  {
   "cell_type": "code",
   "execution_count": 26,
   "metadata": {},
   "outputs": [
    {
     "name": "stdout",
     "output_type": "stream",
     "text": [
      "They Are 5 Friends \n",
      "They Are Interested In Python Programming\n",
      "They are studying in Sindh university\n",
      "The first year fee of them: 6800\n",
      "the second year fee will be: 7491.0\n",
      "the third year fee will be: 8172.0\n",
      "the fourth year fee will be: 8853.0\n"
     ]
    }
   ],
   "source": [
    "class Friends():\n",
    "    def __init__(self,nf,fi):\n",
    "        self.nf=nf\n",
    "        self.fi=fi\n",
    "        self.un='Sindh university'\n",
    "        self.fee=6800\n",
    "        \n",
    "    def gfinfo(self):\n",
    "        info = \"They are \"+str(self.nf)+\" friends \\nThey are interested in \"+self.fi\n",
    "        return info.title()\n",
    "    \n",
    "    def uni(self):\n",
    "        print('They are studying in '+self.un)\n",
    "        \n",
    "    def unifee(self):\n",
    "        print('The first year fee of them:',int(self.fee))\n",
    "        \n",
    "    def update_fee(self,incr_fee):\n",
    "        self.fee=incr_fee\n",
    "        \n",
    "        if self.fee==incr_fee:\n",
    "            a=incr_fee*10/100+incr_fee\n",
    "            self.fee = a\n",
    "            print(\"the second year fee will be:\",a)\n",
    "            \n",
    "            if self.fee == a:\n",
    "                b=incr_fee*20/100+incr_fee\n",
    "                self.fee = b\n",
    "                print('the third year fee will be:',b)\n",
    "                \n",
    "                if self.fee == b:\n",
    "                    c=incr_fee*30/100+incr_fee\n",
    "                    self.fee = c\n",
    "                    print('the fourth year fee will be:',c)\n",
    "                \n",
    "        else:\n",
    "            print(\"😰🤯\")\n",
    "a=Friends(5,'python programming')\n",
    "print(a.gfinfo())\n",
    "a.uni()\n",
    "a.unifee()\n",
    "\n",
    "#a.fee=(70)\n",
    "#a.unifee()\n",
    "a.update_fee(6810)\n",
    "#a.unifee()\n"
   ]
  },
  {
   "cell_type": "markdown",
   "metadata": {},
   "source": [
    "# INHERITANCE"
   ]
  },
  {
   "cell_type": "code",
   "execution_count": 27,
   "metadata": {},
   "outputs": [
    {
     "name": "stdout",
     "output_type": "stream",
     "text": [
      "main class \n",
      "Audi A4 2013\n",
      "Tesls Models 2134\n",
      "The car has covered 23500 miles.\n",
      "This car has 23600 miles on it\n"
     ]
    }
   ],
   "source": [
    "class Car():\n",
    "    def __init__(self,cn,cmo,cy):\n",
    "        self.cn=cn\n",
    "        self.cmo=cmo\n",
    "        self.cy=cy\n",
    "        self.odometer_reading = 0\n",
    "    def gdn(self):\n",
    "        ln=self.cn+\" \"+self.cmo+\" \"+str(self.cy)\n",
    "        return ln.title()\n",
    "    \n",
    "    def read_odometer(self):\n",
    "        print('This car has '+str(self.odometer_reading)+' miles on it')\n",
    "        \n",
    "    def update_odometer(self,mileage):\n",
    "        if mileage >= self.odometer_reading:\n",
    "            self.odometer_reading = mileage\n",
    "            print(\"The car has covered \"+str(mileage)+\" miles.\")\n",
    "        else:\n",
    "            print(\"you can not roll back an odometer. \")\n",
    "            \n",
    "    def increament_odometer(self,miles):\n",
    "        self.odometer_reading += miles\n",
    "        \n",
    "class Electric(Car):\n",
    "    \n",
    "    def __inti__ (self,cn,cmo,cy):\n",
    "        super().__inti__(cn,cmo,cy)\n",
    "        self.f = 30\n",
    "        \n",
    "    #def describe_battery(self):\n",
    "        #print(\"this car has a \" +str(self.f)+ \" -kwh battery. \")\n",
    "        \n",
    "        \n",
    "a=Car('audi','a4',2013)\n",
    "print('main class \\n'+a.gdn())\n",
    "\n",
    "\n",
    "ca=Electric('tesls','models',2134)\n",
    "print(ca.gdn())\n",
    "#ca.describe_battery()\n",
    "\n",
    "a.update_odometer(23500)\n",
    "a.increament_odometer(100)\n",
    "a.read_odometer()"
   ]
  },
  {
   "cell_type": "code",
   "execution_count": 28,
   "metadata": {},
   "outputs": [
    {
     "name": "stdout",
     "output_type": "stream",
     "text": [
      "Tesla Model S 2016\n",
      "This car has a 70-kWh battery.\n",
      "main class \n",
      "Audi A4 2013\n",
      "The car has covered 23500 miles.\n",
      "This car has 23600 miles on it\n"
     ]
    }
   ],
   "source": [
    "class Car():\n",
    "    def __init__(self,cn,cmo,cy):\n",
    "        self.cn=cn\n",
    "        self.cmo=cmo\n",
    "        self.cy=cy\n",
    "        self.odometer_reading = 0\n",
    "    def gdn(self):\n",
    "        ln=self.cn+\" \"+self.cmo+\" \"+str(self.cy)\n",
    "        return ln.title()\n",
    "    \n",
    "    def read_odometer(self):\n",
    "        print('This car has '+str(self.odometer_reading)+' miles on it')\n",
    "        \n",
    "    def update_odometer(self,mileage):\n",
    "        if mileage >= self.odometer_reading:\n",
    "            self.odometer_reading = mileage\n",
    "            print(\"The car has covered \"+str(mileage)+\" miles.\")\n",
    "        else:\n",
    "            print(\"you can not roll back an odometer. \")\n",
    "            \n",
    "    def increament_odometer(self,miles):\n",
    "        self.odometer_reading += miles\n",
    "        \n",
    "class ElectricCar(Car):\n",
    "    def __init__(self,cn,cmo,cy):\n",
    "        super().__init__(cn,cmo,cy)\n",
    "        self.battery_size = 70\n",
    "    def describe_battery(self):\n",
    "        print(\"This car has a \" + str(self.battery_size) + \"-kWh battery.\")\n",
    "        \n",
    "my_tesla = ElectricCar('tesla', 'model s', 2016)\n",
    "print(my_tesla.gdn())\n",
    "my_tesla.describe_battery()\n",
    "a=Car('audi','a4',2013)\n",
    "print('main class \\n'+a.gdn())\n",
    "a.update_odometer(23500)\n",
    "a.increament_odometer(100)\n",
    "a.read_odometer()"
   ]
  },
  {
   "cell_type": "code",
   "execution_count": 29,
   "metadata": {},
   "outputs": [
    {
     "name": "stdout",
     "output_type": "stream",
     "text": [
      "The Class Is Atif And Class Last Name Is Qureshi\n",
      "the age of class is 34\n",
      "The Class Is Musab And Class Last Name Is Ahemed\n",
      "Musab Ahemed lives in uk in house 564\n"
     ]
    }
   ],
   "source": [
    "class Atif():\n",
    "    def __init__(self,name,ln):\n",
    "        self.name = name\n",
    "        self.ln = ln \n",
    "        self.age = 34\n",
    "    def gdn(self):\n",
    "        fn='the class is '+self.name+' and class last name is '+self.ln\n",
    "        return fn.title()\n",
    "    def age_a(self):\n",
    "        print('the age of class is '+str(self.age))\n",
    "    def read_odometer(self):\n",
    "        print('This car has '+str(self.odometer_reading)+' miles on it')\n",
    "    \n",
    "class Baby(Atif):\n",
    "    def __init__(self,name,ln):\n",
    "        super().__init__(name,ln)\n",
    "        self.country = 'uk'\n",
    "        self.hn = 564\n",
    "    def dc(self):\n",
    "        print(self.name.title()+' '+self.ln.title()+' lives in '+ self.country+' in house '+str(self.hn))\n",
    "           #print(self.name+self' lives in '+self.country+' and his house number is '+str(self.hn))\n",
    "a = Atif('atif','qureshi')\n",
    "print(a.gdn())\n",
    "a.age_a()\n",
    "b = Baby('musab','ahemed')\n",
    "print(b.gdn())\n",
    "b.dc()"
   ]
  },
  {
   "cell_type": "markdown",
   "metadata": {},
   "source": [
    "# Overriding Methods from the Parent Class"
   ]
  },
  {
   "cell_type": "code",
   "execution_count": 30,
   "metadata": {},
   "outputs": [
    {
     "name": "stdout",
     "output_type": "stream",
     "text": [
      "Tesla Model S 2016\n",
      "This car has a 70-kWh battery.\n",
      "main class \n",
      "Audi A4 2013\n",
      "The car has covered 23500 miles.\n",
      "This car has 23600 miles on it\n"
     ]
    }
   ],
   "source": [
    "class Car():\n",
    "    def __init__(self,cn,cmo,cy):\n",
    "        self.cn=cn\n",
    "        self.cmo=cmo\n",
    "        self.cy=cy\n",
    "        self.odometer_reading = 0\n",
    "    def gdn(self):\n",
    "        ln=self.cn+\" \"+self.cmo+\" \"+str(self.cy)\n",
    "        return ln.title()\n",
    "    \n",
    "    def read_odometer(self):\n",
    "        print('This car has '+str(self.odometer_reading)+' miles on it')\n",
    "        \n",
    "    def update_odometer(self,mileage):\n",
    "        if mileage >= self.odometer_reading:\n",
    "            self.odometer_reading = mileage\n",
    "            print(\"The car has covered \"+str(mileage)+\" miles.\")\n",
    "        else:\n",
    "            print(\"you can not roll back an odometer. \")\n",
    "            \n",
    "    def increament_odometer(self,miles):\n",
    "        self.odometer_reading += miles\n",
    "        \n",
    "class ElectricCar(Car):\n",
    "    def __init__(self,cn,cmo,cy):\n",
    "        super().__init__(cn,cmo,cy)\n",
    "        self.battery_size = 70\n",
    "    def describe_battery(self):\n",
    "        print(\"This car has a \" + str(self.battery_size) + \"-kWh battery.\")\n",
    "    def fill_gas_tank():\n",
    "        print(\"This car doesn't need a gas tank!\")\n",
    "        \n",
    "my_tesla = ElectricCar('tesla', 'model s', 2016)\n",
    "print(my_tesla.gdn())\n",
    "my_tesla.describe_battery()\n",
    "a=Car('audi','a4',2013)\n",
    "print('main class \\n'+a.gdn())\n",
    "a.update_odometer(23500)\n",
    "a.increament_odometer(100)\n",
    "a.read_odometer()"
   ]
  },
  {
   "cell_type": "markdown",
   "metadata": {},
   "source": [
    "# Instances as Attributes"
   ]
  },
  {
   "cell_type": "code",
   "execution_count": 31,
   "metadata": {},
   "outputs": [
    {
     "name": "stdout",
     "output_type": "stream",
     "text": [
      "main class \n",
      "Audi A4 2013\n",
      "The car has covered 23500 miles.\n",
      "This car has 23600 miles on it\n",
      "Tesla Model S 2016\n",
      "the battery size is 990 .\n"
     ]
    }
   ],
   "source": [
    "class Car():\n",
    "    def __init__(self,cn,cmo,cy):\n",
    "        self.cn=cn\n",
    "        self.cmo=cmo\n",
    "        self.cy=cy\n",
    "        self.odometer_reading = 0\n",
    "    def gdn(self):\n",
    "        ln=self.cn+\" \"+self.cmo+\" \"+str(self.cy)\n",
    "        return ln.title()\n",
    "    \n",
    "    def read_odometer(self):\n",
    "        print('This car has '+str(self.odometer_reading)+' miles on it')\n",
    "        \n",
    "    def update_odometer(self,mileage):\n",
    "        if mileage >= self.odometer_reading:\n",
    "            self.odometer_reading = mileage\n",
    "            print(\"The car has covered \"+str(mileage)+\" miles.\")\n",
    "        else:\n",
    "            print(\"you can not roll back an odometer. \")\n",
    "            \n",
    "    def increament_odometer(self,miles):\n",
    "        self.odometer_reading += miles\n",
    "        \n",
    "class Battery():\n",
    "    def __init__(self,battery_size=990):\n",
    "        self.battery_size=battery_size\n",
    "    def db(self):\n",
    "        print('the battery size is '+str(self.battery_size)+' .')\n",
    "        \n",
    "        \n",
    "class ElectricCar(Car):\n",
    "    def __init__(self,cn,cmo,cy):\n",
    "        super().__init__(cn,cmo,cy)\n",
    "        self.battery_size = Battery()\n",
    "    def describe_battery(self):\n",
    "        print(\"This car has a \" + str(self.battery_size) + \"-kWh battery.\")\n",
    "    def fill_gas_tank():\n",
    "        print(\"This car doesn't need a gas tank!\")\n",
    "        \n",
    "a=Car('audi','a4',2013)\n",
    "print('main class \\n'+a.gdn())\n",
    "a.update_odometer(23500)\n",
    "a.increament_odometer(100)\n",
    "a.read_odometer()\n",
    "\n",
    "my_tesla = ElectricCar('tesla', 'model s', 2016)\n",
    "print(my_tesla.gdn())\n",
    "my_tesla.battery_size.db()\n",
    "\n"
   ]
  },
  {
   "cell_type": "code",
   "execution_count": 32,
   "metadata": {},
   "outputs": [
    {
     "name": "stdout",
     "output_type": "stream",
     "text": [
      "main class \n",
      "Audi A4 2013\n",
      "The car has covered 23500 miles.\n",
      "This car has 23600 miles on it\n",
      "Tesla Model S 2016\n",
      "the battery size is 990 .\n",
      "This Car Go Approximately 1000 Mlies On A Full Charge\n"
     ]
    }
   ],
   "source": [
    "class Car():\n",
    "    def __init__(self,cn,cmo,cy):\n",
    "        self.cn=cn\n",
    "        self.cmo=cmo\n",
    "        self.cy=cy\n",
    "        self.odometer_reading = 0\n",
    "    def gdn(self):\n",
    "        ln=self.cn+\" \"+self.cmo+\" \"+str(self.cy)\n",
    "        return ln.title()\n",
    "    \n",
    "    def read_odometer(self):\n",
    "        print('This car has '+str(self.odometer_reading)+' miles on it')\n",
    "        \n",
    "    def update_odometer(self,mileage):\n",
    "        if mileage >= self.odometer_reading:\n",
    "            self.odometer_reading = mileage\n",
    "            print(\"The car has covered \"+str(mileage)+\" miles.\")\n",
    "        else:\n",
    "            print(\"you can not roll back an odometer. \")\n",
    "            \n",
    "    def increament_odometer(self,miles):\n",
    "        self.odometer_reading += miles\n",
    "        \n",
    "class Battery():\n",
    "    def __init__(self,battery_size=990):\n",
    "        self.battery_size=battery_size\n",
    "        \n",
    "    def db(self):\n",
    "        print('the battery size is '+str(self.battery_size)+' .')\n",
    "        \n",
    "    def get_range(self):\n",
    "        if self.battery_size == 990 :\n",
    "            range = 1000\n",
    "            mas='this car go approximately '+str(range)\n",
    "            mas+=' mlies on a full charge'\n",
    "            print(mas.title())\n",
    "        \n",
    "class ElectricCar(Car):\n",
    "    def __init__(self,cn,cmo,cy):\n",
    "        super().__init__(cn,cmo,cy)\n",
    "        self.battery_size = Battery()\n",
    "    def describe_battery(self):\n",
    "        print(\"This car has a \" + str(self.battery_size) + \"-kWh battery.\")\n",
    "    def fill_gas_tank():\n",
    "        print(\"This car doesn't need a gas tank!\")\n",
    "        \n",
    "a=Car('audi','a4',2013)\n",
    "print('main class \\n'+a.gdn())\n",
    "a.update_odometer(23500)\n",
    "a.increament_odometer(100)\n",
    "a.read_odometer()\n",
    "\n",
    "my_tesla = ElectricCar('tesla', 'model s', 2016)\n",
    "print(my_tesla.gdn())\n",
    "my_tesla.battery_size.db()\n",
    "my_tesla.battery_size.get_range()\n"
   ]
  },
  {
   "cell_type": "markdown",
   "metadata": {},
   "source": [
    "# task"
   ]
  },
  {
   "cell_type": "raw",
   "metadata": {},
   "source": [
    "9-6. Ice Cream Stand: An ice cream stand is a specific kind of restaurant. Write\n",
    "a class called IceCreamStand that inherits from the Restaurant class you wrote\n",
    "in Exercise 9-1 (page 166) or Exercise 9-4 (page 171). Either version of\n",
    "the class will work; just pick the one you like better. Add an attribute called\n",
    "flavors that stores a list of ice cream flavors. Write a method that displays\n",
    "these flavors. Create an instance of IceCreamStand, and call this method"
   ]
  },
  {
   "cell_type": "code",
   "execution_count": 82,
   "metadata": {},
   "outputs": [
    {
     "name": "stdout",
     "output_type": "stream",
     "text": [
      "\tCALLING MOTHOD\n",
      "\n",
      "the kolachi Restaurant is of the famous restaurant .\n",
      "It has mostly sea food .\n",
      "the kolachi Restaurant opens at 10 am to mid-night. \n",
      "\n",
      "\tTHREE RESTAURANT\n",
      "\n",
      "Indus  Servers Asian Foods.\n",
      "Royal Taj Servers Italy Foods .\n",
      "Hyderabad Darbara  Servers Trational foods.\n",
      " \n",
      "the ice-cream is of the famous restaurant .\n",
      "It has mostly flavours .\n",
      "\t-stouebarry\n",
      "\t-pistacho\n",
      "\t-pinaple\n"
     ]
    }
   ],
   "source": [
    "class Restaurant():\n",
    "    def __init__(self , r_n, r_ct):\n",
    "        self.r_n=r_n\n",
    "        self.r_ct=r_ct\n",
    "       # self.emrl =[]\n",
    "    def desc_r(self):\n",
    "        print('the '+self.r_n+' is of the famous restaurant .\\nIt has mostly '+self.r_ct+' .')\n",
    "    def open_r(self):\n",
    "        print('the '+self.r_n+' opens at 10 am to mid-night. ')\n",
    "class IceCreamStand(Restaurant):\n",
    "    def __init__(self,r_n, r_ct):\n",
    "        super().__init__(r_n, r_ct)\n",
    "        self.flavour = ['stouebarry','pistacho','pinaple']\n",
    "    def display_flavours(self):\n",
    "        print(self.flavour)\n",
    "a = Restaurant('kolachi Restaurant','sea food')\n",
    "print('\\tCALLING MOTHOD\\n')\n",
    "a.desc_r()\n",
    "a.open_r()\n",
    "print('\\n\\tTHREE RESTAURANT\\n')\n",
    "b=Restaurant('Hyderabad Darbara ','Trational foods')\n",
    "c=Restaurant('Royal Taj','Italy Foods ')\n",
    "d=Restaurant('Indus ','Asian Foods')\n",
    "rl =[b,c,d]\n",
    "emrl=[]\n",
    "while rl:\n",
    "    a=rl.pop()\n",
    "    print(a.r_n+\" Servers \"+a.r_ct+\".\")\n",
    "    emrl.append(a)\n",
    "print(' ')\n",
    "b = IceCreamStand('ice-cream','flavours')\n",
    "b.desc_r()\n",
    "for i in b.flavour:\n",
    "    print('\\t-'+i)"
   ]
  },
  {
   "cell_type": "raw",
   "metadata": {},
   "source": [
    "Admin: An administrator is a special kind of user. Write a class called\n",
    "Admin that inherits from the User class you wrote in Exercise 9-3 (page 166)\n",
    "or Exercise 9-5 (page 171). Add an attribute, privileges, that stores a list\n",
    "of strings like \"can add post\", \"can delete post\", \"can ban user\", and so on.\n",
    "Write a method called show_privileges() that lists the administrator’s set of\n",
    "privileges. Create an instance of Admin, and call your method."
   ]
  },
  {
   "cell_type": "code",
   "execution_count": 34,
   "metadata": {},
   "outputs": [
    {
     "name": "stdout",
     "output_type": "stream",
     "text": [
      "Atif Adminisrator\n",
      "Ali Administrator\n",
      " \n",
      "\tAtif can add post. \n",
      "\tAtif can select post. \n",
      "\tAtif can delect post. \n",
      "\tAtif can be a user. \n"
     ]
    }
   ],
   "source": [
    "class Admin():\n",
    "    def __init__(self,name,position):\n",
    "        self.name=name\n",
    "        self.position=position\n",
    "    def gdn(self):\n",
    "        x = self.name+' '+self.position\n",
    "        return x.title()\n",
    "class Privileges():\n",
    "    def __init__(self,power):\n",
    "        self.power=power\n",
    "    def dp(self):\n",
    "        for i in self.power:\n",
    "            print(a.name+i)\n",
    "        while self.power:\n",
    "            z=self.power.pop()\n",
    "            print(b.position+z)\n",
    "        \n",
    "class User(Admin):\n",
    "    def __init__(self,name,position):\n",
    "        super().__init__(name,position)\n",
    "        self.privileges = [' can add post. ',' can select post. ',' can delect post. ',' can be a user. ']\n",
    "    def show_privileges(self):\n",
    "        print(self.privileges)\n",
    "a=Admin('Atif','Adminisrator')\n",
    "print(a.gdn())\n",
    "b=User('ali','Administrator')\n",
    "print(b.gdn())\n",
    "print(' ')\n",
    "for i in b.privileges:\n",
    "    print('\\t'+a.name+i)"
   ]
  },
  {
   "cell_type": "raw",
   "metadata": {},
   "source": [
    "9-8. Privileges: Write a separate Privileges class. The class should have one\n",
    "attribute, privileges, that stores a list of strings as described in Exercise 9-7.\n",
    "Move the show_privileges() method to this class. Make a Privileges instance\n",
    "as an attribute in the Admin class. Create a new instance of Admin and use your\n",
    "method to show its privileges"
   ]
  },
  {
   "cell_type": "code",
   "execution_count": 35,
   "metadata": {},
   "outputs": [
    {
     "name": "stdout",
     "output_type": "stream",
     "text": [
      "Atif Adminisrator\n",
      "Ali Administrator\n",
      " \n",
      "\tAtif CAN ADD POST. \n",
      "\tAtif CAN SELECT POST. \n",
      "\tAtif CAN DELECT POST. \n",
      "\tAtif CAN BE A USER. \n",
      " \n",
      "Ali Can Be A User. \n",
      "Ali Can Delect Post. \n",
      "Ali Can Select Post. \n",
      "Ali Can Add Post. \n"
     ]
    }
   ],
   "source": [
    "class Admin():\n",
    "    def __init__(self,name,position):\n",
    "        self.name=name\n",
    "        self.position=position\n",
    "    def gdn(self):\n",
    "        x = self.name+' '+self.position\n",
    "        return x.title()\n",
    "class Privileges():\n",
    "    def __init__(self,power=[' can add post. ',' can select post. ',' can delect post. ',' can be a user. ']):\n",
    "        self.power=power\n",
    "    \n",
    "    def dp(self):\n",
    "        print(' ')\n",
    "        for i in self.power:\n",
    "            print('\\t'+a.name+i.upper())\n",
    "        print(' ')\n",
    "        while self.power:\n",
    "            z=self.power.pop()\n",
    "            print(b.name+z.title())\n",
    "        \n",
    "class User(Admin):\n",
    "    def __init__(self,name,position):\n",
    "        super().__init__(name,position)\n",
    "        self.privileges = Privileges()\n",
    "    def show_privileges(self):\n",
    "        print(self.privileges)\n",
    "a=Admin('Atif','Adminisrator')\n",
    "print(a.gdn())\n",
    "b=User('Ali','Administrator')\n",
    "print(b.gdn())\n",
    "b.privileges.dp()"
   ]
  },
  {
   "cell_type": "raw",
   "metadata": {},
   "source": [
    "Battery Upgrade: Use the final version of electric_car.py from this section.\n",
    "Add a method to the Battery class called upgrade_battery(). This method\n",
    "should check the battery size and set the capacity to 85 if it isn’t already.\n",
    "Make an electric car with a default battery size, call get_range() once, and\n",
    "then call get_range() a second time after upgrading the battery. You should\n",
    "see an increase in the car’s range."
   ]
  },
  {
   "cell_type": "markdown",
   "metadata": {},
   "source": [
    "# Importing Classes"
   ]
  },
  {
   "cell_type": "code",
   "execution_count": 36,
   "metadata": {},
   "outputs": [
    {
     "name": "stdout",
     "output_type": "stream",
     "text": [
      "main class Audi A4 2013\n",
      "The car has covered 23500 miles.\n",
      "This car has 23600 miles on it\n",
      "=-=-=-=-=-=-\n",
      "Tesla Model S 2016\n",
      "This car has a 70-kWh battery.\n",
      "This car has 768 miles on it\n"
     ]
    }
   ],
   "source": [
    "from car import Car\n",
    "from car import ElectricCar\n",
    "a=Car('audi','a4',2013)\n",
    "print('main class '+a.gdn())\n",
    "a.update_odometer(23500)\n",
    "a.increament_odometer(100)\n",
    "a.read_odometer()\n",
    "print('=-=-=-=-=-=-')\n",
    "my_tesla = ElectricCar('tesla', 'model s', 2016)\n",
    "print(my_tesla.gdn())\n",
    "my_tesla.describe_battery()\n",
    "my_tesla.increament_odometer(768)\n",
    "my_tesla.read_odometer()"
   ]
  },
  {
   "cell_type": "code",
   "execution_count": 37,
   "metadata": {},
   "outputs": [
    {
     "name": "stdout",
     "output_type": "stream",
     "text": [
      "Atif Adminisrator\n",
      "Ali Administrator\n",
      " \n",
      "\tAtif can add post. \n",
      "\tAtif can select post. \n",
      "\tAtif can delect post. \n",
      "\tAtif can be a user. \n"
     ]
    }
   ],
   "source": [
    "from admin import Admin\n",
    "from admin import User\n",
    "class Privileges():\n",
    "    def __init__(self,power=[' can add post. ',' can select post. ',' can delect post. ',' can be a user. ']):\n",
    "        self.power=power\n",
    "    def dp(self):\n",
    "        print(' ')\n",
    "        for i in self.power:\n",
    "            print('\\t'+a.name+i.upper())\n",
    "        print(' ')\n",
    "        while self.power:\n",
    "            z=self.power.pop()\n",
    "            print(b.name+z.title())\n",
    "a=Admin('Atif','Adminisrator')\n",
    "print(a.gdn())\n",
    "b=User('ali','Administrator')\n",
    "print(b.gdn())\n",
    "print(' ')\n",
    "for i in b.privileges:\n",
    "    print('\\t'+a.name+i)"
   ]
  },
  {
   "cell_type": "markdown",
   "metadata": {},
   "source": [
    "# Importing Multiple Classes from a Module"
   ]
  },
  {
   "cell_type": "code",
   "execution_count": 38,
   "metadata": {},
   "outputs": [
    {
     "name": "stdout",
     "output_type": "stream",
     "text": [
      "Atif Adminisrator\n",
      "Ali Administrator\n",
      " \n",
      "\tAtif can add post. \n",
      "\tAtif can select post. \n",
      "\tAtif can delect post. \n",
      "\tAtif can be a user. \n"
     ]
    }
   ],
   "source": [
    "from admin import Admin,User\n",
    "class Privileges():\n",
    "    def __init__(self,power=[' can add post. ',' can select post. ',' can delect post. ',' can be a user. ']):\n",
    "        self.power=power\n",
    "    def dp(self):\n",
    "        print(' ')\n",
    "        for i in self.power:\n",
    "            print('\\t'+a.name+i.upper())\n",
    "        print(' ')\n",
    "        while self.power:\n",
    "            z=self.power.pop()\n",
    "            print(b.name+z.title())\n",
    "a=Admin('Atif','Adminisrator')\n",
    "print(a.gdn())\n",
    "b=User('ali','Administrator')\n",
    "print(b.gdn())\n",
    "print(' ')\n",
    "for i in b.privileges:\n",
    "    print('\\t'+a.name+i)"
   ]
  },
  {
   "cell_type": "markdown",
   "metadata": {},
   "source": [
    "# Importing an Entire Module"
   ]
  },
  {
   "cell_type": "code",
   "execution_count": 39,
   "metadata": {},
   "outputs": [
    {
     "name": "stdout",
     "output_type": "stream",
     "text": [
      "Atif Adminisrator\n",
      "Ali Administrator\n",
      " \n",
      "\tAtif can add post. \n",
      "\tAtif can select post. \n",
      "\tAtif can delect post. \n",
      "\tAtif can be a user. \n"
     ]
    }
   ],
   "source": [
    "import admin\n",
    "a=Admin('Atif','Adminisrator')\n",
    "print(a.gdn())\n",
    "b=User('ali','Administrator')\n",
    "print(b.gdn())\n",
    "print(' ')\n",
    "for i in b.privileges:\n",
    "    print('\\t'+a.name+i)"
   ]
  },
  {
   "cell_type": "markdown",
   "metadata": {},
   "source": [
    "# Importing All Classes from a Module"
   ]
  },
  {
   "cell_type": "code",
   "execution_count": 40,
   "metadata": {},
   "outputs": [],
   "source": [
    "from admin import *"
   ]
  },
  {
   "cell_type": "markdown",
   "metadata": {},
   "source": [
    "# The Python Standard Library"
   ]
  },
  {
   "cell_type": "raw",
   "metadata": {},
   "source": [
    "# 9-13. OrderedDict Rewrite: Start with Exercise 6-4 (page 108), where you\n",
    "used a standard dictionary to represent a glossary. Rewrite the program using\n",
    "the OrderedDict class and make sure the order of the output matches the order\n",
    "in which key-value pairs were added to the dictionary."
   ]
  },
  {
   "cell_type": "code",
   "execution_count": 41,
   "metadata": {},
   "outputs": [
    {
     "name": "stdout",
     "output_type": "stream",
     "text": [
      "{'append': '1_argument', 'insert': '2_arguments', 'del': '1_argument', 'remove': '2_arguments', 'pop': '1_argument'} \n",
      "\n"
     ]
    },
    {
     "ename": "NameError",
     "evalue": "name 'glossary' is not defined",
     "output_type": "error",
     "traceback": [
      "\u001b[1;31m---------------------------------------------------------------------------\u001b[0m",
      "\u001b[1;31mNameError\u001b[0m                                 Traceback (most recent call last)",
      "\u001b[1;32m<ipython-input-41-49793da7f41d>\u001b[0m in \u001b[0;36m<module>\u001b[1;34m\u001b[0m\n\u001b[0;32m     13\u001b[0m          \u001b[1;34m'pop'\u001b[0m\u001b[1;33m:\u001b[0m\u001b[1;34m'1_argument'\u001b[0m\u001b[1;33m\u001b[0m\u001b[1;33m\u001b[0m\u001b[0m\n\u001b[0;32m     14\u001b[0m          })\n\u001b[1;32m---> 15\u001b[1;33m \u001b[0ma\u001b[0m\u001b[1;33m.\u001b[0m\u001b[0mshow_glossary\u001b[0m\u001b[1;33m(\u001b[0m\u001b[1;33m)\u001b[0m\u001b[1;33m\u001b[0m\u001b[1;33m\u001b[0m\u001b[0m\n\u001b[0m",
      "\u001b[1;32m<ipython-input-41-49793da7f41d>\u001b[0m in \u001b[0;36mshow_glossary\u001b[1;34m(self)\u001b[0m\n\u001b[0;32m      4\u001b[0m     \u001b[1;32mdef\u001b[0m \u001b[0mshow_glossary\u001b[0m\u001b[1;33m(\u001b[0m\u001b[0mself\u001b[0m\u001b[1;33m)\u001b[0m\u001b[1;33m:\u001b[0m\u001b[1;33m\u001b[0m\u001b[1;33m\u001b[0m\u001b[0m\n\u001b[0;32m      5\u001b[0m         \u001b[0mprint\u001b[0m\u001b[1;33m(\u001b[0m\u001b[0mself\u001b[0m\u001b[1;33m.\u001b[0m\u001b[0mglossary\u001b[0m\u001b[1;33m,\u001b[0m\u001b[1;34m'\\n'\u001b[0m\u001b[1;33m)\u001b[0m\u001b[1;33m\u001b[0m\u001b[1;33m\u001b[0m\u001b[0m\n\u001b[1;32m----> 6\u001b[1;33m         \u001b[1;32mfor\u001b[0m \u001b[0mi\u001b[0m\u001b[1;33m,\u001b[0m\u001b[0mj\u001b[0m \u001b[1;32min\u001b[0m \u001b[0mglossary\u001b[0m\u001b[1;33m.\u001b[0m\u001b[0mitems\u001b[0m\u001b[1;33m(\u001b[0m\u001b[1;33m)\u001b[0m\u001b[1;33m:\u001b[0m\u001b[1;33m\u001b[0m\u001b[1;33m\u001b[0m\u001b[0m\n\u001b[0m\u001b[0;32m      7\u001b[0m             \u001b[0mprint\u001b[0m\u001b[1;33m(\u001b[0m\u001b[0mi\u001b[0m\u001b[1;33m.\u001b[0m\u001b[0mtitle\u001b[0m\u001b[1;33m(\u001b[0m\u001b[1;33m)\u001b[0m\u001b[1;33m+\u001b[0m\u001b[1;34m'↘\\n\\t'\u001b[0m\u001b[1;33m+\u001b[0m\u001b[0mj\u001b[0m\u001b[1;33m.\u001b[0m\u001b[0mtitle\u001b[0m\u001b[1;33m(\u001b[0m\u001b[1;33m)\u001b[0m\u001b[1;33m)\u001b[0m\u001b[1;33m\u001b[0m\u001b[1;33m\u001b[0m\u001b[0m\n\u001b[0;32m      8\u001b[0m \u001b[1;33m\u001b[0m\u001b[0m\n",
      "\u001b[1;31mNameError\u001b[0m: name 'glossary' is not defined"
     ]
    }
   ],
   "source": [
    "class OrderedDict():\n",
    "    def __init__(self,glossary):\n",
    "        self.glossary=glossary\n",
    "    def show_glossary(self):\n",
    "        print(self.glossary,'\\n')\n",
    "        for i,j in glossary.items():\n",
    "            print(i.title()+'↘\\n\\t'+j.title())\n",
    "        \n",
    "a=OrderedDict(glossary={'append':'1_argument',\n",
    "         'insert':'2_arguments',\n",
    "         'del':'1_argument',\n",
    "         'remove':'2_arguments',\n",
    "         'pop':'1_argument'\n",
    "         })\n",
    "a.show_glossary()"
   ]
  },
  {
   "cell_type": "code",
   "execution_count": null,
   "metadata": {},
   "outputs": [],
   "source": [
    "9-14. Dice: The module random contains functions that generate random numbers\n",
    "in a variety of ways. The function randint() returns an integer in the\n",
    "range you provide. The following code returns a number between 1 and 6:\n",
    "from random import randint\n",
    "x = randint(1, 6)\n",
    "Make a class Die with one attribute called sides, which has a default\n",
    "value of 6. Write a method called roll_die() that prints a random number\n",
    "between 1 and the number of sides the die has. Make a 6-sided die and roll\n",
    "it 10 times.\n",
    "Make a 10-sided die and a 20-sided die. Roll each die 10 times.y"
   ]
  },
  {
   "cell_type": "code",
   "execution_count": null,
   "metadata": {},
   "outputs": [],
   "source": [
    "from random import randint\n",
    "x = randint(1, 6)\n",
    "class Die():\n",
    "    def __init__(self):\n",
    "        self.sides=6\n",
    "    def roll_die(self):\n",
    "        for i in range(x):\n",
    "            a = 'the die has '+str(self.sides)+' sides and number of one side is '+str(x)\n",
    "            return a.title()\n",
    "b = Die()\n",
    "print(b.roll_die())"
   ]
  },
  {
   "cell_type": "code",
   "execution_count": null,
   "metadata": {},
   "outputs": [],
   "source": [
    "from random import randint\n",
    "def ran_num():\n",
    "    x=randint(50,100)\n",
    "    for i in range(x):\n",
    "        number = x\n",
    "    return number\n",
    "ran_num()\n"
   ]
  },
  {
   "cell_type": "code",
   "execution_count": null,
   "metadata": {},
   "outputs": [],
   "source": [
    "from random import randint\n",
    "x = randint(1,6)\n",
    "def randint():\n",
    "    a =x\n",
    "    return a\n",
    "for i in range(1,11):\n",
    "    print(i,randint())"
   ]
  },
  {
   "cell_type": "code",
   "execution_count": null,
   "metadata": {},
   "outputs": [],
   "source": []
  },
  {
   "cell_type": "code",
   "execution_count": null,
   "metadata": {},
   "outputs": [],
   "source": []
  },
  {
   "cell_type": "code",
   "execution_count": null,
   "metadata": {},
   "outputs": [],
   "source": []
  },
  {
   "cell_type": "code",
   "execution_count": null,
   "metadata": {},
   "outputs": [],
   "source": []
  },
  {
   "cell_type": "code",
   "execution_count": null,
   "metadata": {},
   "outputs": [],
   "source": []
  },
  {
   "cell_type": "code",
   "execution_count": null,
   "metadata": {},
   "outputs": [],
   "source": []
  },
  {
   "cell_type": "code",
   "execution_count": null,
   "metadata": {},
   "outputs": [],
   "source": []
  },
  {
   "cell_type": "code",
   "execution_count": null,
   "metadata": {},
   "outputs": [],
   "source": []
  },
  {
   "cell_type": "code",
   "execution_count": null,
   "metadata": {},
   "outputs": [],
   "source": []
  },
  {
   "cell_type": "code",
   "execution_count": null,
   "metadata": {},
   "outputs": [],
   "source": []
  },
  {
   "cell_type": "code",
   "execution_count": null,
   "metadata": {},
   "outputs": [],
   "source": []
  },
  {
   "cell_type": "code",
   "execution_count": null,
   "metadata": {},
   "outputs": [],
   "source": []
  },
  {
   "cell_type": "code",
   "execution_count": null,
   "metadata": {},
   "outputs": [],
   "source": []
  },
  {
   "cell_type": "code",
   "execution_count": null,
   "metadata": {},
   "outputs": [],
   "source": []
  },
  {
   "cell_type": "code",
   "execution_count": null,
   "metadata": {},
   "outputs": [],
   "source": []
  },
  {
   "cell_type": "code",
   "execution_count": null,
   "metadata": {},
   "outputs": [],
   "source": []
  },
  {
   "cell_type": "code",
   "execution_count": null,
   "metadata": {},
   "outputs": [],
   "source": []
  },
  {
   "cell_type": "code",
   "execution_count": null,
   "metadata": {},
   "outputs": [],
   "source": []
  },
  {
   "cell_type": "code",
   "execution_count": null,
   "metadata": {},
   "outputs": [],
   "source": []
  }
 ],
 "metadata": {
  "kernelspec": {
   "display_name": "Python 3",
   "language": "python",
   "name": "python3"
  },
  "language_info": {
   "codemirror_mode": {
    "name": "ipython",
    "version": 3
   },
   "file_extension": ".py",
   "mimetype": "text/x-python",
   "name": "python",
   "nbconvert_exporter": "python",
   "pygments_lexer": "ipython3",
   "version": "3.7.4"
  }
 },
 "nbformat": 4,
 "nbformat_minor": 2
}
