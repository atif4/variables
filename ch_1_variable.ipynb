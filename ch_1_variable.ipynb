{
 "cells": [
  {
   "cell_type": "code",
   "execution_count": 1,
   "metadata": {},
   "outputs": [
    {
     "name": "stdout",
     "output_type": "stream",
     "text": [
      "786\n"
     ]
    }
   ],
   "source": [
    "print (\"786\")"
   ]
  },
  {
   "cell_type": "code",
   "execution_count": null,
   "metadata": {},
   "outputs": [],
   "source": []
  },
  {
   "cell_type": "markdown",
   "metadata": {},
   "source": [
    "# variable"
   ]
  },
  {
   "cell_type": "code",
   "execution_count": 2,
   "metadata": {},
   "outputs": [
    {
     "name": "stdout",
     "output_type": "stream",
     "text": [
      "atif\n"
     ]
    }
   ],
   "source": [
    "name = \"atif\"\n",
    "print(name)"
   ]
  },
  {
   "cell_type": "code",
   "execution_count": 3,
   "metadata": {},
   "outputs": [
    {
     "data": {
      "text/plain": [
       "'atif'"
      ]
     },
     "execution_count": 3,
     "metadata": {},
     "output_type": "execute_result"
    }
   ],
   "source": [
    "name"
   ]
  },
  {
   "cell_type": "code",
   "execution_count": 4,
   "metadata": {},
   "outputs": [
    {
     "name": "stdout",
     "output_type": "stream",
     "text": [
      "this information is about  qureshi atif hyderabad AOA\n"
     ]
    }
   ],
   "source": [
    "lastname = \"qureshi\"\n",
    "city = \"hyderabad\"\n",
    "greeting = \"AOA\"\n",
    "print(\"this information is about \",lastname+\" \" + name+\" \" + city +\" \"+greeting)"
   ]
  },
  {
   "cell_type": "markdown",
   "metadata": {},
   "source": [
    "# variables for numbers "
   ]
  },
  {
   "cell_type": "code",
   "execution_count": 5,
   "metadata": {},
   "outputs": [
    {
     "name": "stdout",
     "output_type": "stream",
     "text": [
      "150\n"
     ]
    }
   ],
   "source": [
    "weight = 150\n",
    "print(weight)"
   ]
  },
  {
   "cell_type": "code",
   "execution_count": 6,
   "metadata": {},
   "outputs": [
    {
     "data": {
      "text/plain": [
       "175"
      ]
     },
     "execution_count": 6,
     "metadata": {},
     "output_type": "execute_result"
    }
   ],
   "source": [
    "weight + 25"
   ]
  },
  {
   "cell_type": "code",
   "execution_count": 7,
   "metadata": {},
   "outputs": [
    {
     "name": "stdout",
     "output_type": "stream",
     "text": [
      "15\n"
     ]
    }
   ],
   "source": [
    "original = 12\n",
    "new = original +3 \n",
    "print (new)"
   ]
  },
  {
   "cell_type": "code",
   "execution_count": 8,
   "metadata": {},
   "outputs": [
    {
     "name": "stdout",
     "output_type": "stream",
     "text": [
      "20\n"
     ]
    }
   ],
   "source": [
    "increaseBy = 8\n",
    "new = original + increaseBy\n",
    "print(new)"
   ]
  },
  {
   "cell_type": "markdown",
   "metadata": {},
   "source": [
    "# Math expression : familiar operators"
   ]
  },
  {
   "cell_type": "code",
   "execution_count": 9,
   "metadata": {},
   "outputs": [
    {
     "name": "stdout",
     "output_type": "stream",
     "text": [
      "4\n"
     ]
    }
   ],
   "source": [
    "popularNum = 4\n",
    "print(popularNum)"
   ]
  },
  {
   "cell_type": "code",
   "execution_count": 10,
   "metadata": {},
   "outputs": [
    {
     "data": {
      "text/plain": [
       "4"
      ]
     },
     "execution_count": 10,
     "metadata": {},
     "output_type": "execute_result"
    }
   ],
   "source": [
    "popularNum2 = 2+2\n",
    "popularNum2"
   ]
  },
  {
   "cell_type": "code",
   "execution_count": 11,
   "metadata": {},
   "outputs": [
    {
     "data": {
      "text/plain": [
       "-12"
      ]
     },
     "execution_count": 11,
     "metadata": {},
     "output_type": "execute_result"
    }
   ],
   "source": [
    "loss=12-24\n",
    "loss"
   ]
  },
  {
   "cell_type": "code",
   "execution_count": 12,
   "metadata": {},
   "outputs": [
    {
     "data": {
      "text/plain": [
       "12"
      ]
     },
     "execution_count": 12,
     "metadata": {},
     "output_type": "execute_result"
    }
   ],
   "source": [
    "dozen = 3*4\n",
    "dozen"
   ]
  },
  {
   "cell_type": "code",
   "execution_count": 13,
   "metadata": {},
   "outputs": [
    {
     "data": {
      "text/plain": [
       "8.0"
      ]
     },
     "execution_count": 13,
     "metadata": {},
     "output_type": "execute_result"
    }
   ],
   "source": [
    "popularNum3=32/4\n",
    "popularNum3"
   ]
  },
  {
   "cell_type": "code",
   "execution_count": 14,
   "metadata": {},
   "outputs": [
    {
     "data": {
      "text/plain": [
       "1.75"
      ]
     },
     "execution_count": 14,
     "metadata": {},
     "output_type": "execute_result"
    }
   ],
   "source": [
    "num =.75\n",
    "total = num+1\n",
    "total"
   ]
  },
  {
   "cell_type": "code",
   "execution_count": 15,
   "metadata": {},
   "outputs": [
    {
     "data": {
      "text/plain": [
       "11.5"
      ]
     },
     "execution_count": 15,
     "metadata": {},
     "output_type": "execute_result"
    }
   ],
   "source": [
    "num =10 \n",
    "another = 1.5\n",
    "sum = num + another\n",
    "sum"
   ]
  },
  {
   "cell_type": "markdown",
   "metadata": {},
   "source": [
    "# Math expression : Unfamiliar operators"
   ]
  },
  {
   "cell_type": "code",
   "execution_count": 16,
   "metadata": {},
   "outputs": [
    {
     "data": {
      "text/plain": [
       "0"
      ]
     },
     "execution_count": 16,
     "metadata": {},
     "output_type": "execute_result"
    }
   ],
   "source": [
    "leftOver = 9%3\n",
    "leftOver"
   ]
  },
  {
   "cell_type": "code",
   "execution_count": 17,
   "metadata": {},
   "outputs": [
    {
     "data": {
      "text/plain": [
       "14"
      ]
     },
     "execution_count": 17,
     "metadata": {},
     "output_type": "execute_result"
    }
   ],
   "source": [
    "age =12\n",
    "age = age +2\n",
    "age"
   ]
  },
  {
   "cell_type": "code",
   "execution_count": 18,
   "metadata": {},
   "outputs": [
    {
     "data": {
      "text/plain": [
       "20"
      ]
     },
     "execution_count": 18,
     "metadata": {},
     "output_type": "execute_result"
    }
   ],
   "source": [
    "age+=6\n",
    "age"
   ]
  },
  {
   "cell_type": "code",
   "execution_count": 19,
   "metadata": {},
   "outputs": [
    {
     "data": {
      "text/plain": [
       "40"
      ]
     },
     "execution_count": 19,
     "metadata": {},
     "output_type": "execute_result"
    }
   ],
   "source": [
    "age*=2\n",
    "age"
   ]
  },
  {
   "cell_type": "code",
   "execution_count": 20,
   "metadata": {},
   "outputs": [
    {
     "data": {
      "text/plain": [
       "45"
      ]
     },
     "execution_count": 20,
     "metadata": {},
     "output_type": "execute_result"
    }
   ],
   "source": [
    "increment = 5\n",
    "age+=increment\n",
    "age"
   ]
  },
  {
   "cell_type": "markdown",
   "metadata": {},
   "source": [
    "# Math expression : Eliminating Ambiguity"
   ]
  },
  {
   "cell_type": "code",
   "execution_count": 21,
   "metadata": {},
   "outputs": [
    {
     "data": {
      "text/plain": [
       "70"
      ]
     },
     "execution_count": 21,
     "metadata": {},
     "output_type": "execute_result"
    }
   ],
   "source": [
    "total = 1+3*23\n",
    "total"
   ]
  },
  {
   "cell_type": "code",
   "execution_count": 22,
   "metadata": {},
   "outputs": [
    {
     "data": {
      "text/plain": [
       "70"
      ]
     },
     "execution_count": 22,
     "metadata": {},
     "output_type": "execute_result"
    }
   ],
   "source": [
    "total =1+(3*23)\n",
    "total"
   ]
  },
  {
   "cell_type": "code",
   "execution_count": 23,
   "metadata": {},
   "outputs": [
    {
     "data": {
      "text/plain": [
       "92"
      ]
     },
     "execution_count": 23,
     "metadata": {},
     "output_type": "execute_result"
    }
   ],
   "source": [
    "total = (1+3)*23\n",
    "total "
   ]
  },
  {
   "cell_type": "code",
   "execution_count": 24,
   "metadata": {},
   "outputs": [
    {
     "data": {
      "text/plain": [
       "34"
      ]
     },
     "execution_count": 24,
     "metadata": {},
     "output_type": "execute_result"
    }
   ],
   "source": [
    "result = (2*4)*4+2\n",
    "result"
   ]
  },
  {
   "cell_type": "code",
   "execution_count": 25,
   "metadata": {},
   "outputs": [
    {
     "data": {
      "text/plain": [
       "48"
      ]
     },
     "execution_count": 25,
     "metadata": {},
     "output_type": "execute_result"
    }
   ],
   "source": [
    "result = (2*4)*(4+2)\n",
    "result"
   ]
  },
  {
   "cell_type": "code",
   "execution_count": 26,
   "metadata": {},
   "outputs": [
    {
     "data": {
      "text/plain": [
       "34"
      ]
     },
     "execution_count": 26,
     "metadata": {},
     "output_type": "execute_result"
    }
   ],
   "source": [
    "result=((2*4)*4)+2\n",
    "result"
   ]
  },
  {
   "cell_type": "markdown",
   "metadata": {},
   "source": [
    "# Concatenating text strings"
   ]
  },
  {
   "cell_type": "code",
   "execution_count": 27,
   "metadata": {},
   "outputs": [
    {
     "name": "stdout",
     "output_type": "stream",
     "text": [
      "AOA TO EVERYONE\n"
     ]
    }
   ],
   "source": [
    "greeting = \"AOA\"\n",
    "address = \" TO EVERYONE\"\n",
    "massage = greeting + address\n",
    "print(massage)"
   ]
  },
  {
   "cell_type": "code",
   "execution_count": null,
   "metadata": {},
   "outputs": [],
   "source": []
  },
  {
   "cell_type": "code",
   "execution_count": 28,
   "metadata": {},
   "outputs": [
    {
     "name": "stdout",
     "output_type": "stream",
     "text": [
      "AOA, TO EVERYONE ! \n"
     ]
    }
   ],
   "source": [
    "greeting = \"AOA\"\n",
    "address = \"TO EVERYONE\"\n",
    "sep = \", \"\n",
    "punc=\" ! \"\n",
    "massage = greeting+ sep + address + punc\n",
    "print(massage)"
   ]
  },
  {
   "cell_type": "code",
   "execution_count": 29,
   "metadata": {},
   "outputs": [
    {
     "name": "stdout",
     "output_type": "stream",
     "text": [
      "AOA, TO EVERYONE!\n"
     ]
    }
   ],
   "source": [
    "greeting = \"AOA,\"\n",
    "address = \" TO EVERYONE!\"\n",
    "massage = greeting+ address \n",
    "print(massage)"
   ]
  },
  {
   "cell_type": "markdown",
   "metadata": {},
   "source": [
    "# If Statements"
   ]
  },
  {
   "cell_type": "code",
   "execution_count": 30,
   "metadata": {},
   "outputs": [
    {
     "name": "stdout",
     "output_type": "stream",
     "text": [
      "enter the type of  cat\n",
      "enter the age of  cat\n"
     ]
    }
   ],
   "source": [
    "species = \"cat\"\n",
    "if species == \"cat\":\n",
    "    print(\"enter the type of \", species)\n",
    "    print(\"enter the age of \", species)"
   ]
  },
  {
   "cell_type": "code",
   "execution_count": 31,
   "metadata": {},
   "outputs": [
    {
     "name": "stdout",
     "output_type": "stream",
     "text": [
      "THE SUM IS 4 \n"
     ]
    }
   ],
   "source": [
    "if 2+2 == 4:\n",
    "    print(\"THE SUM IS 4 \" )"
   ]
  },
  {
   "cell_type": "code",
   "execution_count": 32,
   "metadata": {},
   "outputs": [
    {
     "name": "stdout",
     "output_type": "stream",
     "text": [
      "so far so good \n"
     ]
    }
   ],
   "source": [
    "hasband = 1\n",
    "if hasband == 1:\n",
    "    print(\"so far so good \" )"
   ]
  },
  {
   "cell_type": "markdown",
   "metadata": {},
   "source": [
    "# Comparison operator"
   ]
  },
  {
   "cell_type": "code",
   "execution_count": 33,
   "metadata": {},
   "outputs": [
    {
     "name": "stdout",
     "output_type": "stream",
     "text": [
      "show the atif qureshi`s ID\n"
     ]
    }
   ],
   "source": [
    "fullName = \"atif qureshi\"\n",
    "if fullName == \"atif\" + \" \" + \"qureshi\" :\n",
    "    print(\"show the \"+fullName+\"`s ID\")"
   ]
  },
  {
   "cell_type": "code",
   "execution_count": 34,
   "metadata": {},
   "outputs": [
    {
     "name": "stdout",
     "output_type": "stream",
     "text": [
      "congralulation atif\n",
      "are you student Mr qureshi\n"
     ]
    }
   ],
   "source": [
    "firstName = \"atif\"\n",
    "lastName = \"qureshi\"\n",
    "if firstName +\" \" + \"qureshi\":\n",
    "    print(\"congralulation\",firstName)\n",
    "if firstName + \" \" + lastName:\n",
    "    print(\"are you student Mr\",lastName)"
   ]
  },
  {
   "cell_type": "code",
   "execution_count": 35,
   "metadata": {},
   "outputs": [
    {
     "name": "stdout",
     "output_type": "stream",
     "text": [
      "give the recipt of 12\n",
      "the material amount is 7\n",
      "ok\n"
     ]
    }
   ],
   "source": [
    "material = 7\n",
    "totalCost =12\n",
    "laborCost = 5\n",
    "if totalCost == 8+4:\n",
    "    print(\"give the recipt of\",totalCost)\n",
    "if totalCost == material + 5 :\n",
    "    print(\"the material amount is\",material)\n",
    "if totalCost == material + laborCost:\n",
    "    print(\"ok\")"
   ]
  },
  {
   "cell_type": "code",
   "execution_count": 36,
   "metadata": {},
   "outputs": [
    {
     "name": "stdout",
     "output_type": "stream",
     "text": [
      "the loss and profit are balance\n"
     ]
    }
   ],
   "source": [
    "x = 12\n",
    "y = 3\n",
    "a = 18\n",
    "b = 3\n",
    "if x+y==a-b:\n",
    "    print(\"the loss and profit are balance\")"
   ]
  },
  {
   "cell_type": "code",
   "execution_count": 37,
   "metadata": {},
   "outputs": [
    {
     "name": "stdout",
     "output_type": "stream",
     "text": [
      "the number is not matched\n"
     ]
    }
   ],
   "source": [
    "ticket = 110\n",
    "if ticket != 233 :\n",
    "    print(\"the number is not matched\")"
   ]
  },
  {
   "cell_type": "markdown",
   "metadata": {},
   "source": [
    "# Else and elif statement "
   ]
  },
  {
   "cell_type": "code",
   "execution_count": 38,
   "metadata": {},
   "outputs": [
    {
     "name": "stdout",
     "output_type": "stream",
     "text": [
      "yep! it's a cat\n",
      "nope, it's not a cat\n"
     ]
    }
   ],
   "source": [
    "species = \"cat\"\n",
    "if species == \"cat\":\n",
    "    print(\"yep! it's a cat\")\n",
    "if species != \"dog\":\n",
    "    print(\"nope, it's not a cat\")"
   ]
  },
  {
   "cell_type": "code",
   "execution_count": 39,
   "metadata": {},
   "outputs": [
    {
     "name": "stdout",
     "output_type": "stream",
     "text": [
      "it is not required animal\n"
     ]
    }
   ],
   "source": [
    "if species == \"cow\":\n",
    "    print(\"it is a vild species\")\n",
    "else:\n",
    "    print(\"it is not required animal\")"
   ]
  },
  {
   "cell_type": "code",
   "execution_count": 40,
   "metadata": {},
   "outputs": [
    {
     "name": "stdout",
     "output_type": "stream",
     "text": [
      "the condition is not vild\n"
     ]
    }
   ],
   "source": [
    "dountCondition = \"fresh\"\n",
    "dountPrice = \"low\"\n",
    "if dountCondition != \"fresh\":\n",
    "    buyScore = 10\n",
    "    print(\" the status of dountCondition is\",dountCondition,\"and it's cost is\",buyScore)\n",
    "elif dountPrice > \"low\":\n",
    "    buyScore = 5\n",
    "    print(\"the status of DountCondition is\",dountPrice,\"and it's current value is\", buyScore)\n",
    "else:\n",
    "    print(\"the condition is not vild\")"
   ]
  },
  {
   "cell_type": "code",
   "execution_count": 41,
   "metadata": {},
   "outputs": [
    {
     "name": "stdout",
     "output_type": "stream",
     "text": [
      "the condition is low , the filling is creame , buyScore is lower upto 5 and it is reasonable\n"
     ]
    }
   ],
   "source": [
    "buyScore = 0\n",
    "condition = \"fresh\"\n",
    "cond1 =\"low\"\n",
    "filling = \"chocolate\"\n",
    "price = \"reasonable\"\n",
    "if condition != \"fresh\":\n",
    "    if filling == \"chocolate\":\n",
    "        buyScore+=10\n",
    "        print(\"the\",condition,\"condition price has increased by\" ,buyScore,\"it is filled with\",filling)\n",
    "elif cond1 ==\"low\":\n",
    "    if filling != \"chocoate\":\n",
    "        buyScore +=5\n",
    "        print(\"the condition is low , the filling is creame , buyScore is lower upto\",buyScore,\"and it is\",price)"
   ]
  },
  {
   "cell_type": "markdown",
   "metadata": {},
   "source": [
    "# Testing sets of conditions"
   ]
  },
  {
   "cell_type": "code",
   "execution_count": 42,
   "metadata": {},
   "outputs": [
    {
     "name": "stdout",
     "output_type": "stream",
     "text": [
      "try to recfruit him\n",
      "('the actual weight is', 311, 'kg and actual time is', 5, 'hours')\n",
      "one of these absoulty right \n"
     ]
    }
   ],
   "source": [
    "weight = 311\n",
    "time = 5\n",
    "if weight > 300 and time < 6 :\n",
    "    status = \"try to recfruit him\"\n",
    "    print(status)\n",
    "    if weight >= 300 and time <=6:\n",
    "        status = \"the actual weight is\",weight,\"kg and actual time is\",time , \"hours\"\n",
    "        print(status)\n",
    "        if weight == 311 or time !=4:\n",
    "            print(\"one of these absoulty right \")"
   ]
  },
  {
   "cell_type": "code",
   "execution_count": 43,
   "metadata": {},
   "outputs": [
    {
     "name": "stdout",
     "output_type": "stream",
     "text": [
      "welcome to leeds college\n"
     ]
    }
   ],
   "source": [
    "sat = 65\n",
    "ave = 50\n",
    "gpa = 2.5\n",
    "parent = \"alum\"\n",
    "if sat > ave or gpa > 2.5 or parent == \"alum\" :\n",
    "    massage = \"welcome to leeds college\"\n",
    "    print(massage)"
   ]
  },
  {
   "cell_type": "code",
   "execution_count": 44,
   "metadata": {},
   "outputs": [
    {
     "name": "stdout",
     "output_type": "stream",
     "text": [
      "both over 65 and under 21 are the residence of  Uk\n"
     ]
    }
   ],
   "source": [
    "age = 66\n",
    "res = \"Uk\"\n",
    "if age > 65 or age < 21 and res == \"UK\" :\n",
    "    print(\"both over 65 and under 21 are the residence of \" , res)"
   ]
  },
  {
   "cell_type": "code",
   "execution_count": 45,
   "metadata": {},
   "outputs": [
    {
     "name": "stdout",
     "output_type": "stream",
     "text": [
      "both over 65 and under 21 are the residence of \n"
     ]
    }
   ],
   "source": [
    "age = 66\n",
    "res = \"Uk\"\n",
    "if age > 65 or (age < 21 and res == \"UK\" ) :\n",
    "    print(\"both over 65 and under 21 are the residence of \")"
   ]
  },
  {
   "cell_type": "code",
   "execution_count": 46,
   "metadata": {},
   "outputs": [],
   "source": [
    "age = 20\n",
    "res = \"Uk\"\n",
    "if (age > 65 or age < 21 ) and res == \"UK\" :\n",
    "    print(\"both over 65 and under 21 are the residence of \")"
   ]
  },
  {
   "cell_type": "markdown",
   "metadata": {},
   "source": [
    "# If statements nested"
   ]
  },
  {
   "cell_type": "code",
   "execution_count": 47,
   "metadata": {},
   "outputs": [
    {
     "name": "stdout",
     "output_type": "stream",
     "text": [
      "h\n"
     ]
    }
   ],
   "source": [
    "a = \"b\"\n",
    "x = \"y\"\n",
    "c = \"d\"\n",
    "if x == \"y\" or a == \"b\" and c == \"d\":\n",
    "    g=\"h\"\n",
    "    print(g)\n",
    "else:\n",
    "    e =\"f\"\n",
    "    print(e)"
   ]
  },
  {
   "cell_type": "code",
   "execution_count": 48,
   "metadata": {},
   "outputs": [
    {
     "name": "stdout",
     "output_type": "stream",
     "text": [
      "342\n"
     ]
    }
   ],
   "source": [
    "if c == \"d\":\n",
    "    if x != \"y\":\n",
    "        g ==\"h\"\n",
    "        print(g)\n",
    "    elif a == \"p\":\n",
    "        u = 87\n",
    "        print(u)\n",
    "    else:\n",
    "        e=\"342\"\n",
    "        print(e)"
   ]
  },
  {
   "cell_type": "markdown",
   "metadata": {},
   "source": [
    "# lists"
   ]
  },
  {
   "cell_type": "code",
   "execution_count": 49,
   "metadata": {},
   "outputs": [
    {
     "name": "stdout",
     "output_type": "stream",
     "text": [
      "welcome lahor\n"
     ]
    }
   ],
   "source": [
    "city0 = \"hyderabad\"\n",
    "city1 = \"karachi\"\n",
    "city2 = \"lahor\"\n",
    "city3 = \"islamabad\"\n",
    "city4 = \"multan\"\n",
    "city5 = \"fasalabad\"\n",
    "print(\"welcome\",city2)"
   ]
  },
  {
   "cell_type": "code",
   "execution_count": 50,
   "metadata": {},
   "outputs": [
    {
     "name": "stdout",
     "output_type": "stream",
     "text": [
      "welcome to multan\n"
     ]
    }
   ],
   "source": [
    "cities = [\"hyd\",\"kara\",\"lahor\",\"islamabad\",\"fasalabad\",\"multan\"]\n",
    "print(\"welcome to\",cities[5])"
   ]
  },
  {
   "cell_type": "markdown",
   "metadata": {},
   "source": [
    "# adding and changing elements "
   ]
  },
  {
   "cell_type": "code",
   "execution_count": 51,
   "metadata": {},
   "outputs": [
    {
     "name": "stdout",
     "output_type": "stream",
     "text": [
      "['hyd', 'kara', 'lahor', 'islamabad', 'fasalabad', 'multan', 'new york', 90]\n"
     ]
    }
   ],
   "source": [
    "cities = [\"hyd\",\"kara\",\"lahor\",\"islamabad\",\"fasalabad\",\"multan\"]\n",
    "cities.append(\"new york\" )\n",
    "cities.append(90)\n",
    "print(cities)"
   ]
  },
  {
   "cell_type": "code",
   "execution_count": 52,
   "metadata": {},
   "outputs": [
    {
     "data": {
      "text/plain": [
       "['hyd',\n",
       " 'kara',\n",
       " 'lahor',\n",
       " 'islamabad',\n",
       " 'fasalabad',\n",
       " 'multan',\n",
       " 'new york',\n",
       " 90,\n",
       " 'usa',\n",
       " 'uk']"
      ]
     },
     "execution_count": 52,
     "metadata": {},
     "output_type": "execute_result"
    }
   ],
   "source": [
    "other = cities + [\"usa\",\"uk\"]\n",
    "other"
   ]
  },
  {
   "cell_type": "code",
   "execution_count": 53,
   "metadata": {},
   "outputs": [
    {
     "data": {
      "text/plain": [
       "['h', 'd', 'm']"
      ]
     },
     "execution_count": 53,
     "metadata": {},
     "output_type": "execute_result"
    }
   ],
   "source": [
    "task =[]\n",
    "task = task + [\"h\",\"d\",\"m\"]\n",
    "task"
   ]
  },
  {
   "cell_type": "code",
   "execution_count": 54,
   "metadata": {},
   "outputs": [
    {
     "data": {
      "text/plain": [
       "['hyd',\n",
       " 'kara',\n",
       " 'India',\n",
       " 'lahor',\n",
       " 'islamabad',\n",
       " 'fasalabad',\n",
       " 'multan',\n",
       " 'new york',\n",
       " 90]"
      ]
     },
     "execution_count": 54,
     "metadata": {},
     "output_type": "execute_result"
    }
   ],
   "source": [
    "cities.insert(2,\"India\")\n",
    "#cities.insert(5,\"turkey\")\n",
    "cities\n"
   ]
  },
  {
   "cell_type": "code",
   "execution_count": 55,
   "metadata": {},
   "outputs": [
    {
     "data": {
      "text/plain": [
       "['hyd',\n",
       " 'kara',\n",
       " 'India',\n",
       " 'lahor',\n",
       " 'islamabad',\n",
       " 'turkey',\n",
       " 'fasalabad',\n",
       " 'multan',\n",
       " 'new york',\n",
       " 90]"
      ]
     },
     "execution_count": 55,
     "metadata": {},
     "output_type": "execute_result"
    }
   ],
   "source": [
    "cities.insert(5,\"turkey\")\n",
    "cities"
   ]
  },
  {
   "cell_type": "markdown",
   "metadata": {},
   "source": [
    "# lists: taking slices out of them"
   ]
  },
  {
   "cell_type": "code",
   "execution_count": 56,
   "metadata": {},
   "outputs": [
    {
     "name": "stdout",
     "output_type": "stream",
     "text": [
      "['hyd', 'karachi', 'lahore', 'fasalabad', 'dado', 'sukkar', 'mirpur']\n",
      "['lahore', 'fasalabad', 'dado']\n",
      "['fasalabad', 'dado', 'sukkar', 'mirpur']\n",
      "['hyd', 'karachi', 'lahore', 'fasalabad']\n"
     ]
    }
   ],
   "source": [
    "cities = [\"hyd\",\"karachi\",\"lahore\",\"fasalabad\",\"dado\",\"sukkar\",\"mirpur\"]\n",
    "print(cities)\n",
    "smallerList=cities[2:5]\n",
    "print(smallerList)\n",
    "smaller1=cities[3:]\n",
    "print(smaller1)\n",
    "smaller2=cities[:4]\n",
    "print(smaller2)"
   ]
  },
  {
   "cell_type": "markdown",
   "metadata": {},
   "source": [
    "# list: Delecting and removing elements "
   ]
  },
  {
   "cell_type": "code",
   "execution_count": 57,
   "metadata": {},
   "outputs": [
    {
     "data": {
      "text/plain": [
       "['anwar', 'babar']"
      ]
     },
     "execution_count": 57,
     "metadata": {},
     "output_type": "execute_result"
    }
   ],
   "source": [
    "task = [\"atif\",\"anwar\",\"babar\"]\n",
    "task\n",
    "del task[0]\n",
    "task"
   ]
  },
  {
   "cell_type": "code",
   "execution_count": 58,
   "metadata": {},
   "outputs": [
    {
     "data": {
      "text/plain": [
       "['anwar', 'babar', 'owais']"
      ]
     },
     "execution_count": 58,
     "metadata": {},
     "output_type": "execute_result"
    }
   ],
   "source": [
    "task.append(\"owais\")\n",
    "task"
   ]
  },
  {
   "cell_type": "code",
   "execution_count": 59,
   "metadata": {},
   "outputs": [
    {
     "data": {
      "text/plain": [
       "['anwar', 'babar', 'musayab', 'owais']"
      ]
     },
     "execution_count": 59,
     "metadata": {},
     "output_type": "execute_result"
    }
   ],
   "source": [
    "task.insert(2,\"musayab\")\n",
    "task"
   ]
  },
  {
   "cell_type": "code",
   "execution_count": 60,
   "metadata": {},
   "outputs": [
    {
     "data": {
      "text/plain": [
       "['anwar', 'babar', 'owais']"
      ]
     },
     "execution_count": 60,
     "metadata": {},
     "output_type": "execute_result"
    }
   ],
   "source": [
    "del task[2]\n",
    "task"
   ]
  },
  {
   "cell_type": "code",
   "execution_count": 61,
   "metadata": {},
   "outputs": [
    {
     "data": {
      "text/plain": [
       "['babar', 'owais']"
      ]
     },
     "execution_count": 61,
     "metadata": {},
     "output_type": "execute_result"
    }
   ],
   "source": [
    "task.remove(\"anwar\")\n",
    "task"
   ]
  },
  {
   "cell_type": "markdown",
   "metadata": {},
   "source": [
    "# popping elements"
   ]
  },
  {
   "cell_type": "code",
   "execution_count": 62,
   "metadata": {},
   "outputs": [
    {
     "data": {
      "text/plain": [
       "['hyd', 'karachi', 'lahore', 'fasalabad', 'dado', 'sukkar', 'mirpur']"
      ]
     },
     "execution_count": 62,
     "metadata": {},
     "output_type": "execute_result"
    }
   ],
   "source": [
    "cities"
   ]
  },
  {
   "cell_type": "code",
   "execution_count": 63,
   "metadata": {},
   "outputs": [
    {
     "data": {
      "text/plain": [
       "['hyd',\n",
       " 'karachi',\n",
       " 'lahore',\n",
       " 'fasalabad',\n",
       " 'dado',\n",
       " 'sukkar',\n",
       " 'mirpur',\n",
       " 'rawapidi']"
      ]
     },
     "execution_count": 63,
     "metadata": {},
     "output_type": "execute_result"
    }
   ],
   "source": [
    "cities.append(\"rawapidi\")\n",
    "cities"
   ]
  },
  {
   "cell_type": "code",
   "execution_count": 64,
   "metadata": {},
   "outputs": [
    {
     "data": {
      "text/plain": [
       "['hyd',\n",
       " 'karachi',\n",
       " 'lahore',\n",
       " 'fasalabad',\n",
       " 'kasmir',\n",
       " 'dado',\n",
       " 'sukkar',\n",
       " 'mirpur',\n",
       " 'rawapidi']"
      ]
     },
     "execution_count": 64,
     "metadata": {},
     "output_type": "execute_result"
    }
   ],
   "source": [
    "cities.insert(4,\"kasmir\")\n",
    "cities"
   ]
  },
  {
   "cell_type": "code",
   "execution_count": 65,
   "metadata": {},
   "outputs": [
    {
     "data": {
      "text/plain": [
       "['hyd',\n",
       " 'karachi',\n",
       " 'lahore',\n",
       " 'fasalabad',\n",
       " 'dado',\n",
       " 'sukkar',\n",
       " 'mirpur',\n",
       " 'rawapidi']"
      ]
     },
     "execution_count": 65,
     "metadata": {},
     "output_type": "execute_result"
    }
   ],
   "source": [
    "del cities[4]\n",
    "cities"
   ]
  },
  {
   "cell_type": "code",
   "execution_count": 66,
   "metadata": {},
   "outputs": [
    {
     "data": {
      "text/plain": [
       "['hyd', 'karachi', 'lahore', 'fasalabad', 'dado', 'sukkar', 'mirpur']"
      ]
     },
     "execution_count": 66,
     "metadata": {},
     "output_type": "execute_result"
    }
   ],
   "source": [
    "cities.remove(\"rawapidi\")\n",
    "cities"
   ]
  },
  {
   "cell_type": "code",
   "execution_count": 67,
   "metadata": {},
   "outputs": [
    {
     "data": {
      "text/plain": [
       "['a', 'd', 'f']"
      ]
     },
     "execution_count": 67,
     "metadata": {},
     "output_type": "execute_result"
    }
   ],
   "source": [
    "words = [\"a\",\"d\",\"f\"]\n",
    "words"
   ]
  },
  {
   "cell_type": "code",
   "execution_count": 68,
   "metadata": {},
   "outputs": [
    {
     "name": "stdout",
     "output_type": "stream",
     "text": [
      "d\n"
     ]
    }
   ],
   "source": [
    "new1 = []\n",
    "latest = words.pop(1)\n",
    "print(latest)\n"
   ]
  },
  {
   "cell_type": "code",
   "execution_count": 69,
   "metadata": {},
   "outputs": [
    {
     "data": {
      "text/plain": [
       "['d']"
      ]
     },
     "execution_count": 69,
     "metadata": {},
     "output_type": "execute_result"
    }
   ],
   "source": [
    "new1.append(latest)\n",
    "new1"
   ]
  },
  {
   "cell_type": "code",
   "execution_count": 70,
   "metadata": {},
   "outputs": [
    {
     "data": {
      "text/plain": [
       "'f'"
      ]
     },
     "execution_count": 70,
     "metadata": {},
     "output_type": "execute_result"
    }
   ],
   "source": [
    "latest= words.pop(1)\n",
    "latest"
   ]
  },
  {
   "cell_type": "code",
   "execution_count": 71,
   "metadata": {},
   "outputs": [
    {
     "data": {
      "text/plain": [
       "['d', 'a']"
      ]
     },
     "execution_count": 71,
     "metadata": {},
     "output_type": "execute_result"
    }
   ],
   "source": [
    "new1.insert(1,words.pop(0))\n",
    "new1"
   ]
  },
  {
   "cell_type": "markdown",
   "metadata": {},
   "source": [
    "# Tuples"
   ]
  },
  {
   "cell_type": "code",
   "execution_count": 72,
   "metadata": {},
   "outputs": [
    {
     "name": "stdout",
     "output_type": "stream",
     "text": [
      "sindh\n",
      "the state on 0 was sindh\n"
     ]
    }
   ],
   "source": [
    "states = (\"sindh\",\"punjab\",\"bilochistsn\",\"kpk\")\n",
    "print(states[0])\n",
    "print(\"the state on 0 was\",states[0])"
   ]
  },
  {
   "cell_type": "markdown",
   "metadata": {},
   "source": [
    "# for loops"
   ]
  },
  {
   "cell_type": "code",
   "execution_count": 73,
   "metadata": {},
   "outputs": [
    {
     "name": "stdout",
     "output_type": "stream",
     "text": [
      "it's a safe city: islamabad\n"
     ]
    }
   ],
   "source": [
    "cityCheck = \"islamabad\"\n",
    "cleanestCity = [\"hyd\",\"karachi\",\"islamabad\",\"lahor\",\"fasalabad\"]\n",
    "if cityCheck == cleanestCity[0]:\n",
    "    print(\"it's a safe city:\",cityCheck)\n",
    "elif cityCheck == cleanestCity[1]:\n",
    "    print(\"it's a safe city:\",cityCheck)\n",
    "elif cityCheck == cleanestCity[2]:\n",
    "    print(\"it's a safe city:\",cityCheck)\n",
    "elif cityCheck == cleanestCity[3]:\n",
    "    print(\"it's a safe city:\",cityCheck)\n",
    "elif cityCheck == cleanestCity[4]:\n",
    "    print(\"it's a safe city:\",cityCheck)"
   ]
  },
  {
   "cell_type": "code",
   "execution_count": 74,
   "metadata": {},
   "outputs": [
    {
     "name": "stdout",
     "output_type": "stream",
     "text": [
      "this is a cleanest city: islamabad\n"
     ]
    }
   ],
   "source": [
    "a=\"*\"\n",
    "for aCity in cleanestCity:\n",
    "    if cityCheck == aCity:\n",
    "        print(\"this is a cleanest city:\",cityCheck)\n",
    "        "
   ]
  },
  {
   "cell_type": "code",
   "execution_count": 75,
   "metadata": {},
   "outputs": [
    {
     "name": "stdout",
     "output_type": "stream",
     "text": [
      "hyd *\n",
      "karachi *\n",
      "islamabad *\n",
      "lahor *\n",
      "fasalabad *\n",
      "['hyd', 'karachi', 'islamabad', 'lahor', 'fasalabad']\n",
      "['hyd', 'karachi', 'islamabad', 'lahor', 'fasalabad']\n",
      "['hyd', 'karachi', 'islamabad', 'lahor', 'fasalabad']\n",
      "['hyd', 'karachi', 'islamabad', 'lahor', 'fasalabad']\n",
      "['hyd', 'karachi', 'islamabad', 'lahor', 'fasalabad']\n"
     ]
    }
   ],
   "source": [
    "a = \"*\"\n",
    "for aCity in cleanestCity:\n",
    "    if a == \"*\":\n",
    "        print(aCity,a)\n",
    "for aCity in cleanestCity:\n",
    "    print(cleanestCity)"
   ]
  },
  {
   "cell_type": "markdown",
   "metadata": {},
   "source": [
    "# for loops nested"
   ]
  },
  {
   "cell_type": "code",
   "execution_count": 76,
   "metadata": {},
   "outputs": [
    {
     "name": "stdout",
     "output_type": "stream",
     "text": [
      "['h l', 'h m', 'h v', 'h p', 'h t', 'j l', 'j m', 'j v', 'j p', 'j t', 'g l', 'g m', 'g v', 'g p', 'g t', 'c l', 'c m', 'c v', 'c p', 'c t', 'u l', 'u m', 'u v', 'u p', 'u t']\n"
     ]
    }
   ],
   "source": [
    "names = [\"h\",\"j\",\"g\",\"c\",\"u\"]\n",
    "namesl = [\"l\",\"m\",\"v\",\"p\",\"t\"]\n",
    "fnames = []\n",
    "for a in names:\n",
    "    for b in namesl:\n",
    "        fnames.append(a + \" \" + b)\n",
    "print(fnames)"
   ]
  },
  {
   "cell_type": "code",
   "execution_count": 77,
   "metadata": {},
   "outputs": [
    {
     "name": "stdout",
     "output_type": "stream",
     "text": [
      "['h l', 'h m']\n",
      "['h l', 'h m', 'j l', 'j m']\n"
     ]
    }
   ],
   "source": [
    "names = [\"h\",\"j\"]\n",
    "namesl = [\"l\",\"m\"]\n",
    "fnames = []\n",
    "for a in names:\n",
    "    for b in namesl:\n",
    "        fnames.append(a + \" \" + b)\n",
    "    print(fnames)"
   ]
  },
  {
   "cell_type": "code",
   "execution_count": 78,
   "metadata": {},
   "outputs": [
    {
     "name": "stdout",
     "output_type": "stream",
     "text": [
      "[['l', 'm', 'h', 'j']]\n",
      "[['l', 'm', 'h', 'j'], ['l', 'm', 'h', 'j']]\n",
      "[['l', 'm', 'h', 'j'], ['l', 'm', 'h', 'j'], ['l', 'm', 'h', 'j']]\n",
      "[['l', 'm', 'h', 'j'], ['l', 'm', 'h', 'j'], ['l', 'm', 'h', 'j'], ['l', 'm', 'h', 'j']]\n"
     ]
    }
   ],
   "source": [
    "names = [\"h\",\"j\"]\n",
    "namesl = [\"l\",\"m\"]\n",
    "fnames = []\n",
    "for a in names:\n",
    "    for b in namesl:\n",
    "        fnames.append(namesl +names)\n",
    "        print(fnames)"
   ]
  },
  {
   "cell_type": "code",
   "execution_count": 79,
   "metadata": {},
   "outputs": [
    {
     "name": "stdout",
     "output_type": "stream",
     "text": [
      "4\n",
      "5\n",
      "5\n",
      "6\n"
     ]
    }
   ],
   "source": [
    "names = [1,2]\n",
    "namesl = [3,4]\n",
    "fnames = []\n",
    "for a in names:\n",
    "    for b in namesl:\n",
    "        #fnames.append(a+b)\n",
    "        print(a+b)"
   ]
  },
  {
   "cell_type": "code",
   "execution_count": 80,
   "metadata": {},
   "outputs": [
    {
     "name": "stdout",
     "output_type": "stream",
     "text": [
      "s *\n",
      "d *\n",
      "f *\n"
     ]
    }
   ],
   "source": [
    "a = [\"s\",\"d\",\"f\"]\n",
    "b=\"*\"\n",
    "c=[]\n",
    "for i in a :\n",
    "    for f in b:\n",
    "        print(i,f)"
   ]
  },
  {
   "cell_type": "code",
   "execution_count": 81,
   "metadata": {},
   "outputs": [
    {
     "name": "stdout",
     "output_type": "stream",
     "text": [
      "*\n"
     ]
    }
   ],
   "source": [
    "a=\"*\"\n",
    "i = 10\n",
    "b = 8\n",
    "for i in a:\n",
    "    for b in i:\n",
    "        print(i)"
   ]
  },
  {
   "cell_type": "code",
   "execution_count": 82,
   "metadata": {},
   "outputs": [
    {
     "name": "stdout",
     "output_type": "stream",
     "text": [
      "Name ATIF\n",
      "ATIF\n"
     ]
    }
   ],
   "source": [
    "massage = input(\"Name \")\n",
    "print(massage)"
   ]
  },
  {
   "cell_type": "code",
   "execution_count": 83,
   "metadata": {},
   "outputs": [
    {
     "name": "stdout",
     "output_type": "stream",
     "text": [
      "please enter your name: RT\n",
      "Hello, RT!\n"
     ]
    }
   ],
   "source": [
    "name = input(\"please enter your name: \")\n",
    "print(\"Hello, \" + name+ \"!\")"
   ]
  },
  {
   "cell_type": "code",
   "execution_count": 84,
   "metadata": {},
   "outputs": [
    {
     "name": "stdout",
     "output_type": "stream",
     "text": [
      "if you tell us who are you we can personalize that massage you see. \n",
      "what is your first name: OGJK\n",
      "\n",
      "hello, OGJK!\n"
     ]
    }
   ],
   "source": [
    "prompt = \"if you tell us who are you we can personalize that massage you see. \"\n",
    "prompt += \"\\nwhat is your first name: \"\n",
    "name = input(prompt)\n",
    "print(\"\\nhello, \" + name + \"!\")"
   ]
  },
  {
   "cell_type": "code",
   "execution_count": 93,
   "metadata": {},
   "outputs": [
    {
     "ename": "AttributeError",
     "evalue": "'int' object has no attribute 'rand'",
     "output_type": "error",
     "traceback": [
      "\u001b[1;31m---------------------------------------------------------------------------\u001b[0m",
      "\u001b[1;31mAttributeError\u001b[0m                            Traceback (most recent call last)",
      "\u001b[1;32m<ipython-input-93-a4c741e0cce1>\u001b[0m in \u001b[0;36m<module>\u001b[1;34m\u001b[0m\n\u001b[0;32m      1\u001b[0m \u001b[1;32mfor\u001b[0m \u001b[0mi\u001b[0m \u001b[1;32min\u001b[0m \u001b[0mrange\u001b[0m\u001b[1;33m(\u001b[0m\u001b[1;36m1\u001b[0m\u001b[1;33m,\u001b[0m\u001b[1;36m6\u001b[0m\u001b[1;33m)\u001b[0m\u001b[1;33m:\u001b[0m\u001b[1;33m\u001b[0m\u001b[1;33m\u001b[0m\u001b[0m\n\u001b[1;32m----> 2\u001b[1;33m     \u001b[0mprint\u001b[0m\u001b[1;33m(\u001b[0m\u001b[0mint\u001b[0m\u001b[1;33m(\u001b[0m\u001b[0mi\u001b[0m\u001b[1;33m.\u001b[0m\u001b[0mrand\u001b[0m\u001b[1;33m)\u001b[0m\u001b[1;33m)\u001b[0m\u001b[1;33m\u001b[0m\u001b[1;33m\u001b[0m\u001b[0m\n\u001b[0m",
      "\u001b[1;31mAttributeError\u001b[0m: 'int' object has no attribute 'rand'"
     ]
    }
   ],
   "source": [
    "for i in range(1,6):\n",
    "    print(int(i.rand))"
   ]
  },
  {
   "cell_type": "code",
   "execution_count": null,
   "metadata": {},
   "outputs": [],
   "source": []
  },
  {
   "cell_type": "code",
   "execution_count": null,
   "metadata": {},
   "outputs": [],
   "source": []
  },
  {
   "cell_type": "code",
   "execution_count": null,
   "metadata": {},
   "outputs": [],
   "source": []
  },
  {
   "cell_type": "code",
   "execution_count": null,
   "metadata": {},
   "outputs": [],
   "source": []
  },
  {
   "cell_type": "code",
   "execution_count": null,
   "metadata": {},
   "outputs": [],
   "source": []
  },
  {
   "cell_type": "code",
   "execution_count": null,
   "metadata": {},
   "outputs": [],
   "source": []
  },
  {
   "cell_type": "code",
   "execution_count": null,
   "metadata": {},
   "outputs": [],
   "source": []
  }
 ],
 "metadata": {
  "kernelspec": {
   "display_name": "Python 3",
   "language": "python",
   "name": "python3"
  },
  "language_info": {
   "codemirror_mode": {
    "name": "ipython",
    "version": 3
   },
   "file_extension": ".py",
   "mimetype": "text/x-python",
   "name": "python",
   "nbconvert_exporter": "python",
   "pygments_lexer": "ipython3",
   "version": "3.7.4"
  },
  "widgets": {
   "application/vnd.jupyter.widget-state+json": {
    "state": {},
    "version_major": 2,
    "version_minor": 0
   }
  }
 },
 "nbformat": 4,
 "nbformat_minor": 2
}
