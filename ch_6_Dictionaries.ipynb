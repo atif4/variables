{
 "cells": [
  {
   "cell_type": "markdown",
   "metadata": {},
   "source": [
    "# ch_6_Dictionaries"
   ]
  },
  {
   "cell_type": "code",
   "execution_count": 1,
   "metadata": {},
   "outputs": [
    {
     "name": "stdout",
     "output_type": "stream",
     "text": [
      "green\n",
      "5\n"
     ]
    }
   ],
   "source": [
    "alien_0={'color':'green','point':5}\n",
    "print(alien_0['color'])\n",
    "print(alien_0['point'])"
   ]
  },
  {
   "cell_type": "markdown",
   "metadata": {},
   "source": [
    "# working with dictionaries:"
   ]
  },
  {
   "cell_type": "code",
   "execution_count": 2,
   "metadata": {},
   "outputs": [
    {
     "name": "stdout",
     "output_type": "stream",
     "text": [
      "{'color': 'green', 'point': 5}\n"
     ]
    }
   ],
   "source": [
    "alien_0={'color':'green','point':5}\n",
    "print(alien_0)"
   ]
  },
  {
   "cell_type": "code",
   "execution_count": 3,
   "metadata": {},
   "outputs": [
    {
     "name": "stdout",
     "output_type": "stream",
     "text": [
      "you just earned 5 points!\n"
     ]
    }
   ],
   "source": [
    "a = alien_0['point']\n",
    "\n",
    "print('you just earned '+str(a)+' points!')"
   ]
  },
  {
   "cell_type": "markdown",
   "metadata": {},
   "source": [
    "# adding new key-value pairs"
   ]
  },
  {
   "cell_type": "code",
   "execution_count": 4,
   "metadata": {},
   "outputs": [
    {
     "name": "stdout",
     "output_type": "stream",
     "text": [
      "{'color': 'green', 'point': 5}\n",
      "{'color': 'green', 'point': 5, 'x_position': 0, 'y_position': 25}\n"
     ]
    }
   ],
   "source": [
    "print(alien_0)\n",
    "alien_0['x_position']=0\n",
    "alien_0['y_position']=25\n",
    "print(alien_0)"
   ]
  },
  {
   "cell_type": "code",
   "execution_count": 5,
   "metadata": {},
   "outputs": [
    {
     "name": "stdout",
     "output_type": "stream",
     "text": [
      "{'color': 'red', 'value': 65, 'x_position': 509, 'y_position': 2}\n"
     ]
    }
   ],
   "source": [
    "alien_0={}\n",
    "alien_0['color']='red'\n",
    "alien_0['value']=65\n",
    "alien_0['x_position']=509\n",
    "alien_0['y_position']=2\n",
    "print(alien_0)"
   ]
  },
  {
   "cell_type": "markdown",
   "metadata": {},
   "source": [
    "# Modifying values in a dictionary"
   ]
  },
  {
   "cell_type": "code",
   "execution_count": 6,
   "metadata": {},
   "outputs": [
    {
     "name": "stdout",
     "output_type": "stream",
     "text": [
      "the alien is yellow.\n",
      "it's point is 5.\n"
     ]
    }
   ],
   "source": [
    "alien_0={'color':'green','point':5}\n",
    "a=alien_0['color']\n",
    "b=alien_0['point']\n",
    "a=alien_0['color']='yellow'\n",
    "print('the alien is '+a+'.\\n'+\"it's point is \"+str(b)+'.')"
   ]
  },
  {
   "cell_type": "code",
   "execution_count": 7,
   "metadata": {},
   "outputs": [
    {
     "name": "stdout",
     "output_type": "stream",
     "text": [
      "original x-position: 0\n",
      "new x-position: 3\n"
     ]
    }
   ],
   "source": [
    "alien_0 = {'x_position':0,'y_position':25,'speed':'medium'}\n",
    "print(\"original x-position: \" +str(alien_0['x_position']))\n",
    "\n",
    "if alien_0['speed'] == 'slow':\n",
    "    x_increment = 1\n",
    "    alien_0['x_position'] = alien_0['x_postion'] + x_increment\n",
    "    print(\"new x-position: \"+ str(alien_0['x_position']))\n",
    "elif alien_0['speed'] == 'fast':\n",
    "    x_increment = 2\n",
    "    alien_0['x_position'] = alien_0['x_position'] + x_increment\n",
    "    print(\"new x-position: \"+ str(alien_0['x_position']))\n",
    "else:\n",
    "    x_increment = 3\n",
    "    alien_0['x_position'] = alien_0['x_position'] + x_increment\n",
    "    print(\"new x-position: \"+ str(alien_0['x_position']))"
   ]
  },
  {
   "cell_type": "markdown",
   "metadata": {},
   "source": [
    "# removing key-value pairs"
   ]
  },
  {
   "cell_type": "code",
   "execution_count": 8,
   "metadata": {},
   "outputs": [
    {
     "name": "stdout",
     "output_type": "stream",
     "text": [
      "{'color': 'green', 'point': 5}\n",
      "{'color': 'green'}\n"
     ]
    }
   ],
   "source": [
    "alien_0={'color':'green','point':5}\n",
    "print(alien_0)\n",
    "del alien_0['point']\n",
    "print(alien_0)"
   ]
  },
  {
   "cell_type": "markdown",
   "metadata": {},
   "source": [
    "# a dictionary of similar obects"
   ]
  },
  {
   "cell_type": "code",
   "execution_count": 9,
   "metadata": {},
   "outputs": [
    {
     "name": "stdout",
     "output_type": "stream",
     "text": [
      "phil Lang is: Python\n"
     ]
    }
   ],
   "source": [
    "lang={\n",
    "    'jen':'python',\n",
    "    'sarah':'c',\n",
    "    'edward':'ruby',\n",
    "    'phil':'python'\n",
    "}\n",
    "print('phil Lang is:',lang['phil'].title())"
   ]
  },
  {
   "cell_type": "code",
   "execution_count": 10,
   "metadata": {},
   "outputs": [
    {
     "data": {
      "text/plain": [
       "{'First name': 'Mohammad Atif',\n",
       " 'Last name': 'Qureshi',\n",
       " 'Age': 28,\n",
       " 'City': 'Hyderabad'}"
      ]
     },
     "execution_count": 10,
     "metadata": {},
     "output_type": "execute_result"
    }
   ],
   "source": [
    "person = {\n",
    "    'First name' : 'Mohammad Atif',\n",
    "     'Last name' : 'Qureshi',\n",
    "     'Age'       : 28,\n",
    "     'City'      :'Hyderabad',\n",
    "} \n",
    "person"
   ]
  },
  {
   "cell_type": "code",
   "execution_count": 11,
   "metadata": {},
   "outputs": [
    {
     "data": {
      "text/plain": [
       "{'First name': 'Mohammad Atif',\n",
       " 'Last name': 'Qureshi',\n",
       " 'Age': 28,\n",
       " 'City': 'Hyderabad'}"
      ]
     },
     "execution_count": 11,
     "metadata": {},
     "output_type": "execute_result"
    }
   ],
   "source": [
    "person1={}\n",
    "person1['First name'] = 'Mohammad Atif'\n",
    "person1['Last name']  = 'Qureshi'\n",
    "person1['Age']        = 28\n",
    "person1[ 'City']      = 'hyderabad'\n",
    "person"
   ]
  },
  {
   "cell_type": "code",
   "execution_count": 12,
   "metadata": {},
   "outputs": [
    {
     "name": "stdout",
     "output_type": "stream",
     "text": [
      "{'a': '1', 'e': '5'}\n",
      "{'a': '1', 'e': '5', 'b': 2, 'c': 3, 'd': 4}\n"
     ]
    }
   ],
   "source": [
    "no = {\n",
    "    'a':'1',\n",
    "    'e':'5'\n",
    "}\n",
    "print(no)\n",
    "no['b']=2\n",
    "no['c']=3\n",
    "no['d']=4\n",
    "print(no)"
   ]
  },
  {
   "cell_type": "code",
   "execution_count": 4,
   "metadata": {},
   "outputs": [
    {
     "name": "stdout",
     "output_type": "stream",
     "text": [
      "\n",
      " append takes 1_argument and add element that to list at the end. \n",
      "1_argument\n",
      "\n",
      " insert takes 2_arguments and add element that to the specific position to list. \n",
      "2_arguments\n",
      "\n",
      " del takes 1_argument and delete specific element from list. \n",
      "1_argument\n",
      "\n",
      " remove takes 2_arguments and remove element from the specific position of list. \n",
      "2_arguments\n",
      "1_argument\n",
      "\n",
      " {'append': '1_argument', 'insert': '2_arguments', 'del': '1_argument', 'remove': '2_arguments', 'pop': '1_argument'}\n"
     ]
    }
   ],
   "source": [
    "glossary={'append':'1_argument',\n",
    "         'insert':'2_arguments',\n",
    "         'del':'1_argument',\n",
    "         'remove':'2_arguments',\n",
    "         'pop':'1_argument'\n",
    "         }\n",
    "mas='takes'\n",
    "\n",
    "for i in glossary:\n",
    "    a=glossary[i]\n",
    "    if i == 'append':\n",
    "        print('\\n',i,mas,a,'and add element that to list at the end. ')\n",
    "    elif i == 'insert':\n",
    "        print('\\n',i,mas,a,'and add element that to the specific position to list. ')\n",
    "    elif i == 'del':\n",
    "        print('\\n',i,mas,a,'and delete specific element from list. ')\n",
    "    elif i == 'remove':\n",
    "        print('\\n',i,mas,a,'and remove element from the specific position of list. ')\n",
    "    print(a)\n",
    "print('\\n',glossary)\n"
   ]
  },
  {
   "cell_type": "code",
   "execution_count": 14,
   "metadata": {},
   "outputs": [
    {
     "name": "stdout",
     "output_type": "stream",
     "text": [
      "\n",
      "key   : append\n",
      "value : 1_argument\n",
      "\n",
      "key   : insert\n",
      "value : 2_arguments\n",
      "\n",
      "key   : del\n",
      "value : 1_argument\n",
      "\n",
      "key   : remove\n",
      "value : 2_arguments\n",
      "\n",
      "key   : pop\n",
      "value : 1_argument\n"
     ]
    }
   ],
   "source": [
    "glossary={'append':'1_argument',\n",
    "         'insert':'2_arguments',\n",
    "         'del':'1_argument',\n",
    "         'remove':'2_arguments',\n",
    "         'pop':'1_argument'\n",
    "         }\n",
    "for key,value in glossary.items():\n",
    "    print('\\nkey   : '+key)\n",
    "    print('value : '+value)"
   ]
  },
  {
   "cell_type": "code",
   "execution_count": 15,
   "metadata": {},
   "outputs": [
    {
     "name": "stdout",
     "output_type": "stream",
     "text": [
      "\n",
      "key     :  First name\n",
      "values  :  Mohammad Atif\n",
      "\n",
      "key     :  Last name\n",
      "values  :  Qureshi\n",
      "\n",
      "key     :  Age\n",
      "values  :  28\n",
      "\n",
      "key     :  City\n",
      "values  :  Hyderabad\n"
     ]
    }
   ],
   "source": [
    "person = {\n",
    "    'First name' : 'Mohammad Atif',\n",
    "     'Last name' : 'Qureshi',\n",
    "     'Age'       : 28,\n",
    "     'City'      :'Hyderabad',\n",
    "} \n",
    "for k,v in person.items():\n",
    "    print('\\nkey     :  '+k)\n",
    "    print('values  :  '+str(v))"
   ]
  },
  {
   "cell_type": "code",
   "execution_count": 1,
   "metadata": {},
   "outputs": [
    {
     "name": "stdout",
     "output_type": "stream",
     "text": [
      "JEN's favourite Language is PYTHON.\n",
      "SARAH's favourite Language is C.\n",
      "EDWARD's favourite Language is RUBY.\n",
      "PHIL's favourite Language is PYTHON.\n"
     ]
    }
   ],
   "source": [
    "lang={\n",
    "    'jen':'python',\n",
    "    'sarah':'c',\n",
    "    'edward':'ruby',\n",
    "    'phil':'python'\n",
    "}\n",
    "for a,b in lang.items():\n",
    "    print(a.upper() + \"'s favourite Language is \" + b.upper() + \".\")"
   ]
  },
  {
   "cell_type": "markdown",
   "metadata": {},
   "source": [
    "# looping through all the keys in a dictionary"
   ]
  },
  {
   "cell_type": "code",
   "execution_count": 17,
   "metadata": {},
   "outputs": [
    {
     "ename": "SyntaxError",
     "evalue": "invalid syntax (<ipython-input-17-dcea83676537>, line 4)",
     "output_type": "error",
     "traceback": [
      "\u001b[1;36m  File \u001b[1;32m\"<ipython-input-17-dcea83676537>\"\u001b[1;36m, line \u001b[1;32m4\u001b[0m\n\u001b[1;33m    'edward':'ruby',\u001b[0m\n\u001b[1;37m           ^\u001b[0m\n\u001b[1;31mSyntaxError\u001b[0m\u001b[1;31m:\u001b[0m invalid syntax\n"
     ]
    }
   ],
   "source": [
    "lang={\n",
    "    'jen':'python',\n",
    "    'sarah':'c',g\n",
    "    'edward':'ruby',\n",
    "    'phil':'python'\n",
    "}\n",
    "for a in lang.keys(): # it is useful when you need only keys of dictionary\n",
    "    print(a.title())"
   ]
  },
  {
   "cell_type": "code",
   "execution_count": null,
   "metadata": {},
   "outputs": [],
   "source": [
    "for b in lang.values(): # it is useful when you need only values of dictionary\n",
    "    print(b.upper())"
   ]
  },
  {
   "cell_type": "code",
   "execution_count": null,
   "metadata": {},
   "outputs": [],
   "source": [
    "lang={\n",
    "    'jen':'python',\n",
    "    'sarah':'c',\n",
    "    'edward':'ruby',\n",
    "    'phil':'python'\n",
    "}\n",
    "z=['jen','phil']\n",
    "for a in lang.keys(): # it is useful when you need only keys of dictionary\n",
    "    print(a.title())\n",
    "    if a in z:\n",
    "        print(\"Hi, \"+a.upper()+\", i see your favorite language is \"+lang[a].title()+\"!\")\n",
    "if 'ali' not in a:\n",
    "    print('Ali, please tare our poll!')"
   ]
  },
  {
   "cell_type": "markdown",
   "metadata": {},
   "source": [
    "# looping through a dictionary's keys in order"
   ]
  },
  {
   "cell_type": "code",
   "execution_count": 2,
   "metadata": {},
   "outputs": [
    {
     "name": "stdout",
     "output_type": "stream",
     "text": [
      "EDWARD, thanks for taking the poll\n",
      "JEN, thanks for taking the poll\n",
      "PHIL, thanks for taking the poll\n",
      "SARAH, thanks for taking the poll\n",
      "\n",
      "\n",
      "C, thanks for taking the poll\n",
      "PYTHON, thanks for taking the poll\n",
      "PYTHON, thanks for taking the poll\n",
      "RUBY, thanks for taking the poll\n",
      "\n",
      "\n",
      "EDWARD, thanks for taking the poll RUBY\n",
      "JEN, thanks for taking the poll PYTHON\n",
      "PHIL, thanks for taking the poll PYTHON\n",
      "SARAH, thanks for taking the poll C\n"
     ]
    }
   ],
   "source": [
    "lang={\n",
    "    'jen':'python',\n",
    "    'sarah':'c',\n",
    "    'edward':'ruby',\n",
    "    'phil':'python'\n",
    "}\n",
    "\n",
    "mas=\", thanks for taking the poll\"\n",
    "\n",
    "for s in sorted(lang.keys()):\n",
    "    print(s.upper()+mas)\n",
    "print('\\n')\n",
    "for x in sorted(lang.values()):\n",
    "    print(x.upper()+mas)\n",
    "print('\\n')\n",
    "for s,j in sorted(lang.items()):\n",
    "    print(s.upper()+mas+\" \"+j.upper())"
   ]
  },
  {
   "cell_type": "markdown",
   "metadata": {},
   "source": [
    "# looping through all valuesin a Dictionary!"
   ]
  },
  {
   "cell_type": "code",
   "execution_count": null,
   "metadata": {},
   "outputs": [],
   "source": [
    "lang={\n",
    "    'jen':'python',\n",
    "    'sarah':'c',\n",
    "    'edward':'ruby',\n",
    "    'phil':'python'\n",
    "}\n",
    "mas=\"the following have been mentioned\"\n",
    "print(mas)\n",
    "for j in sorted(lang.values()):\n",
    "    print(j.upper())\n",
    "    "
   ]
  },
  {
   "cell_type": "markdown",
   "metadata": {},
   "source": [
    "# task rivers"
   ]
  },
  {
   "cell_type": "code",
   "execution_count": null,
   "metadata": {},
   "outputs": [],
   "source": [
    "river={\n",
    "    'nile':'egypt',\n",
    "    'asian':'subcontient',\n",
    "    'pacific':'europ'\n",
    "}\n",
    "mas=' runs through '\n",
    "print('Rivers')\n",
    "for a in river.keys():\n",
    "    print(a.title())\n",
    "print('\\n')\n",
    "print('Countries')\n",
    "for a in river.values():\n",
    "    print(a.title())\n",
    "print('\\n')\n",
    "for i ,j in river.items():\n",
    "    print(i.title()+mas.title()+j.title())"
   ]
  },
  {
   "cell_type": "markdown",
   "metadata": {},
   "source": [
    "# task polling"
   ]
  },
  {
   "cell_type": "code",
   "execution_count": null,
   "metadata": {},
   "outputs": [],
   "source": [
    "lang1={'ali':'c',\n",
    "      'atif':'python',\n",
    "      'arif':'c++',\n",
    "      'asif':'vb',\n",
    "      'alie':'c'}\n",
    "print(lang1)\n",
    "#print('\\n')\n",
    "a=['ali','asif']\n",
    "b=['saba','sajal']\n",
    "#a.append('saba')\n",
    "mas=', you are in the list'\n",
    "mas1='you not are in the list'\n",
    "print('\\n')\n",
    "for i in lang1.keys():\n",
    "    if i in a:\n",
    "        print(i.title()+mas.title())\n",
    "if 'saba'and'sajal' not in i:\n",
    "    print(mas1.title())"
   ]
  },
  {
   "cell_type": "code",
   "execution_count": null,
   "metadata": {},
   "outputs": [],
   "source": [
    "for i in set(lang1.values()):\n",
    "    print(i.title())\n",
    "print('\\n')\n",
    "for i,j in sorted(lang1.items()):\n",
    "    print(i.upper(),j.upper())\n",
    "print(a)\n",
    "print('\\n')\n",
    "for i in a:\n",
    "    print(i)"
   ]
  },
  {
   "cell_type": "markdown",
   "metadata": {},
   "source": [
    "# nesting"
   ]
  },
  {
   "cell_type": "markdown",
   "metadata": {},
   "source": [
    "# a list of dictionaries"
   ]
  },
  {
   "cell_type": "code",
   "execution_count": null,
   "metadata": {},
   "outputs": [],
   "source": [
    "a={'color':'red','point':5}\n",
    "b={'color':'dark red','point':50}\n",
    "c={'color':'light red','point':500}\n",
    "d=[a,b,c]\n",
    "for i in d:\n",
    "    print(i)"
   ]
  },
  {
   "cell_type": "code",
   "execution_count": null,
   "metadata": {},
   "outputs": [],
   "source": [
    "d = []\n",
    "for i in range(30):\n",
    "    new_d={'color':'red','point':5}\n",
    "    d.append(new_d)\n",
    "#show first 5 items\n",
    "for a in d [:5]:\n",
    "    print(a)\n",
    "    \n",
    "print('---------------------------')\n",
    "#show how many d you have been created\n",
    "print('totsl numbers are: ',str(len(d)))"
   ]
  },
  {
   "cell_type": "code",
   "execution_count": null,
   "metadata": {},
   "outputs": [],
   "source": [
    "a=[]\n",
    "for i in range(0,30):\n",
    "    new_a={'color':'red','point':5,'speed':'slow'}\n",
    "    a.append(new_a)\n",
    "for i in a[0:3]:\n",
    "    if i['color'] == 'red':\n",
    "        i['color'] = 'yellow'\n",
    "        i['point'] = 4\n",
    "        i['speed'] = 'high'\n",
    "for i in a[0:5]:\n",
    "    print(i)"
   ]
  },
  {
   "cell_type": "markdown",
   "metadata": {},
   "source": [
    "# a list in a dictionary"
   ]
  },
  {
   "cell_type": "code",
   "execution_count": null,
   "metadata": {},
   "outputs": [],
   "source": [
    "pizza ={'crust':'thick',\n",
    "       'topping':['a','b','c','k']}\n",
    "print(pizza.keys())\n",
    "print(pizza.values())\n",
    "print(\"you ordered a \"+pizza['crust']+' pizza with topping the following tooping')\n",
    "for i in pizza['topping']:\n",
    "    print('\\t' + i)"
   ]
  },
  {
   "cell_type": "code",
   "execution_count": null,
   "metadata": {},
   "outputs": [],
   "source": [
    "lang={\n",
    "    'jen':['python','k'],\n",
    "    'sarah':['c'],\n",
    "    'edward':['ruby','web'],\n",
    "    'phil':['python']\n",
    "}\n",
    "for i ,j in lang.items():\n",
    "    print('\\n',i.title(),\"'s language(s) is/are \")\n",
    "    for a in j:\n",
    "        print('\\t',a.title())"
   ]
  },
  {
   "cell_type": "markdown",
   "metadata": {},
   "source": [
    "# Dictionary in a Dictionary "
   ]
  },
  {
   "cell_type": "code",
   "execution_count": 1,
   "metadata": {},
   "outputs": [
    {
     "name": "stdout",
     "output_type": "stream",
     "text": [
      "\n",
      "user name is :  aeinstein\n",
      "\tfull name :  Atif Qureshi\n",
      "\tlocation  :  Hyderabad\n",
      "\n",
      "user name is :  saba\n",
      "\tfull name :  Noor Shah\n",
      "\tlocation  :  Karachi\n"
     ]
    }
   ],
   "source": [
    "user={'aeinstein':{'first':'atif',\n",
    "                  'last':'qureshi',\n",
    "                  'location':'hyderabad'},\n",
    "     \n",
    "      'saba':{'first':'noor',\n",
    "             'last':'shah',\n",
    "             'location':'karachi'},\n",
    "}\n",
    "for a ,j in user.items():\n",
    "    print(\"\\nuser name is : \",a)\n",
    "    full_name = j['first']+\" \"+j['last']\n",
    "    print('\\tfull name : ',full_name.title())\n",
    "    loc=j['location']\n",
    "    print('\\tlocation  : ',loc.title())"
   ]
  },
  {
   "cell_type": "markdown",
   "metadata": {},
   "source": [
    "# TASKS"
   ]
  },
  {
   "cell_type": "code",
   "execution_count": null,
   "metadata": {},
   "outputs": [],
   "source": [
    "people=[]\n",
    "person = {\n",
    "    'First name' : 'Mohammad Atif',\n",
    "     'Last name' : 'Qureshi',\n",
    "     'Age'       : 28,\n",
    "     'City'      :'Hyderabad',\n",
    "} \n",
    "people.append(p1)\n",
    "people.append(p2)\n",
    "people.append(person)\n",
    "print(people)\n",
    "for a in people:\n",
    "    print(people.index(a),a)\n",
    "for k,v in person.items():\n",
    "    print('\\nkey     :  '+k)\n",
    "    print('values  :  '+str(v))\n"
   ]
  },
  {
   "cell_type": "code",
   "execution_count": null,
   "metadata": {},
   "outputs": [],
   "source": [
    "pets=[]\n",
    "cat={\"animal\":'cat',\n",
    "    'owner':'anwer'}\n",
    "dog={'animal':'dog',\n",
    "    'owner':'john'}\n",
    "pets.append(cat)\n",
    "pets.append(dog)\n",
    "print(pets)\n",
    "for a in pets:\n",
    "    print(pets.index(a),a)\n",
    "    "
   ]
  },
  {
   "cell_type": "code",
   "execution_count": null,
   "metadata": {},
   "outputs": [],
   "source": [
    "place={'hyderabad':'library',\n",
    "      'karachi':'PAF museum',\n",
    "      'nawabshah':'transport cube',}\n",
    "for a,j in place.items():\n",
    "    print(a.title()+\"'s famous place is \"+j.title())"
   ]
  },
  {
   "cell_type": "code",
   "execution_count": null,
   "metadata": {},
   "outputs": [],
   "source": [
    "person = {\n",
    "    'First name' : 'Mohammad Atif',\n",
    "     'Last name' : 'Qureshi',\n",
    "     'Age'       : 28,\n",
    "     'City'      :'Hyderabad',\n",
    "} \n",
    "person['City']='kpk'\n",
    "print(person)\n",
    "for a in person.items():\n",
    "    if person[\"City\"]==\"Hyderabad\":\n",
    "        person['City']='kpk'\n",
    "    print(a)\n"
   ]
  },
  {
   "cell_type": "code",
   "execution_count": 57,
   "metadata": {},
   "outputs": [
    {
     "name": "stdout",
     "output_type": "stream",
     "text": [
      "list of people: \n",
      "\n",
      "\t {'ali': {'city': 'hyderabad', 'age': 22, 'skilks': 'programming'}, 'salar': {'city': 'kpk', 'age': 45, 'skilks': 'reading'}, 'salaha': {'city': 'multan', 'age': 67, 'skilks': 'physiCal training'}}\n",
      "\n",
      "information of each person: \n",
      "\n",
      "\t ('ali', {'city': 'hyderabad', 'age': 22, 'skilks': 'programming'})\n",
      "\t ('salar', {'city': 'kpk', 'age': 45, 'skilks': 'reading'})\n",
      "\t ('salaha', {'city': 'multan', 'age': 67, 'skilks': 'physiCal training'})\n",
      "\n",
      " names \n",
      "\n",
      "\t Ali\n",
      "\t Salar\n",
      "\t Salaha\n",
      "\n",
      "Detail\n",
      "\n",
      "\t {'city': 'hyderabad', 'age': 22, 'skilks': 'programming'}\n",
      "\t {'city': 'kpk', 'age': 45, 'skilks': 'reading'}\n",
      "\t {'city': 'multan', 'age': 67, 'skilks': 'physiCal training'}\n"
     ]
    }
   ],
   "source": [
    "cities=[]\n",
    "name={\n",
    "    'ali':{'city':'hyderabad',\n",
    "            'age':22,\n",
    "            'skilks':'programming'},\n",
    "      \n",
    "     'salar':{'city':'kpk',\n",
    "            'age':45,\n",
    "            'skilks':'reading'},\n",
    "      \n",
    "     'salaha':{'city':'multan',\n",
    "            'age':67,\n",
    "            'skilks':'physiCal training'}\n",
    "     }\n",
    "cities.append(name)\n",
    "print(\"list of people: \\n\")\n",
    "for i in cities:\n",
    "    print('\\t',i)\n",
    "print('\\ninformation of each person: \\n')\n",
    "for a in name.items():\n",
    "    print(\"\\t\",a)\n",
    "print('\\n names \\n')  \n",
    "for a in name.keys():\n",
    "    print('\\t',a.title())\n",
    "print('\\nDetail\\n')  \n",
    "for a in name.values():\n",
    "    print('\\t',a)"
   ]
  },
  {
   "cell_type": "code",
   "execution_count": null,
   "metadata": {},
   "outputs": [],
   "source": []
  },
  {
   "cell_type": "code",
   "execution_count": null,
   "metadata": {},
   "outputs": [],
   "source": []
  },
  {
   "cell_type": "code",
   "execution_count": null,
   "metadata": {},
   "outputs": [],
   "source": []
  },
  {
   "cell_type": "code",
   "execution_count": null,
   "metadata": {},
   "outputs": [],
   "source": []
  },
  {
   "cell_type": "code",
   "execution_count": null,
   "metadata": {},
   "outputs": [],
   "source": []
  }
 ],
 "metadata": {
  "kernelspec": {
   "display_name": "Python 3",
   "language": "python",
   "name": "python3"
  },
  "language_info": {
   "codemirror_mode": {
    "name": "ipython",
    "version": 3
   },
   "file_extension": ".py",
   "mimetype": "text/x-python",
   "name": "python",
   "nbconvert_exporter": "python",
   "pygments_lexer": "ipython3",
   "version": "3.7.4"
  }
 },
 "nbformat": 4,
 "nbformat_minor": 2
}
