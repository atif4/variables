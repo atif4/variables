{
 "cells": [
  {
   "cell_type": "markdown",
   "metadata": {},
   "source": [
    "# ch_5_if_statements"
   ]
  },
  {
   "cell_type": "code",
   "execution_count": 2,
   "metadata": {},
   "outputs": [
    {
     "name": "stdout",
     "output_type": "stream",
     "text": [
      "the words is out of range\n"
     ]
    }
   ],
   "source": [
    "car = ['a','b','c']\n",
    "if car != \"a\" and car == 'b' or car == 'i':\n",
    "    print(car)\n",
    "else:\n",
    "    print(\"the words is out of range\")"
   ]
  },
  {
   "cell_type": "code",
   "execution_count": 3,
   "metadata": {},
   "outputs": [
    {
     "name": "stdout",
     "output_type": "stream",
     "text": [
      "['a', 'b', 'c']\n"
     ]
    }
   ],
   "source": [
    "car = ['a','b','c']\n",
    "if car != \"a\" or 'b' or  'c':\n",
    "    print(car)\n",
    "else:\n",
    "    print(\"the words is out of range\")"
   ]
  },
  {
   "cell_type": "code",
   "execution_count": 1,
   "metadata": {},
   "outputs": [
    {
     "name": "stdout",
     "output_type": "stream",
     "text": [
      "Am\n",
      "BM\n",
      "Cm\n"
     ]
    }
   ],
   "source": [
    "van = ['am','bm','cm']\n",
    "for i in van:\n",
    "    if i == 'bm':\n",
    "        print(i.upper())\n",
    "    else:\n",
    "        print(i.title())"
   ]
  },
  {
   "cell_type": "code",
   "execution_count": 4,
   "metadata": {},
   "outputs": [
    {
     "data": {
      "text/plain": [
       "True"
      ]
     },
     "execution_count": 4,
     "metadata": {},
     "output_type": "execute_result"
    }
   ],
   "source": [
    "van = 'bm'\n",
    "van == 'bm'"
   ]
  },
  {
   "cell_type": "code",
   "execution_count": 7,
   "metadata": {},
   "outputs": [
    {
     "data": {
      "text/plain": [
       "'BM'"
      ]
     },
     "execution_count": 7,
     "metadata": {},
     "output_type": "execute_result"
    }
   ],
   "source": [
    "van = \"BM\"\n",
    "van.lower()==\"bm\"\n",
    "van"
   ]
  },
  {
   "cell_type": "code",
   "execution_count": 27,
   "metadata": {},
   "outputs": [
    {
     "name": "stdout",
     "output_type": "stream",
     "text": [
      "Nic will be vsil for 10 years\n"
     ]
    }
   ],
   "source": [
    "age1=18\n",
    "age2=28\n",
    "age1 <= 18 and age2 >= 28\n",
    "print(\"Nic will be vsil for 10 years\")"
   ]
  },
  {
   "cell_type": "code",
   "execution_count": 90,
   "metadata": {},
   "outputs": [
    {
     "name": "stdout",
     "output_type": "stream",
     "text": [
      "name: javid\n",
      "Enter your age: 43\n",
      "Javid your age is  43 years old you can apply for nic\n",
      "[['javid'], [43]]\n"
     ]
    }
   ],
   "source": [
    "n_a = []\n",
    "list_age = []\n",
    "list_name =[]\n",
    "\n",
    "age3=18\n",
    "b = input(\"name: \")\n",
    "a=int(input(\"Enter your age: \"))\n",
    "list_name.append(b)\n",
    "n_a.append(list_name)\n",
    "n_a.append(list_age)\n",
    "if a>=1 and a<=17:\n",
    "    current_age =  age3-a\n",
    "    list_age.append(a)\n",
    "    print(b.title(),\"you have to wait for\",current_age,\"year(s) more for Nic\")\n",
    "else:\n",
    "    list_age.append(a)\n",
    "    print(b.title(),\"your age is \",a,\"years old you can apply for nic\")\n",
    "print(n_a)"
   ]
  },
  {
   "cell_type": "code",
   "execution_count": null,
   "metadata": {},
   "outputs": [],
   "source": [
    "list_age = []\n",
    "list_name =[]\n",
    "age3=18\n",
    "for a in range(0,5):\n",
    "    a=int(input(\"enter your age: \"))\n",
    "    b = input(\"name\")\n",
    "    list_name.append(b)\n",
    "    if a>=1 and a<=17:\n",
    "        current_age =  age3-a\n",
    "        list_age.append(current_age)\n",
    "        print(\"you have to wait for \",current_age,\" year more for Nic\")\n",
    "    else:\n",
    "        print(\"your age is \",a,\"you can apply for nic\")\n",
    "        break\n",
    "print(\"waiting list \",list_age)\n",
    "print(n_a)"
   ]
  },
  {
   "cell_type": "code",
   "execution_count": 63,
   "metadata": {},
   "outputs": [
    {
     "data": {
      "text/plain": [
       "False"
      ]
     },
     "execution_count": 63,
     "metadata": {},
     "output_type": "execute_result"
    }
   ],
   "source": [
    "car = ['a','b','c','k','j']\n",
    "car\n",
    "'i' in car"
   ]
  },
  {
   "cell_type": "code",
   "execution_count": 68,
   "metadata": {},
   "outputs": [
    {
     "name": "stdout",
     "output_type": "stream",
     "text": [
      "please add i in list of car.  ['a', 'b', 'c', 'k', 'j']\n",
      "['a', 'b', 'c', 'k', 'j', 'i']\n"
     ]
    }
   ],
   "source": [
    "if 'i' not in car:\n",
    "    print('please add i in list of car. ' ,car)\n",
    "car.append('i')\n",
    "print(car)"
   ]
  },
  {
   "cell_type": "code",
   "execution_count": 3,
   "metadata": {},
   "outputs": [
    {
     "name": "stdout",
     "output_type": "stream",
     "text": [
      "your addmision cost is 5$\n"
     ]
    }
   ],
   "source": [
    "age = 17 \n",
    "if age < 4:\n",
    "    print(\"your addmision cost is 0$\")\n",
    "elif age < 18:\n",
    "    print(\"your addmision cost is 5$\")\n",
    "else:\n",
    "    print(\"you have to give some fee\")"
   ]
  },
  {
   "cell_type": "code",
   "execution_count": 6,
   "metadata": {},
   "outputs": [
    {
     "name": "stdout",
     "output_type": "stream",
     "text": [
      "your addmission cost is 5.\n"
     ]
    }
   ],
   "source": [
    "age = 17 \n",
    "if age < 4:\n",
    "    price = 0\n",
    "elif age < 18:\n",
    "    price = 5\n",
    "else:\n",
    "    print(\"you have to give some fee\")\n",
    "print('your addmission cost is '+str(price)+ \".\")"
   ]
  },
  {
   "cell_type": "code",
   "execution_count": 20,
   "metadata": {},
   "outputs": [
    {
     "name": "stdout",
     "output_type": "stream",
     "text": [
      "a show b\n",
      "f show g\n",
      "k show l\n",
      "t show u\n"
     ]
    },
    {
     "data": {
      "text/plain": [
       "['a', 'f', 'k', 't']"
      ]
     },
     "execution_count": 20,
     "metadata": {},
     "output_type": "execute_result"
    }
   ],
   "source": [
    "lst = ['a','f','k','t']\n",
    "if 'a' in lst:\n",
    "    print(lst[0],'show b')\n",
    "if 'k' in lst:\n",
    "    print(lst[1],'show g')\n",
    "if 't' in lst:\n",
    "    print(lst[2],'show l')\n",
    "if 'f' in lst:\n",
    "    print(lst[3],'show u')\n",
    "\n",
    "lst"
   ]
  },
  {
   "cell_type": "code",
   "execution_count": null,
   "metadata": {},
   "outputs": [],
   "source": []
  },
  {
   "cell_type": "code",
   "execution_count": null,
   "metadata": {},
   "outputs": [],
   "source": []
  },
  {
   "cell_type": "code",
   "execution_count": null,
   "metadata": {},
   "outputs": [],
   "source": []
  },
  {
   "cell_type": "code",
   "execution_count": null,
   "metadata": {},
   "outputs": [],
   "source": []
  },
  {
   "cell_type": "code",
   "execution_count": null,
   "metadata": {},
   "outputs": [],
   "source": []
  }
 ],
 "metadata": {
  "kernelspec": {
   "display_name": "Python 3",
   "language": "python",
   "name": "python3"
  },
  "language_info": {
   "codemirror_mode": {
    "name": "ipython",
    "version": 3
   },
   "file_extension": ".py",
   "mimetype": "text/x-python",
   "name": "python",
   "nbconvert_exporter": "python",
   "pygments_lexer": "ipython3",
   "version": "3.7.4"
  }
 },
 "nbformat": 4,
 "nbformat_minor": 2
}
