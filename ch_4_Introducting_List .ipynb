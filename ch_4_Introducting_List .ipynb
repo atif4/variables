{
 "cells": [
  {
   "cell_type": "markdown",
   "metadata": {},
   "source": [
    "# 4 Introducting List "
   ]
  },
  {
   "cell_type": "code",
   "execution_count": 2,
   "metadata": {},
   "outputs": [
    {
     "name": "stdout",
     "output_type": "stream",
     "text": [
      "['trek', 'cannodale', 'redline', 'specialized']\n"
     ]
    }
   ],
   "source": [
    "bicycles = ['trek','cannodale','redline','specialized']\n",
    "print(bicycles)"
   ]
  },
  {
   "cell_type": "code",
   "execution_count": 3,
   "metadata": {},
   "outputs": [
    {
     "name": "stdout",
     "output_type": "stream",
     "text": [
      "trek\n",
      "cannodale\n",
      "redline\n",
      "specialized\n"
     ]
    }
   ],
   "source": [
    "print(bicycles[0])\n",
    "print(bicycles[1])\n",
    "print(bicycles[2])\n",
    "print(bicycles[3])"
   ]
  },
  {
   "cell_type": "code",
   "execution_count": 4,
   "metadata": {},
   "outputs": [
    {
     "name": "stdout",
     "output_type": "stream",
     "text": [
      "My 1 was a Trek\n",
      "My 2 was a Cannodale\n",
      "My 3 was a Redline\n",
      "My 4 was a Specialized\n"
     ]
    }
   ],
   "source": [
    "b = 0\n",
    "for a in bicycles:\n",
    "    b+=1\n",
    "    print(\"My\",b ,\"was a\",a.title())"
   ]
  },
  {
   "cell_type": "code",
   "execution_count": 5,
   "metadata": {},
   "outputs": [
    {
     "name": "stdout",
     "output_type": "stream",
     "text": [
      "specialized\n"
     ]
    }
   ],
   "source": [
    "print(bicycles[-1])\n",
    "# this is for larg dataset to see last value"
   ]
  },
  {
   "cell_type": "code",
   "execution_count": 14,
   "metadata": {},
   "outputs": [
    {
     "name": "stdout",
     "output_type": "stream",
     "text": [
      "My 1st was a Trek.\n",
      "My 1st was a Cannodale.\n",
      "My 1st was a Redline.\n",
      "My 1st was a Specialized.\n",
      "My 2nd was a Trek.\n",
      "My 2nd was a Cannodale.\n",
      "My 2nd was a Redline.\n",
      "My 2nd was a Specialized.\n",
      "My 3rd was a Trek.\n",
      "My 3rd was a Cannodale.\n",
      "My 3rd was a Redline.\n",
      "My 3rd was a Specialized.\n",
      "My 4th was a Trek.\n",
      "My 4th was a Cannodale.\n",
      "My 4th was a Redline.\n",
      "My 4th was a Specialized.\n"
     ]
    }
   ],
   "source": [
    "rank = ['1st','2nd','3rd','4th']\n",
    "for b in rank:\n",
    "    for c in bicycles:\n",
    "        print( \"My \" + b + \" was a \" + c.title() + \".\" )"
   ]
  },
  {
   "cell_type": "code",
   "execution_count": 6,
   "metadata": {},
   "outputs": [
    {
     "name": "stdout",
     "output_type": "stream",
     "text": [
      "My  0  was a Trek.\n",
      "My  1  was a Cannodale.\n",
      "My  2  was a Redline.\n",
      "My  3  was a Specialized.\n"
     ]
    }
   ],
   "source": [
    "rank = ['1st','2nd','3rd','4th']\n",
    "\n",
    "for b in bicycles:\n",
    "    c = bicycles.index(b)\n",
    "    print( \"My \",c,\" was a \" + b.title() + \".\" )"
   ]
  },
  {
   "cell_type": "code",
   "execution_count": 7,
   "metadata": {},
   "outputs": [
    {
     "name": "stdout",
     "output_type": "stream",
     "text": [
      "hi  atif\n",
      "hi  ali\n",
      "hi  owais\n"
     ]
    }
   ],
   "source": [
    "name = [\"atif\",\"ali\",\"owais\"]\n",
    "massage = \"hi \"\n",
    "for a in name:\n",
    "    print(massage,a)"
   ]
  },
  {
   "cell_type": "markdown",
   "metadata": {},
   "source": [
    "# changing , adding and removomg the elements"
   ]
  },
  {
   "cell_type": "code",
   "execution_count": 8,
   "metadata": {},
   "outputs": [
    {
     "name": "stdout",
     "output_type": "stream",
     "text": [
      "[['atif', 'ali', 'owais']]\n",
      "Hi,  atif\n",
      "Hi,  ali\n",
      "Hi,  owais\n"
     ]
    }
   ],
   "source": [
    "relatives = []\n",
    "relatives.append(name)\n",
    "print(relatives)\n",
    "for i in name:\n",
    "    print(\"Hi, \",i)"
   ]
  },
  {
   "cell_type": "markdown",
   "metadata": {},
   "source": [
    "# insert()"
   ]
  },
  {
   "cell_type": "code",
   "execution_count": 9,
   "metadata": {},
   "outputs": [
    {
     "data": {
      "text/plain": [
       "'insert() function add element to list at any position where the user wants , however append() also add but it does at the\\nend and required only one argument , whereas insert takes two of them 1st position and element'"
      ]
     },
     "execution_count": 9,
     "metadata": {},
     "output_type": "execute_result"
    }
   ],
   "source": [
    "'''insert() function add element to list at any position where the user wants , however append() also add but it does at the\n",
    "end and required only one argument , whereas insert takes two of them 1st position and element'''\n"
   ]
  },
  {
   "cell_type": "code",
   "execution_count": 10,
   "metadata": {},
   "outputs": [
    {
     "name": "stdout",
     "output_type": "stream",
     "text": [
      "['sportCube', ('denceCube', 'tennisCube', 'musicCube'), 'yagoCube'] \n",
      "\n",
      "\n",
      "***********_____________*******\n",
      "\n",
      "\n",
      "['sportCube', 'yagoCube', ('denceCube', 'tennisCube', 'musicCube')]\n"
     ]
    }
   ],
   "source": [
    "cubs = ['sportCube','yagoCube']\n",
    "cubs1 = 'denceCube','tennisCube','musicCube'\n",
    "\n",
    "cubs.insert(1,cubs1)\n",
    "print(cubs,'\\n\\n')\n",
    "\n",
    "print(\"***********_____________*******\\n\\n\")\n",
    "\n",
    "cubs0 = ['sportCube','yagoCube']\n",
    "cubs0.append(cubs1)\n",
    "print(cubs0)"
   ]
  },
  {
   "cell_type": "markdown",
   "metadata": {},
   "source": [
    "# Removing an item using the del statement "
   ]
  },
  {
   "cell_type": "code",
   "execution_count": 11,
   "metadata": {
    "scrolled": true
   },
   "outputs": [
    {
     "name": "stdout",
     "output_type": "stream",
     "text": [
      "['a', 'b', 'c', 'd'] \n",
      "\n",
      "\n",
      "['a', 'c', 'd']\n"
     ]
    }
   ],
   "source": [
    "obj = ['a','b','c','d']\n",
    "print(obj,'\\n\\n')\n",
    "del obj[1]\n",
    "print(obj)"
   ]
  },
  {
   "cell_type": "markdown",
   "metadata": {
    "scrolled": true
   },
   "source": [
    "# Removing an item using the del statement "
   ]
  },
  {
   "cell_type": "code",
   "execution_count": 12,
   "metadata": {
    "scrolled": true
   },
   "outputs": [
    {
     "name": "stdout",
     "output_type": "stream",
     "text": [
      "active   words:  ['a', 'h', 'j']\n",
      "inactive words:  ['p', 'o', 'k']\n"
     ]
    }
   ],
   "source": [
    "words = ['a','h','j','k','o','p']\n",
    "b = []\n",
    "c = []\n",
    "for i in words: \n",
    "    a=words.pop()\n",
    "    b.append(i)\n",
    "    c.append(a)\n",
    "print(\"active   words: \",b)\n",
    "print(\"inactive words: \",c)"
   ]
  },
  {
   "cell_type": "code",
   "execution_count": 13,
   "metadata": {
    "scrolled": true
   },
   "outputs": [
    {
     "name": "stdout",
     "output_type": "stream",
     "text": [
      "he  is active   member:  ['a']\n",
      "she is unactive member:  ['r']\n",
      "he  is active   member:  ['a', 'h']\n",
      "she is unactive member:  ['r', 'p']\n",
      "he  is active   member:  ['a', 'h', 'j']\n",
      "she is unactive member:  ['r', 'p', 'o']\n",
      "he  is active   member:  ['a', 'h', 'j', 'k']\n",
      "she is unactive member:  ['r', 'p', 'o', 'k']\n"
     ]
    }
   ],
   "source": [
    "words = ['a','h','j','k','o','p','r']\n",
    "b=[]\n",
    "c =[]\n",
    "\n",
    "for i in words: \n",
    "    a=words.pop()\n",
    "    b.append(i)\n",
    "    print(\"he  is active   member: \",b)\n",
    "    c.append(a)\n",
    "    print(\"she is unactive member: \",c)"
   ]
  },
  {
   "cell_type": "code",
   "execution_count": 14,
   "metadata": {
    "scrolled": true
   },
   "outputs": [
    {
     "name": "stdout",
     "output_type": "stream",
     "text": [
      "('the ', 1, 'word is     :', 'a')\n",
      "('r', 'the ', 5, 'word is not :')\n",
      "('the ', 2, 'word is     :', 'h')\n",
      "('p', 'the ', 6, 'word is not :')\n",
      "('the ', 3, 'word is     :', 'j')\n",
      "('o', 'the ', 7, 'word is not :')\n",
      "('the ', 4, 'word is     :', 'k')\n",
      "('k', 'the ', 8, 'word is not :')\n"
     ]
    }
   ],
   "source": [
    "words = ['a','h','j','k','o','p','r']\n",
    "b=[]\n",
    "c =[]\n",
    "d=0\n",
    "e=4\n",
    "for i in words: \n",
    "    a=words.pop()\n",
    "    d+=1\n",
    "    e+=1\n",
    "    b.append(i)\n",
    "    f=\"the \",d,\"word is     :\",i\n",
    "    print(f)\n",
    "    if e != 4:\n",
    "        g = a,\"the \",e,\"word is not :\"\n",
    "        print(g)\n",
    "    #c.append(a)\n",
    "   # print(\"she is unactive member: \",c)"
   ]
  },
  {
   "cell_type": "markdown",
   "metadata": {},
   "source": [
    "# Removing item by value "
   ]
  },
  {
   "cell_type": "code",
   "execution_count": 15,
   "metadata": {},
   "outputs": [
    {
     "name": "stdout",
     "output_type": "stream",
     "text": [
      "['a', 'r', 'g']\n",
      "['r', 'g']\n"
     ]
    }
   ],
   "source": [
    "fn = [\"a\",\"r\",\"g\"]\n",
    "print(fn)\n",
    "fn.remove(\"a\")\n",
    "\n",
    "print(fn)"
   ]
  },
  {
   "cell_type": "code",
   "execution_count": 16,
   "metadata": {},
   "outputs": [
    {
     "name": "stdout",
     "output_type": "stream",
     "text": [
      "['a', 'r', 'g']\n",
      "['r', 'g']\n",
      "the word which is remove is:  A\n"
     ]
    }
   ],
   "source": [
    "fn = [\"a\",\"r\",\"g\"]\n",
    "\n",
    "print(fn)\n",
    "word = \"a\"\n",
    "fn.remove(\"a\")\n",
    "print(fn)\n",
    "print(\"the word which is remove is: \",word.title())"
   ]
  },
  {
   "cell_type": "code",
   "execution_count": 17,
   "metadata": {},
   "outputs": [
    {
     "name": "stdout",
     "output_type": "stream",
     "text": [
      "['ali', 'asif', '110'] \n",
      "\n",
      "Would Like To Take Dinner With Me 😘 Ali\n",
      "Would Like To Take Dinner With Me 😘 Asif\n",
      "Would Like To Take Dinner With Me 😘 110\n",
      "\n",
      " Sorry Saba I Can Not Make It     😥 110\n",
      " Ok, I Am Removing You From The List  110 \n",
      "\n",
      "Would Like To Take Dinner With Me 😘 babar , Yes\n",
      "Would Like To Take Dinner With Me 😘 hasan , Yes\n",
      "Would Like To Take Dinner With Me 😘 owais , Yes\n",
      "\n",
      " Thanks All Of You. 😊\n",
      "\n",
      " New List Is ['ali', 'asif', ['babar', 'hasan', 'owais']]\n"
     ]
    }
   ],
   "source": [
    "guest = [\"ali\",\"asif\",\"110\"]\n",
    "chguest = []\n",
    "print(guest,\"\\n\")\n",
    "massage = \"would like to take dinner with me 😘\"\n",
    "mas1 =\"sorry saba i can not make it     😥\"\n",
    "mas2 = \" ok, i am removing you from the list \"\n",
    "mas3 = \"new list is\"\n",
    "mas4 = \"thanks all of you. 😊\"\n",
    "for i in guest:\n",
    "    print(massage.title(),i.title())\n",
    "    if i == \"110\":\n",
    "        print(\"\\n\",mas1.title(),i.title())\n",
    "        guest.remove(\"110\")\n",
    "        print(mas2.title(),i,\"\\n\")\n",
    "        newguest = [\"babar\",\"hasan\",\"owais\"]\n",
    "        guest.insert(2,newguest)\n",
    "        for a in newguest:\n",
    "            print(massage.title(),a,\", Yes\")\n",
    "        print(\"\\n\",mas4.title())\n",
    "print(\"\\n\",mas3.title(),guest)"
   ]
  },
  {
   "cell_type": "code",
   "execution_count": 18,
   "metadata": {},
   "outputs": [
    {
     "name": "stdout",
     "output_type": "stream",
     "text": [
      "ATIF QURESHI .  Atif Qureshi .  atif qureshi . \n"
     ]
    }
   ],
   "source": [
    "name = \"atif\"\n",
    "lname = \"qureshi . \" \n",
    "fname = name + \" \" + lname\n",
    "print(fname.upper(),fname.title(),fname.lower())"
   ]
  },
  {
   "cell_type": "code",
   "execution_count": 19,
   "metadata": {},
   "outputs": [
    {
     "name": "stdout",
     "output_type": "stream",
     "text": [
      "The Zen of Python, by Tim Peters\n",
      "\n",
      "Beautiful is better than ugly.\n",
      "Explicit is better than implicit.\n",
      "Simple is better than complex.\n",
      "Complex is better than complicated.\n",
      "Flat is better than nested.\n",
      "Sparse is better than dense.\n",
      "Readability counts.\n",
      "Special cases aren't special enough to break the rules.\n",
      "Although practicality beats purity.\n",
      "Errors should never pass silently.\n",
      "Unless explicitly silenced.\n",
      "In the face of ambiguity, refuse the temptation to guess.\n",
      "There should be one-- and preferably only one --obvious way to do it.\n",
      "Although that way may not be obvious at first unless you're Dutch.\n",
      "Now is better than never.\n",
      "Although never is often better than *right* now.\n",
      "If the implementation is hard to explain, it's a bad idea.\n",
      "If the implementation is easy to explain, it may be a good idea.\n",
      "Namespaces are one honking great idea -- let's do more of those!\n"
     ]
    }
   ],
   "source": [
    "import this"
   ]
  },
  {
   "cell_type": "code",
   "execution_count": 20,
   "metadata": {},
   "outputs": [
    {
     "name": "stdout",
     "output_type": "stream",
     "text": [
      "Word On Even Position:  a\n",
      "word on odd position :  b\n",
      "Word On Even Position:  c\n",
      "word on odd position :  d\n",
      "Word On Even Position:  f\n",
      "word on odd position :  e\n",
      "Word On Even Position:  g\n",
      "word on odd position :  h\n",
      "Word On Even Position:  i\n",
      "word on odd position :  j\n",
      "Word On Even Position:  k\n",
      "word on odd position :  l\n",
      "Word On Even Position:  m\n",
      "word on odd position :  n\n",
      "Word On Even Position:  o\n",
      "word on odd position :  p\n",
      "Word On Even Position:  q\n",
      "word on odd position :  u\n",
      "Word On Even Position:  r\n",
      "word on odd position :  s\n",
      "Word On Even Position:  t\n",
      "word on odd position :  u\n",
      "Word On Even Position:  v\n",
      "word on odd position :  w\n",
      "Word On Even Position:  x\n",
      "word on odd position :  y\n",
      "Word On Even Position:  z\n"
     ]
    }
   ],
   "source": [
    "li = ['a','b','c','d','f','e','g','h','i','j','k','l','m','n','o','p','q','u','r','s','t','u','v','w','x','y','z']\n",
    "li\n",
    "mas  = \"word on even position: \"\n",
    "mas1 = \"word on odd position : \"\n",
    "a1 = []\n",
    "b1 = []\n",
    "for i in li:\n",
    "    a = li.index(i)\n",
    "    c = a%2\n",
    "    if c == 0:\n",
    "        a1.append(i)\n",
    "        print(mas.title() ,i)\n",
    "    elif c!=0:\n",
    "        b1.append(i)\n",
    "        print(mas1,i)"
   ]
  },
  {
   "cell_type": "code",
   "execution_count": 21,
   "metadata": {},
   "outputs": [
    {
     "name": "stdout",
     "output_type": "stream",
     "text": [
      "Word On Even Position:  a\n",
      "word on odd position :  b\n",
      "Word On Even Position:  c\n",
      "word on odd position :  d\n",
      "Word On Even Position:  f\n",
      "word on odd position :  e\n",
      "Word On Even Position:  g\n",
      "word on odd position :  h\n",
      "Word On Even Position:  i\n",
      "word on odd position :  j\n",
      "Word On Even Position:  k\n",
      "word on odd position :  l\n",
      "Word On Even Position:  m\n",
      "word on odd position :  n\n",
      "Word On Even Position:  o\n",
      "word on odd position :  p\n",
      "Word On Even Position:  q\n",
      "word on odd position :  u\n",
      "Word On Even Position:  r\n",
      "word on odd position :  s\n",
      "Word On Even Position:  t\n",
      "word on odd position :  u\n",
      "Word On Even Position:  v\n",
      "word on odd position :  w\n",
      "Word On Even Position:  x\n",
      "word on odd position :  y\n",
      "Word On Even Position:  z\n"
     ]
    }
   ],
   "source": [
    "li = ['a','b','c','d','f','e','g','h','i','j','k','l','m','n','o','p','q','u','r','s','t','u','v','w','x','y','z']\n",
    "li\n",
    "mas  = \"word on even position: \"\n",
    "mas1 = \"word on odd position : \"\n",
    "a1 = []\n",
    "b1 = []\n",
    "for i in li:\n",
    "    a = li.index(i)\n",
    "    c = a%2\n",
    "    if c == 0:\n",
    "        a1.append(i)\n",
    "        print(mas.title() ,i)\n",
    "    elif c!=0:\n",
    "        b1.append(i)\n",
    "        print(mas1,i)"
   ]
  },
  {
   "cell_type": "code",
   "execution_count": null,
   "metadata": {},
   "outputs": [],
   "source": []
  },
  {
   "cell_type": "code",
   "execution_count": 22,
   "metadata": {},
   "outputs": [
    {
     "name": "stdout",
     "output_type": "stream",
     "text": [
      "The Index Of Your Words Collection Is :  [0, 4, 8, 20]\n",
      "Your Words Collection Is              :  ['a', 'f', 'i', 't']\n"
     ]
    }
   ],
   "source": [
    "li = ['a','b','c','d','f','e','g','h','i','j','k','l','m','n','o','p','q','u','r','s','t','u','v','w','x','y','z']\n",
    "li\n",
    "mas  = \"your words collection is              : \"\n",
    "mas1 = \"the index of your words collection is : \"\n",
    "a1 = []  \n",
    "b1 = []\n",
    "for i in li:\n",
    "    if i == 'a' or i == 't' or i == 'i' or i == 'f'  :\n",
    "        a=li.index(i)\n",
    "        a1.append(i)\n",
    "        b1.append(a)\n",
    "print(mas1.title(),b1)\n",
    "print(mas.title(),a1)"
   ]
  },
  {
   "cell_type": "code",
   "execution_count": 23,
   "metadata": {},
   "outputs": [
    {
     "name": "stdout",
     "output_type": "stream",
     "text": [
      "It Is Even Number:    0\n",
      "It Is An Odd Number:  1\n",
      "It Is Even Number:    2\n",
      "It Is An Odd Number:  3\n",
      "It Is Even Number:    4\n",
      "It Is An Odd Number:  5\n",
      "It Is Even Number:    6\n",
      "It Is An Odd Number:  7\n",
      "It Is Even Number:    8\n",
      "It Is An Odd Number:  9\n",
      "It Is Even Number:    10\n"
     ]
    }
   ],
   "source": [
    "lis=[0,1,2,3,4,5,6,7,8,9]\n",
    "lis\n",
    "e = []\n",
    "f = []\n",
    "lis.insert(10,10)\n",
    "mas =  \"it is even number:   \" \n",
    "mas1 = \"it is an odd number: \"\n",
    "for i in lis:\n",
    "    a = i%2\n",
    "    if a == 0:\n",
    "        e.append(i)\n",
    "        print(mas.title(),i)\n",
    "    elif a != 0:\n",
    "        f.append(i)\n",
    "        print (mas1.title(),i)"
   ]
  },
  {
   "cell_type": "code",
   "execution_count": 24,
   "metadata": {},
   "outputs": [
    {
     "name": "stdout",
     "output_type": "stream",
     "text": [
      "It Is A List Of All Numbers  :   [0, 1, 2, 3, 4, 5, 6, 7, 8, 9, 10]\n",
      "These Are Even Numbers       :   [0, 2, 4, 6, 8, 10]\n",
      "These Are Odd  Numbers       :   [1, 3, 5, 7, 9]\n"
     ]
    }
   ],
   "source": [
    "lis=[0,1,2,3,4,5,6,7,8,9]\n",
    "e = [] \n",
    "f = []\n",
    "lis.insert(10,10)\n",
    "mas  = \"these are even numbers       :  \" \n",
    "mas1 = \"these are odd  numbers       :  \"\n",
    "mas2 = \"it is a list of all numbers  :  \" \n",
    "for i in lis:\n",
    "    a = i%2\n",
    "    if a == 0:\n",
    "        e.append(i)\n",
    "    elif a != 0:\n",
    "        f.append(i)\n",
    "print(mas2.title(),lis)\n",
    "print(mas.title(),e)\n",
    "print(mas1.title(),f)"
   ]
  },
  {
   "cell_type": "code",
   "execution_count": 25,
   "metadata": {},
   "outputs": [
    {
     "name": "stdout",
     "output_type": "stream",
     "text": [
      "he  is active   member:  ['a']\n",
      "she is unactive member:  ['r']\n",
      "he  is active   member:  ['a', 'h']\n",
      "she is unactive member:  ['r', 'p']\n",
      "he  is active   member:  ['a', 'h', 'j']\n",
      "she is unactive member:  ['r', 'p', 'o']\n",
      "he  is active   member:  ['a', 'h', 'j', 'k']\n",
      "she is unactive member:  ['r', 'p', 'o', 'k']\n"
     ]
    }
   ],
   "source": [
    "words = ['a','h','j','k','o','p','r']\n",
    "b = []\n",
    "c = []\n",
    "\n",
    "for i in words: \n",
    "    a=words.pop()\n",
    "    b.append(i)\n",
    "    print(\"he  is active   member: \",b)\n",
    "    c.append(a)\n",
    "    print(\"she is unactive member: \",c)"
   ]
  },
  {
   "cell_type": "code",
   "execution_count": 26,
   "metadata": {},
   "outputs": [
    {
     "name": "stdout",
     "output_type": "stream",
     "text": [
      "['*']\n",
      "['*', '*']\n",
      "['*', '*', '*']\n",
      "['*', '*', '*', '*']\n",
      "['*', '*', '*', '*', '*']\n",
      "['*', '*', '*', '*', '*', '*']\n",
      "['*', '*', '*', '*', '*', '*', '*']\n"
     ]
    }
   ],
   "source": [
    "b = []\n",
    "for i in range(0,7): \n",
    "    i='*'\n",
    "    b.append(i)\n",
    "    print(b)"
   ]
  },
  {
   "cell_type": "markdown",
   "metadata": {},
   "source": [
    "# using range to make list of numbers"
   ]
  },
  {
   "cell_type": "code",
   "execution_count": 27,
   "metadata": {},
   "outputs": [
    {
     "name": "stdout",
     "output_type": "stream",
     "text": [
      "[1, 2, 3, 4, 5, 6, 7, 8]\n"
     ]
    }
   ],
   "source": [
    "a = list(range(1,9))\n",
    "print(a)"
   ]
  },
  {
   "cell_type": "code",
   "execution_count": 28,
   "metadata": {},
   "outputs": [
    {
     "name": "stdout",
     "output_type": "stream",
     "text": [
      "Even [0, 2, 4, 6, 8, 10, 12, 14, 16, 18, 20, 22, 24, 26, 28, 30, 32, 34, 36, 38, 40, 42, 44, 46, 48, 50, 52, 54, 56, 58, 60, 62, 64, 66, 68, 70, 72, 74, 76, 78, 80, 82, 84, 86, 88, 90, 92, 94, 96, 98]\n"
     ]
    }
   ],
   "source": [
    "a = list(range(0,100,2))\n",
    "print(\"Even\",a)"
   ]
  },
  {
   "cell_type": "code",
   "execution_count": 29,
   "metadata": {},
   "outputs": [
    {
     "name": "stdout",
     "output_type": "stream",
     "text": [
      "THESE ARE THE SQUARES OF 1 TO 10:  [1, 4, 9, 16, 25, 36, 49, 64, 81, 100]\n"
     ]
    }
   ],
   "source": [
    "squares = []\n",
    "mas = \"these are the squares of 1 to 10: \"\n",
    "for a in range(1,11):\n",
    "    square = a**2\n",
    "    squares.append(square)\n",
    "print(mas.upper(),squares)"
   ]
  },
  {
   "cell_type": "code",
   "execution_count": 30,
   "metadata": {},
   "outputs": [
    {
     "name": "stdout",
     "output_type": "stream",
     "text": [
      "THESE ARE THE SQUARES OF 1 TO 10 :  [1, 4, 9, 16, 25, 36, 49, 64, 81, 100]\n",
      "Lowest  Square                   :   1\n",
      "Highest Square                   :   100\n",
      "The Sum Of Squares Are           :   385\n"
     ]
    }
   ],
   "source": [
    "squares = []\n",
    "mas  = \"these are the squares of 1 to 10 : \"\n",
    "mas1 = \"lowest  square                   :  \"\n",
    "mas2 = \"highest square                   :  \"\n",
    "mas3 = \"the sum of squares are           :  \"\n",
    "for a in range(1,11):\n",
    "    squares.append(a**2)\n",
    "print(mas.upper(),squares)\n",
    "print(mas1.title(),min(squares))\n",
    "print(mas2.title(),max(squares))\n",
    "print(mas3.title(),sum(squares))"
   ]
  },
  {
   "cell_type": "code",
   "execution_count": 31,
   "metadata": {},
   "outputs": [
    {
     "name": "stdout",
     "output_type": "stream",
     "text": [
      "table 2:  [2, 4, 6, 8, 10, 12, 14, 16, 18, 20]\n"
     ]
    }
   ],
   "source": [
    "mad = \"table 2: \"\n",
    "numbers = [v*2 for v in range(1,11)]\n",
    "print(mad,numbers)"
   ]
  },
  {
   "cell_type": "code",
   "execution_count": 32,
   "metadata": {},
   "outputs": [
    {
     "name": "stdout",
     "output_type": "stream",
     "text": [
      "[1, 2, 3, 4, 5, 6, 7, 8, 9, 10, 11, 12, 13, 14, 15, 16, 17, 18, 19, 20]\n",
      "210\n"
     ]
    }
   ],
   "source": [
    "twenty = []\n",
    "for a in range(1,21):\n",
    "    twenty.append(a)\n",
    "print(twenty)\n",
    "print(sum(twenty))"
   ]
  },
  {
   "cell_type": "code",
   "execution_count": 33,
   "metadata": {},
   "outputs": [
    {
     "name": "stdout",
     "output_type": "stream",
     "text": [
      "sum  of odd numbers : [1, 3, 5, 7, 9, 11, 13, 15, 17, 19]\n",
      "sum  of odd numbers : 100\n"
     ]
    }
   ],
   "source": [
    "twenty = []\n",
    "mad = \"list of odd numbers :\"\n",
    "mad = \"sum  of odd numbers :\"\n",
    "for a in range(1,20,2):\n",
    "    twenty.append(a)\n",
    "print(mad,twenty)\n",
    "print(mad,sum(twenty))"
   ]
  },
  {
   "cell_type": "code",
   "execution_count": 34,
   "metadata": {},
   "outputs": [
    {
     "name": "stdout",
     "output_type": "stream",
     "text": [
      "Multiplies Of Threes:  [3, 6, 9, 12, 15, 18, 21, 24, 27, 30]\n"
     ]
    }
   ],
   "source": [
    "mas=\"multiplies of threes: \"\n",
    "threes = [a*3 for a in range(1,11)]\n",
    "print(mas.title(),threes)"
   ]
  },
  {
   "cell_type": "code",
   "execution_count": 35,
   "metadata": {},
   "outputs": [
    {
     "name": "stdout",
     "output_type": "stream",
     "text": [
      "THE CUBE OF 1  IS  1\n",
      "THE CUBE OF 2  IS  8\n",
      "THE CUBE OF 3  IS  27\n",
      "THE CUBE OF 4  IS  64\n",
      "THE CUBE OF 5  IS  125\n",
      "THE CUBE OF 6  IS  216\n",
      "THE CUBE OF 7  IS  343\n",
      "THE CUBE OF 8  IS  512\n",
      "THE CUBE OF 9  IS  729\n",
      "THE CUBE OF 10  IS  1000\n"
     ]
    }
   ],
   "source": [
    "cubes=[]\n",
    "mas=\"the cube of\"\n",
    "for a in range(1,11):\n",
    "    b=a**3\n",
    "    cubes.append(b)\n",
    "    print(mas.upper(),a,\" IS \",b)"
   ]
  },
  {
   "cell_type": "code",
   "execution_count": 36,
   "metadata": {},
   "outputs": [
    {
     "name": "stdout",
     "output_type": "stream",
     "text": [
      "the cubes of 1 to 10 are:  [1, 8, 27, 64, 125, 216, 343, 512, 729, 1000]\n"
     ]
    }
   ],
   "source": [
    "mas=\"the cubes of 1 to 10 are: \"\n",
    "cubes=[a**3 for a in range(1,11)]\n",
    "print(mas,cubes)"
   ]
  },
  {
   "cell_type": "markdown",
   "metadata": {},
   "source": [
    "# working with part of list "
   ]
  },
  {
   "cell_type": "code",
   "execution_count": 37,
   "metadata": {},
   "outputs": [
    {
     "name": "stdout",
     "output_type": "stream",
     "text": [
      "['a', 'h', 'j', 'o', 'k', 'l', 't', 'y']\n",
      "['h', 'j', 'q', 'k', 'l', 't', 'y', 'n']\n",
      "0 * H\n",
      "1 * J\n",
      "2 * Q\n",
      "3 * K\n",
      "4 * L\n",
      "5 * T\n",
      "6 * Y\n",
      "7 * N\n",
      "['h', 'j', 'q', 'k', 'l', 't', 'y', 'n']\n",
      "['q', 'k', 'l']\n",
      "['h', 'j', 'q', 'k']\n",
      "['l', 't', 'y', 'n']\n"
     ]
    }
   ],
   "source": [
    "players=['a','h','j','o','k','l','t','y']\n",
    "print(players)\n",
    "players.append('n')\n",
    "players.insert(3,'q')\n",
    "players.remove('o')\n",
    "del players[0]\n",
    "print(players)\n",
    "for a in players:\n",
    "    print(players.index(a),\"*\",a.title())\n",
    "print(players)\n",
    "print(players[2:5])\n",
    "print(players[:4]) #it stop  at index 4\n",
    "print(players[4:]) #it start at index 4 "
   ]
  },
  {
   "cell_type": "code",
   "execution_count": 38,
   "metadata": {},
   "outputs": [
    {
     "name": "stdout",
     "output_type": "stream",
     "text": [
      "['h', 'j', 'q', 'k', 'l', 't', 'y', 'n']\n",
      "['t', 'y', 'n']\n",
      "['h', 'j', 'q', 'k', 'l']\n"
     ]
    }
   ],
   "source": [
    "print(players)\n",
    "print(players[-3:])#it start from -ve  \n",
    "print(players[:-3])"
   ]
  },
  {
   "cell_type": "code",
   "execution_count": 39,
   "metadata": {},
   "outputs": [
    {
     "name": "stdout",
     "output_type": "stream",
     "text": [
      "['h', 'j', 'q', 'k', 'l', 't', 'y', 'n']\n",
      "3 k\n",
      "4 l\n",
      "5 t\n",
      "6 y\n",
      "7 n\n"
     ]
    }
   ],
   "source": [
    "print(players)\n",
    "for i in players[3:]:\n",
    "    print(players.index(i),i)"
   ]
  },
  {
   "cell_type": "markdown",
   "metadata": {},
   "source": [
    "# copying a list"
   ]
  },
  {
   "cell_type": "code",
   "execution_count": 40,
   "metadata": {},
   "outputs": [
    {
     "name": "stdout",
     "output_type": "stream",
     "text": [
      "THIS IS YOUR CHOICE LIST         :  ['bargar', 'pizza', 'coffee', 'caka', 'rasheny salad']\n",
      "This Is Your Friends Choice List :  ['bargar', 'pizza', 'French fries', 'coffee', 'caka']\n"
     ]
    }
   ],
   "source": [
    "mas  = 'this is your choice list         : '\n",
    "mas1 = 'this is your friends choice list : '\n",
    "my_food = ['bargar','pizza','coffee','caka']\n",
    "my_friends = my_food[:]\n",
    "my_food.append('rasheny salad')\n",
    "my_friends.insert(2,'French fries')\n",
    "print(mas.upper(),my_food)\n",
    "print(mas1.title(),my_friends)"
   ]
  },
  {
   "cell_type": "code",
   "execution_count": 41,
   "metadata": {},
   "outputs": [
    {
     "name": "stdout",
     "output_type": "stream",
     "text": [
      "THIS IS YOUR CHOICE LIST         :  ['bargar', 'pizza', 'coffee', 'caka', 'rasheny salad']\n",
      "This Is Your Friends Choice List :  ['bargar', 'pizza', 'French fries', 'coffee', 'caka']\n"
     ]
    }
   ],
   "source": [
    "mas  = 'this is your choice list         : '\n",
    "mas1 = 'this is your friends choice list : '\n",
    "my_food = ['bargar','pizza','coffee','caka']\n",
    "my_friends = my_food[:]\n",
    "my_food.append('rasheny salad')\n",
    "#my_friends.append('French fries')\n",
    "print(mas.upper(),my_food)\n",
    "#my_friends = my_food[:]\n",
    "my_friends.insert(2,'French fries')\n",
    "print(mas1.title(),my_friends)"
   ]
  },
  {
   "cell_type": "code",
   "execution_count": 42,
   "metadata": {},
   "outputs": [
    {
     "name": "stdout",
     "output_type": "stream",
     "text": [
      "THE FIRST THREE ITEMS IN LIST ARE           :  ['aa', 'bb', 'cc']\n",
      "THREE ITEMS FROM THE MIDDLE OF THE LIST ARE :  ['dd', 'ee', 'ff']\n",
      "LAST THREE ITEMS FROM THE LIST ARE          :  ['gg', 'hh', 'gg']\n"
     ]
    }
   ],
   "source": [
    "items = ['aa','bb','cc','dd','ee','ff','gg','hh','gg']\n",
    "mas   = \"the first three items in list are           : \"\n",
    "mas1  = \"three items from the middle of the list are : \"\n",
    "mas2  = \"last three items from the list are          : \"\n",
    "print(mas.upper(),items[:3])\n",
    "print(mas1.upper(),items[3:6])\n",
    "print(mas2.upper(),items[6:9])"
   ]
  },
  {
   "cell_type": "code",
   "execution_count": 43,
   "metadata": {},
   "outputs": [
    {
     "name": "stdout",
     "output_type": "stream",
     "text": [
      "the first three items in list are           :  ['aa', 'bb', 'cc']\n",
      "three items from the middle of the list are :  ['dd', 'ee', 'ff']\n",
      "last three items from the list are          :  ['gg', 'hh', 'gg']\n"
     ]
    }
   ],
   "source": [
    "text  = []\n",
    "mas   = \"the first three items in list are           : \"\n",
    "mas1  = \"three items from the middle of the list are : \"\n",
    "mas2  = \"last three items from the list are          : \"\n",
    "text.append(mas)\n",
    "text.append(mas1)\n",
    "text.append(mas2)\n",
    "items = ['aa','bb','cc','dd','ee','ff','gg','hh','gg']\n",
    "for i in text:\n",
    "    if i == mas:\n",
    "        print(i,items[:3])\n",
    "    elif i == mas1:\n",
    "        print(i,items[3:6])\n",
    "    elif i == mas2:\n",
    "        print(i,items[6:9])"
   ]
  },
  {
   "cell_type": "code",
   "execution_count": 44,
   "metadata": {},
   "outputs": [
    {
     "name": "stdout",
     "output_type": "stream",
     "text": [
      "my favorite pizzas are          :  ['s', 'v', 'z']\n",
      "my friend's favorite pizzas are :  ['s', 'v', 'z']\n",
      "[['s', 'v', 'z'], ['s', 'v', 'k']]\n",
      "['s', 'v', 'z']\n",
      "['s', 'v', 'k']\n"
     ]
    }
   ],
   "source": [
    "Choice = []\n",
    "text   = []\n",
    "minds = ['s','v']\n",
    "yours = minds[:]\n",
    "#for a in choice\n",
    "minds.append('z')\n",
    "yours.append('k')\n",
    "Choice.append(minds)\n",
    "Choice.append(yours)\n",
    "mas  = 'my favorite pizzas are          : '\n",
    "mas1 = \"my friend's favorite pizzas are : \"\n",
    "text.append(mas)\n",
    "text.append(mas1)\n",
    "for i in Choice:\n",
    "    for a in text:\n",
    "        print(a,i)\n",
    "    break\n",
    "print(Choice)\n",
    "print(minds)\n",
    "print(yours)"
   ]
  },
  {
   "cell_type": "code",
   "execution_count": 45,
   "metadata": {},
   "outputs": [
    {
     "name": "stdout",
     "output_type": "stream",
     "text": [
      "word at 0 is a\n",
      "word at 1 is b\n",
      "word at 2 is c\n",
      "word at 3 is d\n",
      "word at 4 is f\n",
      "word at 5 is e\n",
      "word at 6 is g\n",
      "word at 7 is h\n",
      "word at 8 is i\n",
      "word at 9 is j\n",
      "word at 10 is k\n",
      "word at 11 is l\n",
      "word at 12 is m\n",
      "word at 13 is n\n",
      "word at 14 is o\n",
      "word at 15 is p\n",
      "word at 16 is q\n",
      "word at 17 is u\n",
      "word at 18 is r\n",
      "word at 19 is s\n",
      "word at 20 is t\n",
      "word at 17 is u\n",
      "word at 22 is v\n",
      "word at 23 is w\n",
      "word at 24 is x\n",
      "word at 25 is y\n",
      "word at 26 is z\n"
     ]
    }
   ],
   "source": [
    "li = ['a','b','c','d','f','e','g','h','i','j','k','l','m','n','o','p','q','u','r','s','t','u','v','w','x','y','z']\n",
    "mad = 'word'\n",
    "list2 = []\n",
    "for i in li:\n",
    "    list2.append(i)\n",
    "    print(mad,'at',list2.index(i),\"is\",i)"
   ]
  },
  {
   "cell_type": "markdown",
   "metadata": {},
   "source": [
    "# Tuples"
   ]
  },
  {
   "cell_type": "code",
   "execution_count": 46,
   "metadata": {},
   "outputs": [
    {
     "name": "stdout",
     "output_type": "stream",
     "text": [
      "2\n",
      "5\n"
     ]
    }
   ],
   "source": [
    "dimension=(2,5)\n",
    "print(dimension[0])\n",
    "print(dimension[1])"
   ]
  },
  {
   "cell_type": "code",
   "execution_count": 47,
   "metadata": {},
   "outputs": [
    {
     "name": "stdout",
     "output_type": "stream",
     "text": [
      "original dimension:  (2, 5)\n",
      "modify dimension:  (345, 987)\n",
      "2\n",
      "5\n"
     ]
    }
   ],
   "source": [
    "dimension=(2,5)\n",
    "mas=\"original dimension: \"\n",
    "mas1=\"modify dimension: \"\n",
    "for i in dimension:\n",
    "    print(mas,dimension)\n",
    "    break\n",
    "di2=(345,987)\n",
    "for a in di2:\n",
    "    print(mas1,di2)\n",
    "    break\n",
    "print(dimension[0])\n",
    "print(dimension[1])"
   ]
  }
 ],
 "metadata": {
  "kernelspec": {
   "display_name": "Python 3",
   "language": "python",
   "name": "python3"
  },
  "language_info": {
   "codemirror_mode": {
    "name": "ipython",
    "version": 3
   },
   "file_extension": ".py",
   "mimetype": "text/x-python",
   "name": "python",
   "nbconvert_exporter": "python",
   "pygments_lexer": "ipython3",
   "version": "3.7.4"
  }
 },
 "nbformat": 4,
 "nbformat_minor": 2
}
