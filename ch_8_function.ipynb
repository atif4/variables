{
 "cells": [
  {
   "cell_type": "markdown",
   "metadata": {},
   "source": [
    "# function"
   ]
  },
  {
   "cell_type": "markdown",
   "metadata": {},
   "source": [
    "# defining function"
   ]
  },
  {
   "cell_type": "code",
   "execution_count": 1,
   "metadata": {},
   "outputs": [
    {
     "name": "stdout",
     "output_type": "stream",
     "text": [
      "hello\n"
     ]
    }
   ],
   "source": [
    "def great_user():\n",
    "    print('hello')\n",
    "great_user()"
   ]
  },
  {
   "cell_type": "markdown",
   "metadata": {},
   "source": [
    "# passin information to a function "
   ]
  },
  {
   "cell_type": "code",
   "execution_count": 2,
   "metadata": {},
   "outputs": [
    {
     "name": "stdout",
     "output_type": "stream",
     "text": [
      "hello Atif!\n"
     ]
    }
   ],
   "source": [
    "def great_user(username):\n",
    "    print('hello '+username.title()+'!')\n",
    "great_user('atif')"
   ]
  },
  {
   "cell_type": "markdown",
   "metadata": {},
   "source": [
    "# task"
   ]
  },
  {
   "cell_type": "code",
   "execution_count": 3,
   "metadata": {},
   "outputs": [
    {
     "name": "stdout",
     "output_type": "stream",
     "text": [
      "i am learning cheapter 8\n"
     ]
    }
   ],
   "source": [
    "def display_mas():\n",
    "    print(\"i am learning cheapter 8\")\n",
    "display_mas()"
   ]
  },
  {
   "cell_type": "code",
   "execution_count": 4,
   "metadata": {},
   "outputs": [
    {
     "name": "stdout",
     "output_type": "stream",
     "text": [
      "the title of book is Python .\n"
     ]
    }
   ],
   "source": [
    "def favourit_book(title):\n",
    "    print(\"the title of book is \"+title.title()+\" .\")\n",
    "favourit_book('python')"
   ]
  },
  {
   "cell_type": "markdown",
   "metadata": {},
   "source": [
    "# positional arguments"
   ]
  },
  {
   "cell_type": "code",
   "execution_count": 5,
   "metadata": {},
   "outputs": [
    {
     "name": "stdout",
     "output_type": "stream",
     "text": [
      "I have animal type of Wild\n",
      "It's name is Jew .\n"
     ]
    }
   ],
   "source": [
    "def describe_pet(animal_type,animal_name):\n",
    "    print(\"I have animal type of \"+animal_type.title()+\"\\nIt's name is \"+animal_name.title()+\" .\")\n",
    "describe_pet(\"wild\",\"jew\")"
   ]
  },
  {
   "cell_type": "markdown",
   "metadata": {},
   "source": [
    "# multiple function calls"
   ]
  },
  {
   "cell_type": "code",
   "execution_count": 6,
   "metadata": {},
   "outputs": [
    {
     "name": "stdout",
     "output_type": "stream",
     "text": [
      "\n",
      "I have animal type of Wild\n",
      "It's name is Jew .\n",
      "\n",
      "I have animal type of Domestic\n",
      "It's name is John .\n"
     ]
    }
   ],
   "source": [
    "def describe_pet(animal_type,animal_name):\n",
    "    print(\"\\nI have animal type of \"+animal_type.title()+\"\\nIt's name is \"+animal_name.title()+\" .\")\n",
    "describe_pet(\"wild\",\"jew\")\n",
    "describe_pet(\"domestic\",\"john\")"
   ]
  },
  {
   "cell_type": "markdown",
   "metadata": {},
   "source": [
    "# keywords arguments"
   ]
  },
  {
   "cell_type": "code",
   "execution_count": 7,
   "metadata": {},
   "outputs": [
    {
     "name": "stdout",
     "output_type": "stream",
     "text": [
      "\n",
      "I have animal type of Wild\n",
      "It's name is Jew .\n",
      "\n",
      "I have animal type of John\n",
      "It's name is Domestic .\n"
     ]
    }
   ],
   "source": [
    "def describe_pet(animal_type,animal_name):\n",
    "    print(\"\\nI have animal type of \"+animal_type.title()+\"\\nIt's name is \"+animal_name.title()+\" .\")\n",
    "describe_pet(animal_type=\"wild\",animal_name=\"jew\")\n",
    "describe_pet(animal_name=\"domestic\",animal_type=\"john\")"
   ]
  },
  {
   "cell_type": "markdown",
   "metadata": {},
   "source": [
    "# default values"
   ]
  },
  {
   "cell_type": "code",
   "execution_count": 8,
   "metadata": {},
   "outputs": [
    {
     "name": "stdout",
     "output_type": "stream",
     "text": [
      "\n",
      "I have animal type of Dog\n",
      "It's name is Jew .\n",
      "\n",
      "I have animal type of Dog\n",
      "It's name is John .\n"
     ]
    }
   ],
   "source": [
    "def describe_pet(animal_name,animal_type='dog'):\n",
    "    print(\"\\nI have animal type of \"+animal_type.title()+\"\\nIt's name is \"+animal_name.title()+\" .\")\n",
    "describe_pet(\"jew\")\n",
    "describe_pet(\"john\")"
   ]
  },
  {
   "cell_type": "markdown",
   "metadata": {},
   "source": [
    "# task"
   ]
  },
  {
   "cell_type": "code",
   "execution_count": 9,
   "metadata": {},
   "outputs": [
    {
     "name": "stdout",
     "output_type": "stream",
     "text": [
      "The size of shirt is 32 \n",
      "The text on shirt is My Father Is Handsome.\n"
     ]
    }
   ],
   "source": [
    "def make_shirt(size,text):\n",
    "        print(\"The size of shirt is\",size,\"\\nThe text on shirt is\",text)\n",
    "make_shirt(32,\"My Father Is Handsome.\")    "
   ]
  },
  {
   "cell_type": "code",
   "execution_count": 10,
   "metadata": {},
   "outputs": [
    {
     "name": "stdout",
     "output_type": "stream",
     "text": [
      "The size of shirt is 2 \n",
      "The text on shirt is My borther Is Hot.\n"
     ]
    }
   ],
   "source": [
    "def make_shirt(size,text):\n",
    "        print(\"The size of shirt is\",size,\"\\nThe text on shirt is\",text)\n",
    "make_shirt(size=2,text=\"My borther Is Hot.\")    "
   ]
  },
  {
   "cell_type": "code",
   "execution_count": 11,
   "metadata": {},
   "outputs": [
    {
     "name": "stdout",
     "output_type": "stream",
     "text": [
      "The size of shirt is 2 \n",
      "The text on shirt is My borther Is Hot.\n"
     ]
    }
   ],
   "source": [
    "def make_shirt(text,size=\"large\"):\n",
    "        print(\"The size of shirt is\",size,\"\\nThe text on shirt is\",text)\n",
    "make_shirt(size=2,text=\"My borther Is Hot.\")    "
   ]
  },
  {
   "cell_type": "code",
   "execution_count": 12,
   "metadata": {},
   "outputs": [
    {
     "name": "stdout",
     "output_type": "stream",
     "text": [
      "Hyderabad Is In Pakistan\n",
      "Karachi Is In Pakistan\n",
      "Lahore Is In Pakistan\n"
     ]
    }
   ],
   "source": [
    "mad = ' is in '\n",
    "def describe_city(c_name,c_c=\"pakistan\"):\n",
    "    print(c_name.title()+mad.title()+c_c.title())\n",
    "describe_city(\"hyderabad\")\n",
    "describe_city(\"karachi\")\n",
    "describe_city(\"lahore\")"
   ]
  },
  {
   "cell_type": "markdown",
   "metadata": {},
   "source": [
    "# Return Values"
   ]
  },
  {
   "cell_type": "code",
   "execution_count": 13,
   "metadata": {},
   "outputs": [
    {
     "name": "stdout",
     "output_type": "stream",
     "text": [
      "Ali Younus\n"
     ]
    }
   ],
   "source": [
    "def get_formatted_name(f_n,l_n):\n",
    "    full_name=f_n+\" \"+l_n\n",
    "    \n",
    "    return full_name.title()\n",
    "    \n",
    "labour=get_formatted_name('ali','younus')\n",
    "print(labour)"
   ]
  },
  {
   "cell_type": "code",
   "execution_count": 14,
   "metadata": {},
   "outputs": [
    {
     "name": "stdout",
     "output_type": "stream",
     "text": [
      "silver high\n"
     ]
    }
   ],
   "source": [
    "def car(c_n,c_r):\n",
    "    mad = c_n+\" \"+c_r\n",
    "    return mad\n",
    "agent = car(\"silver\",\"high\")\n",
    "print(agent)"
   ]
  },
  {
   "cell_type": "code",
   "execution_count": 15,
   "metadata": {},
   "outputs": [
    {
     "name": "stdout",
     "output_type": "stream",
     "text": [
      "Park Location Is Hyderabad And It'S Status Is Excellent .\n"
     ]
    }
   ],
   "source": [
    "def park(location,status):\n",
    "    detail=\"park location is \"+location+\" and it's status is \"+status+\" .\"\n",
    "    return detail.title()\n",
    "a=park(\"hyderabad\",\"excellent\")\n",
    "print(a)    "
   ]
  },
  {
   "cell_type": "code",
   "execution_count": 16,
   "metadata": {},
   "outputs": [
    {
     "name": "stdout",
     "output_type": "stream",
     "text": [
      "Baby Name Is Atif\n",
      "Age Is 56 .\n"
     ]
    }
   ],
   "source": [
    "def baby(b_name,b_age):\n",
    "    info = \"baby name is \"+b_name+\"\\nage is \"+b_age+\" .\"\n",
    "    return info.title()\n",
    "b =baby(\"atif\",'56')\n",
    "print(b)"
   ]
  },
  {
   "cell_type": "markdown",
   "metadata": {},
   "source": [
    "# making an argumEnt optional"
   ]
  },
  {
   "cell_type": "code",
   "execution_count": 17,
   "metadata": {},
   "outputs": [
    {
     "name": "stdout",
     "output_type": "stream",
     "text": [
      "Mohammad Ali Younus\n"
     ]
    }
   ],
   "source": [
    "def get_formatted_name(f_n,m_n,l_n):\n",
    "    full_name=f_n+\" \"+m_n+\" \"+l_n\n",
    "    \n",
    "    return full_name.title()\n",
    "    \n",
    "labour=get_formatted_name('mohammad','ali','younus')\n",
    "print(labour)"
   ]
  },
  {
   "cell_type": "code",
   "execution_count": 18,
   "metadata": {},
   "outputs": [
    {
     "name": "stdout",
     "output_type": "stream",
     "text": [
      "Mohammad Younus Ali\n"
     ]
    }
   ],
   "source": [
    "def get_formatted_name(f_n,l_n,m_n=''):\n",
    "    if m_n:\n",
    "        full_name=f_n+\" \"+m_n+\" \"+l_n\n",
    "    else:\n",
    "        full_name=f_n+\" \"+l_n\n",
    "    return full_name.title()\n",
    "    \n",
    "labour=get_formatted_name('mohammad','ali','younus')\n",
    "print(labour)"
   ]
  },
  {
   "cell_type": "code",
   "execution_count": 19,
   "metadata": {},
   "outputs": [
    {
     "name": "stdout",
     "output_type": "stream",
     "text": [
      "Mohammad Younus\n"
     ]
    }
   ],
   "source": [
    "def get_formatted_name(f_n,l_n,m_n=''):\n",
    "    if m_n:\n",
    "        full_name=f_n+\" \"+m_n+\" \"+l_n\n",
    "    else:\n",
    "        full_name=f_n+\" \"+l_n\n",
    "    return full_name.title()\n",
    "    \n",
    "labour=get_formatted_name('mohammad','younus')\n",
    "print(labour)"
   ]
  },
  {
   "cell_type": "markdown",
   "metadata": {},
   "source": [
    "# return dictionary"
   ]
  },
  {
   "cell_type": "code",
   "execution_count": 20,
   "metadata": {},
   "outputs": [
    {
     "name": "stdout",
     "output_type": "stream",
     "text": [
      "{'First': 'atif', 'Last': 'qureshi'}\n"
     ]
    }
   ],
   "source": [
    "def person(f_n,l_n):\n",
    "    full={'First':f_n,'Last':l_n}\n",
    "    return full\n",
    "b=person('atif','qureshi')\n",
    "print(b)"
   ]
  },
  {
   "cell_type": "code",
   "execution_count": 21,
   "metadata": {},
   "outputs": [
    {
     "name": "stdout",
     "output_type": "stream",
     "text": [
      "{'car': 'silver', 'rent': 'high'}\n"
     ]
    }
   ],
   "source": [
    "def car(c_n,c_r):\n",
    "    mad = {'car':c_n,'rent':c_r}\n",
    "    return mad\n",
    "agent = car(\"silver\",\"high\")\n",
    "print(agent)"
   ]
  },
  {
   "cell_type": "code",
   "execution_count": 22,
   "metadata": {},
   "outputs": [
    {
     "name": "stdout",
     "output_type": "stream",
     "text": [
      "{'park location is': 'hyderabad', \"it's status is\": 'excellent'}\n"
     ]
    }
   ],
   "source": [
    "def park(location,status):\n",
    "    detail={\"park location is\":location,\"it's status is\":status}\n",
    "    return detail\n",
    "a=park(\"hyderabad\",\"excellent\")\n",
    "print(a)    "
   ]
  },
  {
   "cell_type": "code",
   "execution_count": 23,
   "metadata": {},
   "outputs": [
    {
     "name": "stdout",
     "output_type": "stream",
     "text": [
      "{'baby name is ': 'atif', 'age is ': '56'}\n"
     ]
    }
   ],
   "source": [
    "def baby(b_name,b_age):\n",
    "    info = {\"baby name is \":b_name,\"age is \":b_age}\n",
    "    return info\n",
    "b =baby(\"atif\",'56')\n",
    "print(b)"
   ]
  },
  {
   "cell_type": "markdown",
   "metadata": {},
   "source": [
    "# using a function with while loop"
   ]
  },
  {
   "cell_type": "code",
   "execution_count": 2,
   "metadata": {},
   "outputs": [
    {
     "name": "stdout",
     "output_type": "stream",
     "text": [
      "\n",
      "please tell me your name \n",
      "first name a\n",
      "last name t\n",
      "Hello A T .\n",
      "['A T']\n",
      "\n",
      "please tell me your name \n",
      "first name q\n"
     ]
    }
   ],
   "source": [
    "def get_formatted_name(f_n,l_n):\n",
    "    full_name=f_n+\" \"+l_n\n",
    "    return full_name.title()\n",
    "while True:\n",
    "    print(\"\\nplease tell me your name \")\n",
    "    a = input(\"first name \")\n",
    "    c=[]\n",
    "    if a == 'q':\n",
    "        break\n",
    "    b = input(\"last name \")\n",
    "    if b == 'q':\n",
    "        break\n",
    "    labour=get_formatted_name(a,b)\n",
    "    c.append(labour)\n",
    "    print(\"Hello \"+labour+\" .\")\n",
    "    print(c)"
   ]
  },
  {
   "cell_type": "code",
   "execution_count": 25,
   "metadata": {},
   "outputs": [
    {
     "name": "stdout",
     "output_type": "stream",
     "text": [
      "Neem Tree\n"
     ]
    }
   ],
   "source": [
    "def v(a,b='tree'):\n",
    "    s = a +\" \" + b\n",
    "    return s.title()\n",
    "z= v('neem')\n",
    "print(z)"
   ]
  },
  {
   "cell_type": "code",
   "execution_count": 26,
   "metadata": {},
   "outputs": [
    {
     "name": "stdout",
     "output_type": "stream",
     "text": [
      "{'name': 'neem', 'plant': 'tree'}\n"
     ]
    }
   ],
   "source": [
    "def v(a,b='tree'):\n",
    "    s = {'name':a,'plant':b}\n",
    "    return s\n",
    "z= v('neem')\n",
    "print(z)"
   ]
  },
  {
   "cell_type": "code",
   "execution_count": 27,
   "metadata": {},
   "outputs": [
    {
     "name": "stdout",
     "output_type": "stream",
     "text": [
      "\n",
      "please enter the name\n",
      "name q\n"
     ]
    }
   ],
   "source": [
    "def v(a,b='tree'):\n",
    "    s = a +\" \" + b\n",
    "    return s.title()\n",
    "while True:\n",
    "    d = []\n",
    "    print('\\nplease enter the name')\n",
    "    c=input(\"name \")\n",
    "    if c == 'q':\n",
    "        break\n",
    "    z= v(c)\n",
    "    d.append(z)\n",
    "    print(z)\n",
    "    print(d)"
   ]
  },
  {
   "cell_type": "markdown",
   "metadata": {},
   "source": [
    "# task"
   ]
  },
  {
   "cell_type": "code",
   "execution_count": 28,
   "metadata": {},
   "outputs": [
    {
     "name": "stdout",
     "output_type": "stream",
     "text": [
      "Hyderabad Pakistan\n",
      "Karachi Pakistan\n",
      "Lahore Pakistan\n"
     ]
    }
   ],
   "source": [
    "def city_country(c_n,c_c):\n",
    "    a = c_n+\" \"+c_c\n",
    "    return a.title()\n",
    "b=city_country(\"hyderabad\",\"pakistan\")\n",
    "cb=city_country(\"Karachi\",\"pakistan\")\n",
    "db=city_country(\"Lahore\",\"pakistan\")\n",
    "print(b)\n",
    "print(cb)\n",
    "print(db)"
   ]
  },
  {
   "cell_type": "code",
   "execution_count": 13,
   "metadata": {},
   "outputs": [
    {
     "name": "stdout",
     "output_type": "stream",
     "text": [
      "{'Artist Name': 'ATIF', 'Album Title': 'KAHA HO'}\n",
      "{'Artist Name': 'JUSTIN', 'Album Title': 'DO NOT GIVE UP', 'Trucks': '8'}\n",
      "{'Artist Name': 'NAHA', 'Album Title': 'SUMMARY IS HOT'}\n"
     ]
    }
   ],
   "source": [
    "def make_album(artist_name,album_title,no_of_truck=''):\n",
    "    if no_of_truck:\n",
    "        b = {\"Artist Name\":artist_name.upper(),\"Album Title\":album_title.upper(),\"Trucks\":no_of_truck}\n",
    "    else:\n",
    "        b = {\"Artist Name\":artist_name.upper(),\"Album Title\":album_title.upper()}\n",
    "    return b\n",
    "a=make_album(\"atif\",\"Kaha ho\")\n",
    "bb=make_album(\"justin\",\"do not give up\",\"8\")\n",
    "c=make_album(\"naha\",\"summary is hot\")\n",
    "print(a)\n",
    "print(bb)\n",
    "print(c)"
   ]
  },
  {
   "cell_type": "code",
   "execution_count": 1,
   "metadata": {},
   "outputs": [
    {
     "name": "stdout",
     "output_type": "stream",
     "text": [
      "Please enter Artist name atu\n",
      "Please enter Album Title hot\n",
      "{'Artist Name': 'ATU', 'Album Title': 'HOT'}\n",
      "Please enter Artist name q\n"
     ]
    }
   ],
   "source": [
    "def make_album(artist_name,album_title,no_of_truck=''):\n",
    "    if no_of_truck:\n",
    "        b = {\"Artist Name\":artist_name.upper(),\"Album Title\":album_title.upper(),\"Trucks\":no_of_truck}\n",
    "        return b\n",
    "    else:\n",
    "        b = {\"Artist Name\":artist_name.upper(),\"Album Title\":album_title.upper()}\n",
    "        return b\n",
    "while True:\n",
    "    a = input(\"Please enter Artist name \")\n",
    "    if a == 'q':\n",
    "        break\n",
    "    c = input(\"Please enter Album Title \")\n",
    "    if c == 'q':\n",
    "        break\n",
    "    #e = input(\"please enter Number of trucks\")\n",
    "    #if e == 'q':\n",
    "    #    break\n",
    "    d = make_album(a,c)\n",
    "    print(d)"
   ]
  },
  {
   "cell_type": "markdown",
   "metadata": {},
   "source": [
    "# passing a list"
   ]
  },
  {
   "cell_type": "code",
   "execution_count": 31,
   "metadata": {},
   "outputs": [
    {
     "name": "stdout",
     "output_type": "stream",
     "text": [
      "Hello ,Atif wish you HBD 🎇🎆✨ .\n",
      "Hello ,Ali your baby is cute .\n",
      "Hello ,Babar are you married ?\n"
     ]
    }
   ],
   "source": [
    "def greet_user(names,wish):\n",
    "    x=0\n",
    "    for name in names:\n",
    "        print(\"Hello ,\"+name.title()+wish[x])\n",
    "        x+=1\n",
    "names=['atif','ali','babar']\n",
    "wish=[' wish you HBD 🎇🎆✨ .',' your baby is cute .',' are you married ?']\n",
    "greet_user(names,wish)"
   ]
  },
  {
   "cell_type": "code",
   "execution_count": 42,
   "metadata": {},
   "outputs": [
    {
     "name": "stdout",
     "output_type": "stream",
     "text": [
      "Hi atif,\t your number is 0\n",
      "Hi atif,\t your number is 12\n",
      "Hi atif,\t your number is 67\n",
      "Hi atif,\t your number is 8\n",
      "Hi atif,\t your number is 9\n",
      "Hi javad,\t your number is 0\n",
      "Hi javad,\t your number is 12\n",
      "Hi javad,\t your number is 67\n",
      "Hi javad,\t your number is 8\n",
      "Hi javad,\t your number is 9\n",
      "Hi jahana,\t your number is 0\n",
      "Hi jahana,\t your number is 12\n",
      "Hi jahana,\t your number is 67\n",
      "Hi jahana,\t your number is 8\n",
      "Hi jahana,\t your number is 9\n",
      "Hi saba,\t your number is 0\n",
      "Hi saba,\t your number is 12\n",
      "Hi saba,\t your number is 67\n",
      "Hi saba,\t your number is 8\n",
      "Hi saba,\t your number is 9\n",
      "Hi zanib,\t your number is 0\n",
      "Hi zanib,\t your number is 12\n",
      "Hi zanib,\t your number is 67\n",
      "Hi zanib,\t your number is 8\n",
      "Hi zanib,\t your number is 9\n"
     ]
    }
   ],
   "source": [
    "def greet_users(names,a):\n",
    "    for i in names:\n",
    "        for z in alist:\n",
    "            mas1 = \"Hi \"+i+\",\\t your number is \"+str(z)\n",
    "            print(mas1)\n",
    "        #break\n",
    "userslist=[\"atif\",\"javad\",\"jahana\",\"saba\",\"zanib\"]\n",
    "alist=[0,12,67,8,9]\n",
    "greet_users(userslist,alist)"
   ]
  },
  {
   "cell_type": "code",
   "execution_count": 33,
   "metadata": {},
   "outputs": [
    {
     "name": "stdout",
     "output_type": "stream",
     "text": [
      "Hi atif,\tYour number is 0\n",
      "Hi javad,\tYour number is 12\n",
      "Hi jahana,\tYour number is 67\n",
      "Hi saba,\tYour number is 8\n",
      "Hi zanib,\tYour number is 9\n"
     ]
    }
   ],
   "source": [
    "def greet_users(names,a):\n",
    "    v=0\n",
    "    for i in names:\n",
    "        mas1 = \"Hi \"+str(i)+\",\\tYour number is \"+str(a[v])\n",
    "        v+=1\n",
    "        print(mas1)\n",
    "names=[\"atif\",\"javad\",\"jahana\",\"saba\",\"zanib\"]\n",
    "a=[0,12,67,8,9]\n",
    "greet_users(names,a)"
   ]
  },
  {
   "cell_type": "markdown",
   "metadata": {},
   "source": [
    "# modifying a list of a function"
   ]
  },
  {
   "cell_type": "code",
   "execution_count": 34,
   "metadata": {},
   "outputs": [
    {
     "name": "stdout",
     "output_type": "stream",
     "text": [
      "printing model: Q Mobile\n",
      "printing model: Roboot\n",
      "printing model: Iphone\n",
      "\n",
      "The following models have been completed \n",
      "Q Mobile\n",
      "Roboot\n",
      "Iphone\n"
     ]
    }
   ],
   "source": [
    "unpaired_design = ['iPhone','roboot','Q mobile']\n",
    "completed_models=[]\n",
    "\n",
    "while unpaired_design:\n",
    "    a=unpaired_design.pop()\n",
    "    print(\"printing model: \"+a.title())\n",
    "    completed_models.append(a)\n",
    "    \n",
    "print(\"\\nThe following models have been completed \")\n",
    "for i in completed_models:\n",
    "    print(i.title())"
   ]
  },
  {
   "cell_type": "code",
   "execution_count": 35,
   "metadata": {},
   "outputs": [
    {
     "name": "stdout",
     "output_type": "stream",
     "text": [
      "printing model: Q Mobile\n",
      "printing model: Roboot\n",
      "printing model: Iphone\n",
      "\n",
      "The following models have been completed \n",
      "Q Mobile\n",
      "Roboot\n",
      "Iphone\n"
     ]
    }
   ],
   "source": [
    "unpaired_design = ['iPhone','roboot','Q mobile']\n",
    "completed_models=[]\n",
    "def print_model(unpaired_design,completed_models):\n",
    "    \n",
    "    while unpaired_design:\n",
    "        a=unpaired_design.pop()\n",
    "        print(\"printing model: \"+a.title())\n",
    "        completed_models.append(a)\n",
    "print_model(unpaired_design,completed_models)\n",
    "\n",
    "def show_completed_models(completed_models):\n",
    "    print(\"\\nThe following models have been completed \")\n",
    "    for i in completed_models:\n",
    "        print(i.title())\n",
    "show_completed_models(completed_models)"
   ]
  },
  {
   "cell_type": "code",
   "execution_count": 36,
   "metadata": {},
   "outputs": [
    {
     "name": "stdout",
     "output_type": "stream",
     "text": [
      "[]\n"
     ]
    }
   ],
   "source": [
    "print_model(unpaired_design[:],completed_models)\n",
    "print_model(unpaired_design[:],completed_models)\n",
    "print(unpaired_design)"
   ]
  },
  {
   "cell_type": "markdown",
   "metadata": {},
   "source": [
    "# task"
   ]
  },
  {
   "cell_type": "code",
   "execution_count": 37,
   "metadata": {},
   "outputs": [
    {
     "name": "stdout",
     "output_type": "stream",
     "text": [
      "john\n",
      "petter\n",
      "smith\n"
     ]
    }
   ],
   "source": [
    "def show_magician_name(magician_name):\n",
    "    for i in magician_name:\n",
    "        print(i)\n",
    "magician_name = ['john','petter','smith']\n",
    "show_magician_name(magician_name)"
   ]
  },
  {
   "cell_type": "code",
   "execution_count": 38,
   "metadata": {},
   "outputs": [
    {
     "name": "stdout",
     "output_type": "stream",
     "text": [
      "smith\n",
      "petter\n",
      "john\n"
     ]
    }
   ],
   "source": [
    "def show_magician_name(names):\n",
    "    while magician_name:\n",
    "        a=magician_name.pop()\n",
    "        print(a)\n",
    "magician_name = ['john','petter','smith']\n",
    "show_magician_name(magician_name)"
   ]
  },
  {
   "cell_type": "code",
   "execution_count": 39,
   "metadata": {},
   "outputs": [
    {
     "name": "stdout",
     "output_type": "stream",
     "text": [
      "john\n",
      "petter\n",
      "smith\n",
      "\n",
      "\n",
      "The great smith\n",
      "The great petter\n",
      "The great john\n"
     ]
    }
   ],
   "source": [
    "def show_magician_name(magician_name):\n",
    "    for i in magician_name:\n",
    "        print(i)\n",
    "magician_name = ['john','petter','smith']\n",
    "show_magician_name(magician_name)\n",
    "print('\\n')\n",
    "def make_great():\n",
    "    while magician_name:\n",
    "        a=magician_name.pop()\n",
    "        print(\"The great \"+a)\n",
    "make_great()"
   ]
  },
  {
   "cell_type": "markdown",
   "metadata": {},
   "source": [
    "def show_magician_name(magician_name):\n",
    "    for i in magician_name:\n",
    "        print(i)\n",
    "magician_name = ['john','petter','smith']\n",
    "show_magician_name(magician_name)\n",
    "print('\\n')\n",
    "def make_great():\n",
    "    while magician_name:\n",
    "        a=magician_name.pop()\n",
    "        print(\"The great \"+a)\n",
    "make_great()"
   ]
  },
  {
   "cell_type": "code",
   "execution_count": 20,
   "metadata": {},
   "outputs": [
    {
     "name": "stdout",
     "output_type": "stream",
     "text": [
      "helle\n",
      "------------------------------------\n",
      "hello ATIF\n",
      "------------------------------------\n",
      "Seyed Qulander\n",
      "------------------------------------\n",
      "Hyderabad'S Status Is Peacful .\n",
      "------------------------------------\n",
      "Karachi Is In Pakistan .\n",
      "Lahore Is In Pakistan .\n",
      "------------------------------------\n",
      "Student Name Is Saba, Saba'S Roll Number Is 121, Saba'S Department Is It .\n",
      "Student Name Is Atif, Atif'S Roll Number Is 110, Atif'S Department Is It .\n",
      "Student Name Is Syed Qulander, Syed Qulander'S Roll Number Is 79, Syed Qulander'S Department Is It .\n",
      "------------------------------------\n",
      "SABA 121 IT\n",
      "ATIF 110  \n",
      "SYED QULANDER 79 IT\n",
      "------------------------------------\n",
      "{'study place': 'Hasrat Mohani Library', 'study time': '9:00 AM'}\n",
      "------------------------------------\n",
      "IT department is on the East\n",
      "IICT department is on the Wast\n",
      "MATH department is on the North\n",
      "------------------------------------\n",
      "customer name: q\n",
      "------------------------------------\n",
      "ali\n",
      "Atif\n",
      "babar\n",
      "------------------------------------\n",
      "babar\n",
      "Atif\n",
      "ali\n"
     ]
    }
   ],
   "source": [
    "def a():\n",
    "    print('helle')\n",
    "a()\n",
    "print('------------------------------------')\n",
    "def b(name):\n",
    "    print('hello '+name.upper())\n",
    "b('atif')\n",
    "print('------------------------------------')\n",
    "def c(f_n,l_n):\n",
    "    mas=f_n+\" \"+l_n\n",
    "    print(mas.title())\n",
    "c('seyed','qulander')\n",
    "print('------------------------------------')\n",
    "def d(c_n,c_s):\n",
    "    mas = c_n+\"'s status is \"+c_s+\" .\"\n",
    "    print(mas.title())\n",
    "d(c_n='hyderabad',c_s='peacful')\n",
    "print('------------------------------------')\n",
    "def e(c_n,c_cn='pakistan'):\n",
    "    mas=c_n+' is in '+c_cn+' .'\n",
    "    print(mas.title())\n",
    "e(c_n='karachi')\n",
    "e('lahore')\n",
    "print('------------------------------------')\n",
    "def f(s_n,r_no,d_n):\n",
    "    mas = \"student name is \"+s_n+\", \"+s_n+\"'s roll number is \"+str(r_no)+\", \"+s_n+\"'s department is \"+d_n+\" .\"\n",
    "    return mas.title()\n",
    "a=f('saba','121','it')\n",
    "b=f(r_no='110',d_n='it',s_n='atif')\n",
    "c=f(d_n='it',s_n='syed qulander',r_no='79')\n",
    "print(a)\n",
    "print(b)\n",
    "print(c)\n",
    "print('------------------------------------')\n",
    "def g(s_n,r_no,d_n=' '):\n",
    "    if d_n:\n",
    "        mas = s_n+\" \"+str(r_no)+\" \"+d_n\n",
    "    else:\n",
    "        mas = s_n +\" \"+ str(r_no)\n",
    "    return mas.upper()\n",
    "a=g('saba','121','it')\n",
    "b=g(r_no='110',s_n='atif')\n",
    "c=g(d_n='it',s_n='syed qulander',r_no='79')\n",
    "print(a)\n",
    "print(b)\n",
    "print(c)\n",
    "print('------------------------------------')\n",
    "def f_d(s_p,s_t):\n",
    "    info ={'study place':s_p,'study time':s_t}\n",
    "    return info\n",
    "a=f_d('Hasrat Mohani Library','9:00 AM')\n",
    "print(a)\n",
    "print('------------------------------------')\n",
    "def f_l(dep,directions):\n",
    "    direction=0\n",
    "    for i in dep:\n",
    "        print(i.upper()+\" department is on the \"+str(directions[direction]).title())\n",
    "        direction+=1\n",
    "dep=['it','iict','math']\n",
    "directions=['east','wast','north']\n",
    "f_l(dep,directions)\n",
    "print('------------------------------------')\n",
    "def f_w(c_n,n_t):\n",
    "    aa = c_n+\" brought \"+n_t+\" items\"\n",
    "    return aa.title()\n",
    "while True:\n",
    "    b_i = input(\"customer name: \")\n",
    "    if b_i == 'q' :\n",
    "        break\n",
    "    c_i = input(\"no of items: \")\n",
    "    if c_i == 'q':\n",
    "        break\n",
    "    d = f_w(b_i,c_i)\n",
    "    print(d)\n",
    "print('------------------------------------')\n",
    "def s_m(names):\n",
    "    for i in names:\n",
    "        print(i)\n",
    "names=['ali','Atif','babar']\n",
    "s_m(names)\n",
    "print('------------------------------------')\n",
    "def s_m(names):\n",
    "    while names:\n",
    "        b=names.pop()\n",
    "        print(b)\n",
    "names=['ali','Atif','babar']\n",
    "s_m(names)\n"
   ]
  },
  {
   "cell_type": "markdown",
   "metadata": {},
   "source": [
    "# passing an arbitrary number of arguments"
   ]
  },
  {
   "cell_type": "code",
   "execution_count": 6,
   "metadata": {},
   "outputs": [
    {
     "name": "stdout",
     "output_type": "stream",
     "text": [
      "('a', 'j', 'k', 'kl')\n",
      "('uu', 'lll')\n"
     ]
    }
   ],
   "source": [
    "def pizza(*toppings):\n",
    "    #for i in topping:\n",
    "    print(toppings)\n",
    "pizza('a','j','k','kl')\n",
    "pizza('uu','lll')"
   ]
  },
  {
   "cell_type": "code",
   "execution_count": 23,
   "metadata": {},
   "outputs": [
    {
     "name": "stdout",
     "output_type": "stream",
     "text": [
      "\n",
      "making 🍕 with following topping\n",
      "🍕 with a\n",
      "🍕 with j\n",
      "🍕 with k\n",
      "🍕 with kl\n",
      "\n",
      "making 🍕 with following topping\n",
      "🍕 with uu\n",
      "🍕 with lll\n",
      "\n",
      "making 🍕 with following topping\n",
      "🍕 with love\n",
      "🍕 with hate\n",
      "🍕 with sweet\n"
     ]
    }
   ],
   "source": [
    "def pizza(*toppings):\n",
    "    print('\\nmaking 🍕 with following topping')\n",
    "    for i in toppings:\n",
    "        print(\"🍕 with \"+i)\n",
    "pizza('a','j','k','kl')\n",
    "pizza('uu','lll')\n",
    "pizza('love','hate','sweet')"
   ]
  },
  {
   "cell_type": "code",
   "execution_count": 32,
   "metadata": {},
   "outputs": [
    {
     "name": "stdout",
     "output_type": "stream",
     "text": [
      "\n",
      "Making a 12-inch pizza with following topping\n",
      "a\n",
      "j\n",
      "k\n",
      "kl\n",
      "\n",
      "Making a 16-inch pizza with following topping\n",
      "uu\n",
      "lll\n"
     ]
    }
   ],
   "source": [
    "def pizza(size,*toppings):\n",
    "    print(\"\\nMaking a \"+str(size)+\"-inch pizza with following topping\")\n",
    "    for i in toppings:\n",
    "        print(i)\n",
    "pizza(12,'a','j','k','kl')\n",
    "pizza(16,'uu','lll')"
   ]
  },
  {
   "cell_type": "markdown",
   "metadata": {},
   "source": [
    "# using arbitary keyword arguments"
   ]
  },
  {
   "cell_type": "code",
   "execution_count": 21,
   "metadata": {},
   "outputs": [
    {
     "ename": "TypeError",
     "evalue": "buils_profile() missing 2 required positional arguments: 'f' and 'l'",
     "output_type": "error",
     "traceback": [
      "\u001b[1;31m---------------------------------------------------------------------------\u001b[0m",
      "\u001b[1;31mTypeError\u001b[0m                                 Traceback (most recent call last)",
      "\u001b[1;32m<ipython-input-21-0862b9bc5cf0>\u001b[0m in \u001b[0;36m<module>\u001b[1;34m\u001b[0m\n\u001b[0;32m     13\u001b[0m             \u001b[0mprofile\u001b[0m\u001b[1;33m[\u001b[0m\u001b[0ma\u001b[0m\u001b[1;33m]\u001b[0m\u001b[1;33m=\u001b[0m\u001b[0mb\u001b[0m\u001b[1;33m\u001b[0m\u001b[1;33m\u001b[0m\u001b[0m\n\u001b[0;32m     14\u001b[0m         \u001b[1;32mreturn\u001b[0m \u001b[0mprofile\u001b[0m\u001b[1;33m\u001b[0m\u001b[1;33m\u001b[0m\u001b[0m\n\u001b[1;32m---> 15\u001b[1;33m \u001b[0ma\u001b[0m \u001b[1;33m=\u001b[0m \u001b[0mbuils_profile\u001b[0m\u001b[1;33m(\u001b[0m\u001b[0msex\u001b[0m\u001b[1;33m=\u001b[0m\u001b[1;34m'male'\u001b[0m\u001b[1;33m)\u001b[0m\u001b[1;33m\u001b[0m\u001b[1;33m\u001b[0m\u001b[0m\n\u001b[0m\u001b[0;32m     16\u001b[0m \u001b[0mprint\u001b[0m \u001b[1;33m(\u001b[0m\u001b[0ma\u001b[0m\u001b[1;33m)\u001b[0m\u001b[1;33m\u001b[0m\u001b[1;33m\u001b[0m\u001b[0m\n\u001b[0;32m     17\u001b[0m \u001b[1;33m\u001b[0m\u001b[0m\n",
      "\u001b[1;31mTypeError\u001b[0m: buils_profile() missing 2 required positional arguments: 'f' and 'l'"
     ]
    }
   ],
   "source": [
    "def buils_profile(f,l,**u_i):\n",
    "    while True:\n",
    "        profile={}\n",
    "        a=input(\"please enter your first name: \")\n",
    "        if a == 'q':\n",
    "            break\n",
    "        b=input(\"please enter your last name: \")\n",
    "        if b == 'q':\n",
    "            break\n",
    "        profile[\"first name \"]=a\n",
    "        profile[\"least name \"]=b\n",
    "        for a,b in u_i.items():\n",
    "            profile[a]=b\n",
    "        return profile\n",
    "a = buils_profile(sex='male')\n",
    "print (a)\n",
    "        "
   ]
  },
  {
   "cell_type": "code",
   "execution_count": 2,
   "metadata": {},
   "outputs": [
    {
     "name": "stdout",
     "output_type": "stream",
     "text": [
      "{'first name ': 'atif', 'last name ': 'qureshi', 'loaction': 'hyderabad', 'field': 'it'}\n"
     ]
    }
   ],
   "source": [
    "def build_profile(f,l,**u_f):\n",
    "    profile = {}\n",
    "    profile['first name ']=f\n",
    "    profile['last name ']=l\n",
    "    for key , value in u_f.items():\n",
    "        profile[key]=value\n",
    "    return profile\n",
    "a=build_profile('atif','qureshi'\n",
    "                ,loaction='hyderabad',field='it')\n",
    "print(a)"
   ]
  },
  {
   "cell_type": "markdown",
   "metadata": {},
   "source": [
    "# task"
   ]
  },
  {
   "cell_type": "code",
   "execution_count": 23,
   "metadata": {},
   "outputs": [
    {
     "name": "stdout",
     "output_type": "stream",
     "text": [
      "sandwich with following items \n",
      "cold\n",
      "sandwich with following items \n",
      "cream\n",
      "sandwich with following items \n",
      "chips\n",
      "sandwich with following items \n",
      "water\n",
      "sandwich with following items \n",
      "soda\n",
      "sandwich with following items \n",
      "cigarate\n",
      "sandwich with following items \n",
      "bar\n"
     ]
    }
   ],
   "source": [
    "def sandwiches(*items):\n",
    "    for i in items:\n",
    "        print('sandwich with following items \\n'+i)\n",
    "sandwiches('cold')\n",
    "sandwiches('cream','chips','water')\n",
    "sandwiches('soda','cigarate','bar')"
   ]
  },
  {
   "cell_type": "code",
   "execution_count": 24,
   "metadata": {},
   "outputs": [
    {
     "name": "stdout",
     "output_type": "stream",
     "text": [
      "sandwich with following items\n",
      " ('cold',)\n",
      "sandwich with following items\n",
      " ('cream', 'chips', 'water')\n",
      "sandwich with following items\n",
      " ('soda', 'cigarate', 'bar')\n"
     ]
    }
   ],
   "source": [
    "def sandwiches(*items):\n",
    "    print('sandwich with following items\\n',items)\n",
    "sandwiches('cold')\n",
    "sandwiches('cream','chips','water')\n",
    "sandwiches('soda','cigarate','bar')"
   ]
  },
  {
   "cell_type": "code",
   "execution_count": 25,
   "metadata": {},
   "outputs": [
    {
     "name": "stdout",
     "output_type": "stream",
     "text": [
      "{'Manufacturer name': 'Maharan', 'Model name': '1', 'color': 'bule'}\n",
      "{'Manufacturer name': 'Ali autos', 'Model name': 123, 'year': '2015', 'company': 'pak-turka'}\n"
     ]
    }
   ],
   "source": [
    "def car_info(m_n,mo_n,**c_i):\n",
    "    car = {}\n",
    "    car['Manufacturer name']=m_n\n",
    "    car['Model name']=mo_n\n",
    "    for key,value in c_i.items():\n",
    "        car[key]=value\n",
    "    return car\n",
    "a=car_info('Maharan','1',color='bule')\n",
    "print(a)\n",
    "b=car_info('Ali autos',123,year='2015',company='pak-turka')\n",
    "print(b)"
   ]
  },
  {
   "cell_type": "code",
   "execution_count": 29,
   "metadata": {},
   "outputs": [
    {
     "name": "stdout",
     "output_type": "stream",
     "text": [
      "{'Tree name': 'Neem', 'Numbers of Tree': 1200, 'park_name': 'gold Neem'}\n",
      "{'Tree name': 'mango', 'Numbers of Tree': 120, 'production': '100 touns', 'kind': 'laungra'}\n"
     ]
    }
   ],
   "source": [
    "def tree_info(t_n,t_no,**t_info):\n",
    "    tree={}\n",
    "    tree['Tree name']=t_n\n",
    "    tree['Numbers of Tree']=t_no\n",
    "    for i,j in t_info.items():\n",
    "        tree[i]=j\n",
    "    return tree\n",
    "a=tree_info('Neem',1200,park_name='gold Neem')\n",
    "print(a)\n",
    "b=tree_info('mango',120,production='100 touns',kind='laungra')\n",
    "print(b)"
   ]
  },
  {
   "cell_type": "code",
   "execution_count": 2,
   "metadata": {},
   "outputs": [],
   "source": [
    "import tree"
   ]
  },
  {
   "cell_type": "code",
   "execution_count": null,
   "metadata": {},
   "outputs": [],
   "source": []
  },
  {
   "cell_type": "code",
   "execution_count": null,
   "metadata": {},
   "outputs": [],
   "source": []
  },
  {
   "cell_type": "code",
   "execution_count": null,
   "metadata": {},
   "outputs": [],
   "source": []
  },
  {
   "cell_type": "code",
   "execution_count": null,
   "metadata": {},
   "outputs": [],
   "source": []
  },
  {
   "cell_type": "code",
   "execution_count": null,
   "metadata": {},
   "outputs": [],
   "source": []
  },
  {
   "cell_type": "code",
   "execution_count": null,
   "metadata": {},
   "outputs": [],
   "source": []
  },
  {
   "cell_type": "code",
   "execution_count": null,
   "metadata": {},
   "outputs": [],
   "source": []
  },
  {
   "cell_type": "code",
   "execution_count": null,
   "metadata": {},
   "outputs": [],
   "source": []
  },
  {
   "cell_type": "code",
   "execution_count": null,
   "metadata": {},
   "outputs": [],
   "source": []
  },
  {
   "cell_type": "code",
   "execution_count": null,
   "metadata": {},
   "outputs": [],
   "source": []
  }
 ],
 "metadata": {
  "kernelspec": {
   "display_name": "Python 3",
   "language": "python",
   "name": "python3"
  },
  "language_info": {
   "codemirror_mode": {
    "name": "ipython",
    "version": 3
   },
   "file_extension": ".py",
   "mimetype": "text/x-python",
   "name": "python",
   "nbconvert_exporter": "python",
   "pygments_lexer": "ipython3",
   "version": "3.7.4"
  }
 },
 "nbformat": 4,
 "nbformat_minor": 2
}
