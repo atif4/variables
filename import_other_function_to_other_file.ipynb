{
 "cells": [
  {
   "cell_type": "code",
   "execution_count": 1,
   "metadata": {},
   "outputs": [
    {
     "name": "stdout",
     "output_type": "stream",
     "text": [
      "Enter 'q' to stop program at any time \n",
      "Enter the first name: atif\n",
      "Enter the last name: qureshi\n",
      "atif qureshi\n",
      "Enter the first name: q\n",
      "List of first name\n",
      "\n",
      "\tatif\n",
      "\tq\n",
      "List of last name\n",
      "\n",
      "\tqureshi\n"
     ]
    }
   ],
   "source": [
    "from function_name import g_f_n\n",
    "print(\"Enter 'q' to stop program at any time \")\n",
    "first = []\n",
    "last = []\n",
    "while True:\n",
    "    f_n = input('Enter the first name: ')\n",
    "    first.append(f_n)\n",
    "    if f_n == 'q':\n",
    "        break\n",
    "    l_n = input('Enter the last name: ')\n",
    "    last.append(l_n)\n",
    "    if l_n == 'q':\n",
    "        break \n",
    "    a = g_f_n(f_n,l_n)\n",
    "    print(f_n,l_n)\n",
    "print('List of first name\\n')\n",
    "for i in first:\n",
    "    print('\\t'+str(i))\n",
    "print('List of last name\\n')\n",
    "for j in last:\n",
    "    print('\\t'+str(j))"
   ]
  },
  {
   "cell_type": "code",
   "execution_count": null,
   "metadata": {},
   "outputs": [],
   "source": []
  }
 ],
 "metadata": {
  "kernelspec": {
   "display_name": "Python 3",
   "language": "python",
   "name": "python3"
  },
  "language_info": {
   "codemirror_mode": {
    "name": "ipython",
    "version": 3
   },
   "file_extension": ".py",
   "mimetype": "text/x-python",
   "name": "python",
   "nbconvert_exporter": "python",
   "pygments_lexer": "ipython3",
   "version": "3.7.4"
  }
 },
 "nbformat": 4,
 "nbformat_minor": 2
}
