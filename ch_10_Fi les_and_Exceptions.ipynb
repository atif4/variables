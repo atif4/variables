{
 "cells": [
  {
   "cell_type": "markdown",
   "metadata": {},
   "source": [
    "# ch_10_Fi les_and_Exceptions"
   ]
  },
  {
   "cell_type": "markdown",
   "metadata": {},
   "source": [
    "# Reading from a File"
   ]
  },
  {
   "cell_type": "code",
   "execution_count": 9,
   "metadata": {},
   "outputs": [
    {
     "name": "stdout",
     "output_type": "stream",
     "text": [
      "keys ['open (it use to open any file need a file name only for read the file)', 'open (it also use to write any file need a file name and a reference word *w* for write the file)', 'open (it also use to append any file with more content need a file name and a reference word *a* for append the file)', 'read (to read contEnt of file)', 'rstrip (to remove the blanks)', 'readlines (to read every line of file)', 'readline (to read first line of file)', 'strip()', 'replace(change a word by another)', 'split(it use to split the text of a file)', 'json.dump(use to store the set of numbers)', 'json.load(function to load the information stored in file)'] \n",
      "\n",
      "values ['1 argument', '2 argument', '2 argument', '0 argument', '0 argumengs', '0 arguments', 'no arguments', '0 argurement', '2 agruments', '0 arguments', '2 arguments', '1 argument'] \n",
      "\n",
      "open (it use to open any file need a file name only for read the file) 1 argument\n",
      "open (it also use to write any file need a file name and a reference word *w* for write the file) 2 argument\n",
      "open (it also use to append any file with more content need a file name and a reference word *a* for append the file) 2 argument\n",
      "read (to read contEnt of file) 0 argument\n",
      "rstrip (to remove the blanks) 0 argumengs\n",
      "readlines (to read every line of file) 0 arguments\n",
      "readline (to read first line of file) no arguments\n",
      "strip() 0 argurement\n",
      "replace(change a word by another) 2 agruments\n",
      "split(it use to split the text of a file) 0 arguments\n",
      "json.dump(use to store the set of numbers) 2 arguments\n",
      "json.load(function to load the information stored in file) 1 argument\n"
     ]
    }
   ],
   "source": [
    "functions = {'open (it use to open any file need a file name only for read the file)':'1 argument',\n",
    "             'open (it also use to write any file need a file name and a reference word *w* for write the file)':'2 argument',\n",
    "             'open (it also use to append any file with more content need a file name and a reference word *a* for append the file)':'2 argument',\n",
    "             'read (to read contEnt of file)':'0 argument',\n",
    "             'rstrip (to remove the blanks)':'0 argumengs','readlines (to read every line of file)':'0 arguments'\n",
    "             ,'readline (to read first line of file)':'no arguments','strip()':'0 argurement',\n",
    "             'replace(change a word by another)':'2 agruments','split(it use to split the text of a file)':'0 arguments'\n",
    "             ,'json.dump(use to store the set of numbers)':'2 arguments','json.load(function to load the information stored in file)':'1 argument'\n",
    "            }\n",
    "fun_li_k = []\n",
    "fun_li_v = []\n",
    "for i,j in functions.items():\n",
    "    fun_li_k.append(i)\n",
    "    fun_li_v.append(j)\n",
    "print('keys',fun_li_k,'\\n')\n",
    "print('values',fun_li_v,'\\n')\n",
    "for g,h in functions.items():\n",
    "    print(g,h)"
   ]
  },
  {
   "cell_type": "code",
   "execution_count": 2,
   "metadata": {},
   "outputs": [
    {
     "name": "stdout",
     "output_type": "stream",
     "text": [
      "3.1415926535\n",
      "  8979323846\n",
      "  2643383279\n"
     ]
    }
   ],
   "source": [
    "with open('pi_digits.txt') as a:\n",
    "    info = a.read()\n",
    "    print(info)"
   ]
  },
  {
   "cell_type": "code",
   "execution_count": 3,
   "metadata": {},
   "outputs": [
    {
     "name": "stdout",
     "output_type": "stream",
     "text": [
      "3.1415926535\n",
      "  8979323846\n",
      "  2643383279\n"
     ]
    }
   ],
   "source": [
    "path = r'C:\\Users\\haier\\Python\\book#1\\pi_digits.txt'\n",
    "with open(path) as f:\n",
    "    data = f.read()\n",
    "    print(data)"
   ]
  },
  {
   "cell_type": "code",
   "execution_count": 4,
   "metadata": {},
   "outputs": [
    {
     "name": "stdout",
     "output_type": "stream",
     "text": [
      "3.1415926535\n",
      "\n",
      "  8979323846\n",
      "\n",
      "  2643383279\n"
     ]
    }
   ],
   "source": [
    "with open('pi_digits.txt') as a:\n",
    "    for i in a:\n",
    "        print(i)"
   ]
  },
  {
   "cell_type": "code",
   "execution_count": 5,
   "metadata": {},
   "outputs": [
    {
     "name": "stdout",
     "output_type": "stream",
     "text": [
      "3.1415926535\n",
      "  8979323846\n",
      "  2643383279\n"
     ]
    }
   ],
   "source": [
    "with open('pi_digits.txt') as a:\n",
    "    info = a.read()\n",
    "    print(info.rstrip())"
   ]
  },
  {
   "cell_type": "code",
   "execution_count": 6,
   "metadata": {},
   "outputs": [
    {
     "name": "stdout",
     "output_type": "stream",
     "text": [
      "3.1415926535\n",
      "  8979323846\n",
      "  2643383279\n"
     ]
    }
   ],
   "source": [
    "with open('pi_digits.txt') as a:\n",
    "    for i in a:\n",
    "        print(i.rstrip())"
   ]
  },
  {
   "cell_type": "code",
   "execution_count": 7,
   "metadata": {},
   "outputs": [
    {
     "name": "stdout",
     "output_type": "stream",
     "text": [
      "3.1415926535\n",
      "  8979323846\n",
      "  2643383279\n"
     ]
    }
   ],
   "source": [
    "file_n='pi_digits.txt'\n",
    "with open(file_n) as fn:\n",
    "    for i in fn:\n",
    "        print(i.rstrip())7"
   ]
  },
  {
   "cell_type": "markdown",
   "metadata": {},
   "source": [
    "# Making a List of Lines from a File"
   ]
  },
  {
   "cell_type": "code",
   "execution_count": 8,
   "metadata": {},
   "outputs": [
    {
     "name": "stdout",
     "output_type": "stream",
     "text": [
      "3.1415926535\n",
      "  8979323846\n",
      "  2643383279\n"
     ]
    }
   ],
   "source": [
    "file_n='pi_digits.txt'\n",
    "with open(file_n) as fn:\n",
    "    lines =fn.readlines()\n",
    "    for i in lines:\n",
    "        print(i.rstrip())"
   ]
  },
  {
   "cell_type": "markdown",
   "metadata": {},
   "source": [
    "# Working with a File’s Contents"
   ]
  },
  {
   "cell_type": "code",
   "execution_count": 9,
   "metadata": {},
   "outputs": [
    {
     "name": "stdout",
     "output_type": "stream",
     "text": [
      "3.1415926535\n",
      "12\n",
      "3.1415926535  8979323846\n",
      "24\n",
      "3.1415926535  8979323846  2643383279\n",
      "36\n"
     ]
    }
   ],
   "source": [
    "file_n='pi_digits.txt'\n",
    "with open(file_n) as fn:\n",
    "    lines =fn.readlines()\n",
    "    \n",
    "pi_string = ''\n",
    "for i in lines:\n",
    "    \n",
    "    pi_string += i.rstrip()\n",
    "    print(pi_string)\n",
    "    print(len(pi_string))\n",
    "        \n",
    "        "
   ]
  },
  {
   "cell_type": "code",
   "execution_count": 10,
   "metadata": {},
   "outputs": [
    {
     "name": "stdout",
     "output_type": "stream",
     "text": [
      "3.1415926535  8979323846  2643383279\n",
      "36\n"
     ]
    }
   ],
   "source": [
    "filename = 'pi_digits.txt'\n",
    "with open(filename) as file_object:\n",
    "    lines = file_object.readlines()\n",
    "    \n",
    "pi_string = ''\n",
    "for line in lines:\n",
    "    pi_string += line.rstrip()\n",
    "    \n",
    "print(pi_string)\n",
    "print(len(pi_string))"
   ]
  },
  {
   "cell_type": "code",
   "execution_count": 11,
   "metadata": {},
   "outputs": [
    {
     "name": "stdout",
     "output_type": "stream",
     "text": [
      "3.141592653589793238462643383279\n",
      "32\n"
     ]
    }
   ],
   "source": [
    "filename = 'pi_digits.txt'\n",
    "with open(filename) as file_object:\n",
    "    lines = file_object.readlines()\n",
    "pi_string = ''\n",
    "for line in lines:\n",
    "    pi_string += line.strip()\n",
    "print(pi_string)\n",
    "print(len(pi_string))"
   ]
  },
  {
   "cell_type": "markdown",
   "metadata": {},
   "source": [
    "#  Large Files: One Million Digits"
   ]
  },
  {
   "cell_type": "code",
   "execution_count": 12,
   "metadata": {},
   "outputs": [
    {
     "name": "stdout",
     "output_type": "stream",
     "text": [
      "3.1415926535  8979323846  2643383279...\n",
      "36\n"
     ]
    }
   ],
   "source": [
    "f_n = 'pi_million_digits.txt'\n",
    "with open(f_n) as a:\n",
    "    lines = a.readlines()\n",
    "pi_string = ''\n",
    "for line in lines:\n",
    "    pi_string += line.rstrip()\n",
    "print(pi_string[:52] + \"...\")\n",
    "print(len(pi_string))"
   ]
  },
  {
   "cell_type": "code",
   "execution_count": 3,
   "metadata": {},
   "outputs": [
    {
     "name": "stdout",
     "output_type": "stream",
     "text": [
      "3.141592653589793238462643383279...\n",
      "32\n"
     ]
    }
   ],
   "source": [
    "filename = 'pi_million_digits.txt'\n",
    "with open(filename) as file_object:\n",
    "    lines = file_object.readlines()\n",
    "\n",
    "pi_string = ''\n",
    "for line in lines:\n",
    "    pi_string += line.strip()\n",
    "print(pi_string[:52] + \"...\")\n",
    "print(len(pi_string))"
   ]
  },
  {
   "cell_type": "code",
   "execution_count": 1,
   "metadata": {},
   "outputs": [
    {
     "name": "stdout",
     "output_type": "stream",
     "text": [
      "Enter your birthday, in the form mmddyy: 567\n",
      "Your birthday does not appear in the first million digits of pi.\n"
     ]
    }
   ],
   "source": [
    "filename = 'pi_million_digits.txt'\n",
    "with open(filename) as file_object:\n",
    "    lines = file_object.readlines()\n",
    "pi_string = ''\n",
    "for line in lines:\n",
    "    pi_string += line.rstrip()\n",
    "birthday = input(\"Enter your birthday, in the form mmddyy: \")\n",
    "if birthday in pi_string:\n",
    "    print(\"Your birthday appears in the first million digits of pi!\")\n",
    "else:\n",
    "    print(\"Your birthday does not appear in the first million digits of pi.\")"
   ]
  },
  {
   "cell_type": "markdown",
   "metadata": {},
   "source": [
    "# task"
   ]
  },
  {
   "cell_type": "code",
   "execution_count": null,
   "metadata": {},
   "outputs": [],
   "source": [
    "f_n = 'earning_python.txt'\n",
    "with open(f_n) as obj:\n",
    "    a = obj.read()\n",
    "print(a)"
   ]
  },
  {
   "cell_type": "code",
   "execution_count": null,
   "metadata": {},
   "outputs": [],
   "source": [
    "f_n = 'earning_python.txt'\n",
    "with open(f_n) as obj:\n",
    "    a = obj.read()\n",
    "for i in range(0,3):\n",
    "    print(a,'\\n')"
   ]
  },
  {
   "cell_type": "code",
   "execution_count": null,
   "metadata": {},
   "outputs": [],
   "source": [
    "f_n = 'earning_python.txt'\n",
    "with open(f_n) as obj:\n",
    "    a = obj.readlines()\n",
    "print(a)"
   ]
  },
  {
   "cell_type": "code",
   "execution_count": null,
   "metadata": {},
   "outputs": [],
   "source": [
    "f_n = 'earning_python.txt'\n",
    "with open(f_n) as obj:\n",
    "    a = obj.readlines()\n",
    "for i in a:\n",
    "    print(i)"
   ]
  },
  {
   "cell_type": "code",
   "execution_count": null,
   "metadata": {},
   "outputs": [],
   "source": [
    "f_n = 'earning_python.txt'\n",
    "with open(f_n) as obj:\n",
    "    a = obj.readlines()\n",
    "for i in a:\n",
    "    print(i.rstrip())"
   ]
  },
  {
   "cell_type": "code",
   "execution_count": null,
   "metadata": {},
   "outputs": [],
   "source": [
    "f_n = 'earning_python.txt'\n",
    "with open(f_n) as obj:\n",
    "    a = obj.readlines()\n",
    "pi_string = ''\n",
    "for i in a:\n",
    "    pi_string += i.rstrip()\n",
    "print(pi_string)\n",
    "print(len(pi_string))"
   ]
  },
  {
   "cell_type": "code",
   "execution_count": null,
   "metadata": {},
   "outputs": [],
   "source": [
    "f_n = 'earning_python.txt'\n",
    "with open(f_n) as obj:\n",
    "    a = obj.readlines()\n",
    "pi_string = ''\n",
    "for i in a:\n",
    "    pi_string += i.strip()\n",
    "print(pi_string)\n",
    "\n",
    "print(len(pi_string))"
   ]
  },
  {
   "cell_type": "code",
   "execution_count": null,
   "metadata": {},
   "outputs": [],
   "source": [
    "f_n = 'earning_python.txt'\n",
    "with open(f_n) as obj:\n",
    "    a = obj.readlines()\n",
    "pi_string = ''\n",
    "for i in a:\n",
    "    pi_string += i.strip()\n",
    "print(pi_string)\n",
    "\n",
    "print(len(pi_string))"
   ]
  },
  {
   "cell_type": "code",
   "execution_count": null,
   "metadata": {},
   "outputs": [],
   "source": [
    "f_n = 'earning_python.txt'\n",
    "with open(f_n) as obj:\n",
    "    a = obj.read()\n",
    "    b=a.replace('python','C')\n",
    "print(b,'\\n')"
   ]
  },
  {
   "cell_type": "markdown",
   "metadata": {},
   "source": [
    "# Writing to a File"
   ]
  },
  {
   "cell_type": "code",
   "execution_count": null,
   "metadata": {},
   "outputs": [],
   "source": [
    "fn = 'programming.txt'\n",
    "with open(fn,'w') as obj:\n",
    "    obj.write(\"Allah karma kar\\n\")"
   ]
  },
  {
   "cell_type": "code",
   "execution_count": null,
   "metadata": {},
   "outputs": [],
   "source": [
    "fn = 'programming.txt'\n",
    "with open(fn) as obj1:\n",
    "    a=obj1.read()\n",
    "print(a)"
   ]
  },
  {
   "cell_type": "markdown",
   "metadata": {},
   "source": [
    "# Writing Multiple Lines"
   ]
  },
  {
   "cell_type": "code",
   "execution_count": null,
   "metadata": {},
   "outputs": [],
   "source": [
    "fn = 'programming.txt'\n",
    "with open(fn,'a') as obj:\n",
    "    #obj.write(\"Allah karma kar\")\n",
    "    obj.write(\"we are very please to see you here after a long time ago\\nwhen so ever you have time come to our home\\nAllah karma kar\\n\")"
   ]
  },
  {
   "cell_type": "code",
   "execution_count": null,
   "metadata": {},
   "outputs": [],
   "source": [
    "fn = 'programming.txt'\n",
    "with open(fn) as obj1:\n",
    "    a=obj1.read()\n",
    "print(a)"
   ]
  },
  {
   "cell_type": "code",
   "execution_count": null,
   "metadata": {},
   "outputs": [],
   "source": [
    "fn = 'programming.txt'\n",
    "with open(fn,'w') as obj:\n",
    "    #obj.write(\"Allah karma kar\")\n",
    "    obj.write(\"we are very please to see you here after a long time ago\\nwhen so ever you have time come to our home\\nAllah karma kar\\n\")"
   ]
  },
  {
   "cell_type": "code",
   "execution_count": null,
   "metadata": {},
   "outputs": [],
   "source": [
    "fn = 'programming.txt'\n",
    "with open(fn) as obj1:\n",
    "    a=obj1.read()\n",
    "print(a)"
   ]
  },
  {
   "cell_type": "markdown",
   "metadata": {},
   "source": [
    "# Appending to a File"
   ]
  },
  {
   "cell_type": "code",
   "execution_count": null,
   "metadata": {},
   "outputs": [],
   "source": [
    "filename = 'programming.txt'\n",
    "with open(filename, 'a') as file_object:\n",
    "    file_object.write(\"I also love finding meaning in large datasets.\\n\")\n",
    "    file_object.write(\"I love creating apps that can run in a browser.\\n\")"
   ]
  },
  {
   "cell_type": "code",
   "execution_count": null,
   "metadata": {},
   "outputs": [],
   "source": [
    "fn = 'programming.txt'\n",
    "with open(fn) as obj1:\n",
    "    a=obj1.read()\n",
    "print(a)"
   ]
  },
  {
   "cell_type": "code",
   "execution_count": null,
   "metadata": {},
   "outputs": [],
   "source": [
    "filename = 'programming.txt'\n",
    "with open(filename, 'a') as file_object:\n",
    "    file_object.write(\"do you have anything else to do for getting a job.\\n\")\n",
    "    file_object.write(\"yes i do have but i want to work with your office.\\n\")"
   ]
  },
  {
   "cell_type": "markdown",
   "metadata": {},
   "source": [
    "# task"
   ]
  },
  {
   "cell_type": "raw",
   "metadata": {},
   "source": [
    "10-3. Guest: Write a program that x   cx the user for their name. When they\n",
    "respond, write their name to a file called guest.txt.\n",
    "10-4. Guest Book: Write a while loop that prompts users for their name. When\n",
    "they enter their name, print a greeting to the screen and add a line recording\n",
    "their visit in a file called guest_book.txt. Make sure each entry appears on a\n",
    "new line in the file.\n",
    "10-5. Programming Poll: Write a while loop that asks people why they like\n",
    "programming. Each time someone enters a reason, add their reason to a file\n",
    "that stores all the responses."
   ]
  },
  {
   "cell_type": "code",
   "execution_count": 14,
   "metadata": {},
   "outputs": [
    {
     "name": "stdout",
     "output_type": "stream",
     "text": [
      "Please enter your name for guest list: atif\n"
     ]
    }
   ],
   "source": [
    "f_n='guest_book.txt'\n",
    "prompts = input('Please enter your name for guest list: ')\n",
    "with open(f_n,'w') as obj:\n",
    "   # for i in range(0,3):\n",
    "    obj.write(prompts)"
   ]
  },
  {
   "cell_type": "code",
   "execution_count": 15,
   "metadata": {},
   "outputs": [
    {
     "name": "stdout",
     "output_type": "stream",
     "text": [
      "Please enter your name for guest list: \n",
      " atif\n",
      " ali\n",
      " owais\n",
      " hasan\n",
      " saba\n",
      " zanab\n",
      " shahzab\n",
      " zakariya\n",
      " umar\n",
      " imran\n",
      " anwar\n",
      " narash\n",
      " ramiz\n",
      " haseeb\n",
      " qulander\n",
      " mazarh\n",
      " q\n"
     ]
    }
   ],
   "source": [
    "f_n='guest_book.txt'\n",
    "a=[]\n",
    "with open(f_n,'w') as obj:\n",
    "    obj.write('\\tGuest List\\n')\n",
    "    print('Please enter your name for guest list: ')\n",
    "    while True:\n",
    "        prompts = input(' ')\n",
    "        b = 'Hi '+prompts.title()+' is invited in party\\n'\n",
    "        a.append(b)\n",
    "        if prompts == 'q':\n",
    "            break\n",
    "    for i in a:\n",
    "        obj.write(str(i))"
   ]
  },
  {
   "cell_type": "code",
   "execution_count": 16,
   "metadata": {},
   "outputs": [
    {
     "name": "stdout",
     "output_type": "stream",
     "text": [
      "\tGuest List\n",
      "Hi Atif is invited in party\n",
      "Hi Ali is invited in party\n",
      "Hi Owais is invited in party\n",
      "Hi Hasan is invited in party\n",
      "Hi Saba is invited in party\n",
      "Hi Zanab is invited in party\n",
      "Hi Shahzab is invited in party\n",
      "Hi Zakariya is invited in party\n",
      "Hi Umar is invited in party\n",
      "Hi Imran is invited in party\n",
      "Hi Anwar is invited in party\n",
      "Hi Narash is invited in party\n",
      "Hi Ramiz is invited in party\n",
      "Hi Haseeb is invited in party\n",
      "Hi Babarulander is invited in party\n",
      "Hi Mazarh is invited in party\n",
      "Hi Babar is invited in party\n",
      "\n"
     ]
    }
   ],
   "source": [
    "f_n='guest_book.txt'\n",
    "with open(f_n) as obj:\n",
    "    a=obj.read()\n",
    "    c=a.replace('Q','Babar')\n",
    "print(c)"
   ]
  },
  {
   "cell_type": "code",
   "execution_count": 17,
   "metadata": {},
   "outputs": [
    {
     "name": "stdout",
     "output_type": "stream",
     "text": [
      "\n",
      "why you like programming\n",
      "please enter the reason. \n",
      "\n",
      "like it\n",
      "\n",
      "why you like programming\n",
      "please enter the reason. \n",
      "\n",
      "love it\n",
      "\n",
      "why you like programming\n",
      "please enter the reason. \n",
      "\n",
      "provides energy\n",
      "\n",
      "why you like programming\n",
      "please enter the reason. \n",
      "\n",
      "part of course\n",
      "\n",
      "why you like programming\n",
      "please enter the reason. \n",
      "\n",
      "eaning is high\n",
      "\n",
      "why you like programming\n",
      "please enter the reason. \n",
      "\n",
      "no\n",
      "Student Like It\n",
      "\n",
      "Student Love It\n",
      "\n",
      "Student Provides Energy\n",
      "\n",
      "Student Part Of Course\n",
      "\n",
      "Student Eaning Is High\n",
      "\n",
      "Student No\n",
      "\n"
     ]
    }
   ],
   "source": [
    "a=[]\n",
    "while True:\n",
    "    print('\\nwhy you like programming\\nplease enter the reason. ')\n",
    "    reason=input('\\n')\n",
    "    mas='Student '+reason.title()+'\\n'\n",
    "    a.append(mas)\n",
    "    if reason == 'no':\n",
    "        break\n",
    "for i in a:\n",
    "    c=i.replace('no','i enjoy it')    \n",
    "    print(c)"
   ]
  },
  {
   "cell_type": "code",
   "execution_count": 18,
   "metadata": {},
   "outputs": [
    {
     "name": "stdout",
     "output_type": "stream",
     "text": [
      "Why you like programming? Please enter the reason. \n",
      "\n",
      "like\n",
      "Why you like programming? Please enter the reason. \n",
      "\n",
      "no\n"
     ]
    }
   ],
   "source": [
    "f_n = 'respond.txt'\n",
    "with open(f_n,'w') as obj:\n",
    "    a=[]\n",
    "    while True:\n",
    "        print('Why you like programming? Please enter the reason. ')\n",
    "        reason=input('\\n')\n",
    "        mas='Student:'+reason.title()+'\\n'\n",
    "        a.append(mas)\n",
    "        if reason == 'no':\n",
    "            break\n",
    "    for i in a:\n",
    "      #  c=i.replace('no','i enjoy it')    \n",
    "        obj.write(str(i))\n",
    "    #print(i)"
   ]
  },
  {
   "cell_type": "code",
   "execution_count": 21,
   "metadata": {},
   "outputs": [
    {
     "name": "stdout",
     "output_type": "stream",
     "text": [
      "Student:Like\n",
      "Student:No\n",
      "\n"
     ]
    }
   ],
   "source": [
    "f_n = 'respond.txt'\n",
    "with open(f_n) as obj:\n",
    "    content = obj.read()\n",
    "    print(content)"
   ]
  },
  {
   "cell_type": "markdown",
   "metadata": {},
   "source": [
    "# Exceptions"
   ]
  },
  {
   "cell_type": "code",
   "execution_count": 22,
   "metadata": {},
   "outputs": [
    {
     "ename": "ZeroDivisionError",
     "evalue": "division by zero",
     "output_type": "error",
     "traceback": [
      "\u001b[1;31m---------------------------------------------------------------------------\u001b[0m",
      "\u001b[1;31mZeroDivisionError\u001b[0m                         Traceback (most recent call last)",
      "\u001b[1;32m<ipython-input-22-fad870a50e27>\u001b[0m in \u001b[0;36m<module>\u001b[1;34m\u001b[0m\n\u001b[1;32m----> 1\u001b[1;33m \u001b[0mprint\u001b[0m\u001b[1;33m(\u001b[0m\u001b[1;36m5\u001b[0m\u001b[1;33m/\u001b[0m\u001b[1;36m0\u001b[0m\u001b[1;33m)\u001b[0m\u001b[1;33m\u001b[0m\u001b[1;33m\u001b[0m\u001b[0m\n\u001b[0m",
      "\u001b[1;31mZeroDivisionError\u001b[0m: division by zero"
     ]
    }
   ],
   "source": [
    "print(5/0)"
   ]
  },
  {
   "cell_type": "markdown",
   "metadata": {},
   "source": [
    "# Using try-except Blocks"
   ]
  },
  {
   "cell_type": "code",
   "execution_count": 23,
   "metadata": {
    "scrolled": true
   },
   "outputs": [
    {
     "name": "stdout",
     "output_type": "stream",
     "text": [
      "You can't divide by zero!\n"
     ]
    }
   ],
   "source": [
    "try:\n",
    "    print(5/0)\n",
    "except ZeroDivisionError:\n",
    "    print(\"You can't divide by zero!\")"
   ]
  },
  {
   "cell_type": "markdown",
   "metadata": {},
   "source": [
    "# Using Exceptions to Prevent Crashes"
   ]
  },
  {
   "cell_type": "code",
   "execution_count": 25,
   "metadata": {},
   "outputs": [
    {
     "name": "stdout",
     "output_type": "stream",
     "text": [
      "Give me two numbers, and I'll divide them.\n",
      "Enter 'q' to quit.\n",
      "\n",
      "First number: 67\n",
      "\n",
      "Second number: q\n"
     ]
    }
   ],
   "source": [
    "print(\"Give me two numbers, and I'll divide them.\")\n",
    "print(\"Enter 'q' to quit.\")\n",
    "while True:\n",
    "    first_number = input(\"\\nFirst number: \")\n",
    "    if first_number == 'q':\n",
    "        break\n",
    "    second_number = input(\"\\nSecond number: \")\n",
    "    if second_number == 'q':\n",
    "        break\n",
    "    try:\n",
    "        answer = int(first_number) / int(second_number)\n",
    "    except ZeroDivisionError:\n",
    "        print(\"it can not be done! \")\n",
    "    else:\n",
    "        print(answer)\n",
    "        "
   ]
  },
  {
   "cell_type": "markdown",
   "metadata": {},
   "source": [
    "# Handling the FileNotFoundError Exception"
   ]
  },
  {
   "cell_type": "code",
   "execution_count": 26,
   "metadata": {},
   "outputs": [],
   "source": [
    "f_n = 'alice.txt'\n",
    "try:\n",
    "    with open(f_n) as obj:\n",
    "        info = obj.read()\n",
    "except FileNotFoundError:\n",
    "    msg = \"Sorry, the file \" + f_n + \" does not exist.\"\n",
    "    print(msg)"
   ]
  },
  {
   "cell_type": "markdown",
   "metadata": {},
   "source": [
    "# Analyzing Text"
   ]
  },
  {
   "cell_type": "code",
   "execution_count": 27,
   "metadata": {},
   "outputs": [
    {
     "name": "stdout",
     "output_type": "stream",
     "text": [
      "['You', 'can', 'analyze', 'text', 'files', 'containing', 'entire', 'books.', 'Many', 'classic', 'works', 'ofliterature', 'are', 'available', 'as', 'simple', 'text', 'files', 'because', 'they', 'are', 'in', 'the', 'publicdomain.', 'The', 'texts', 'used', 'in', 'this', 'section', 'come', 'from', 'Project', 'Gutenberg']\n",
      "215\n"
     ]
    }
   ],
   "source": [
    "title = \"You can analyze text files containing entire books. Many classic works ofliterature are available as simple text files because they are in the publicdomain. The texts used in this section come from Project Gutenberg\"\n",
    "print(title.split())\n",
    "print(len(title))\n",
    "#['Alice', 'in', 'Wonderland']"
   ]
  },
  {
   "cell_type": "code",
   "execution_count": 28,
   "metadata": {},
   "outputs": [
    {
     "name": "stdout",
     "output_type": "stream",
     "text": [
      "the flie alice.txt has about 128 words .\n"
     ]
    }
   ],
   "source": [
    "f_n = 'alice.txt'\n",
    "try:\n",
    "    with open(f_n) as obj:\n",
    "        info = obj.read()\n",
    "except FileNotFoundError:\n",
    "    msg = \"Sorry, the file \" + f_n + \" does not exist.\"\n",
    "    print(msg)\n",
    "else:\n",
    "    a = info.split()\n",
    "   # print(a)\n",
    "    b = len(a)\n",
    "    print('the flie '+ f_n + ' has about ' + str(b)+ ' words .')"
   ]
  },
  {
   "cell_type": "code",
   "execution_count": 69,
   "metadata": {},
   "outputs": [
    {
     "name": "stdout",
     "output_type": "stream",
     "text": [
      "The File Alice.Txt Has 128 Words .\n",
      "The File Respond.Txt Has 2 Words .\n",
      "The File Programming.Txt Has 67 Words .\n",
      "\n",
      "sorry, the Pprogramming.txt is not available\n",
      "\n",
      "The File Pi_Million_Digits.Txt Has 3 Words .\n",
      "The File Pi_Digits.Txt Has 3 Words .\n",
      "The File Guest_Book.Txt Has 104 Words .\n",
      "The File Earning_Python.Txt Has 24 Words .\n"
     ]
    }
   ],
   "source": [
    "def file_name (filename):\n",
    "    try:\n",
    "        with open(filename) as f_obj:\n",
    "            info = f_obj.read()\n",
    "    except FileNotFoundError:\n",
    "        print('\\nsorry, the '+filename+' is not available\\n')\n",
    "    else:\n",
    "        a=info.split()\n",
    "        mas = 'the file '+ filename +' has '+str((len(a)))+' words .'\n",
    "        print(mas.title())\n",
    "filename=['alice.txt','respond.txt','programming.txt','Pprogramming.txt','pi_million_digits.txt','pi_digits.txt','guest_book.txt','earning_python.txt']\n",
    "for i in filename:\n",
    "    file_name(i)\n"
   ]
  },
  {
   "cell_type": "markdown",
   "metadata": {},
   "source": [
    "# Failing Silently"
   ]
  },
  {
   "cell_type": "code",
   "execution_count": 14,
   "metadata": {},
   "outputs": [
    {
     "name": "stdout",
     "output_type": "stream",
     "text": [
      "The File Alice.Txt Has 128 Words .\n",
      "The File Respond.Txt Has 2 Words .\n",
      "The File Programming.Txt Has 67 Words .\n",
      "The File Pi_Million_Digits.Txt Has 3 Words .\n",
      "The File Pi_Digits.Txt Has 3 Words .\n",
      "The File Guest_Book.Txt Has 104 Words .\n",
      "The File Earning_Python.Txt Has 24 Words .\n"
     ]
    }
   ],
   "source": [
    "def file_name (filename):\n",
    "    try:\n",
    "        with open(filename) as f_obj:\n",
    "            info = f_obj.read()\n",
    "    except FileNotFoundError:\n",
    "        pass\n",
    "      #  print('\\nsorry, the '+filename+' is not available\\n')\n",
    "    else:\n",
    "        a=info.split()\n",
    "        mas = 'the file '+ filename +' has '+str((len(a)))+' words .'\n",
    "        print(mas.title())\n",
    "filename=['alice.txt','respond.txt','programming.txt','Pprogramming.txt','pi_million_digits.txt','pi_digits.txt','guest_book.txt','earning_python.txt']\n",
    "for i in filename:\n",
    "    file_name(i)\n"
   ]
  },
  {
   "cell_type": "markdown",
   "metadata": {},
   "source": [
    "# task"
   ]
  },
  {
   "cell_type": "raw",
   "metadata": {},
   "source": [
    "                             Try It Yourself\n",
    "10-6. Addition: One common problem when prompting for numerical input\n",
    "occurs when people provide text instead of numbers. When you try to convert\n",
    "the input to an int, you’ll get a TypeError. Write a program that prompts for\n",
    "two numbers. Add them together and print the result. Catch the TypeError if\n",
    "either input value is not a number, and print a friendly error message. Test your\n",
    "program by entering two numbers and then by entering some text instead of a\n",
    "number."
   ]
  },
  {
   "cell_type": "code",
   "execution_count": 101,
   "metadata": {},
   "outputs": [
    {
     "name": "stdout",
     "output_type": "stream",
     "text": [
      "enter a number: 2345\n",
      "enter another number: 8\n",
      "something goes wrong\n"
     ]
    }
   ],
   "source": [
    "prompt1=input('enter a number: ')\n",
    "prompt2=input('enter another number: ')\n",
    "try:\n",
    "    result=prompt1/prompt2\n",
    "except TypeError:\n",
    "    print('something goes wrong')\n"
   ]
  },
  {
   "cell_type": "raw",
   "metadata": {},
   "source": [
    "Wrap your code from Exercise 10-6 in a while loop\n",
    "so the user can continue entering numbers even if they make a mistake and\n",
    "enter text instead of a number."
   ]
  },
  {
   "cell_type": "code",
   "execution_count": null,
   "metadata": {},
   "outputs": [],
   "source": [
    "a=[]\n",
    "while True:\n",
    "    try:\n",
    "        prompt1=int(input('enter a number: '))\n",
    "    except ValueError:\n",
    "        pass\n",
    "    try:\n",
    "        prompt2=int(input('enter another number: '))\n",
    "    except ValueError:\n",
    "        print('\\nsomething goes wrong\\n')\n",
    "        break \n",
    "    result=prompt1/prompt2\n",
    "    a.append(result)\n",
    "print(\"\\tResults\\n\")\n",
    "for i in a:\n",
    "    print(a.index(i),')',str(i))"
   ]
  },
  {
   "cell_type": "raw",
   "metadata": {},
   "source": [
    "10-8. Cats and Dogs: Make two files, cats.txt and dogs.txt. Store at least three\n",
    "names of cats in the first file and three names of dogs in the second file. Write\n",
    "a program that tries to read these files and print the contents of the file to the\n",
    "screen. Wrap your code in a try-except block to catch the FileNotFound error,\n",
    "and print a friendly message if a file is missing. Move one of the files to a different\n",
    "location on your system, and make sure the code in the except block\n",
    "executes properly."
   ]
  },
  {
   "cell_type": "code",
   "execution_count": 4,
   "metadata": {},
   "outputs": [
    {
     "name": "stdout",
     "output_type": "stream",
     "text": [
      "the dog.txt has 3 words. \n",
      "the cat.txt has 3 words. \n",
      "\n",
      "the hen.txt file is not present\n",
      "\n"
     ]
    }
   ],
   "source": [
    "def files(textfile):\n",
    "    try:\n",
    "        with open(textfile) as obj:\n",
    "            a = obj.read()\n",
    "    except FileNotFoundError:\n",
    "        print(\"\\nthe \"+textfile +\" file is not present\\n\")\n",
    "    else:\n",
    "        b = a.split()\n",
    "        mas = 'the '+ textfile +' has '+str(len(b))+' words. '\n",
    "        print(mas)\n",
    "        #print(b)\n",
    "textfile=['dog.txt','cat.txt','hen.txt']\n",
    "for v in textfile:\n",
    "    files(v)"
   ]
  },
  {
   "cell_type": "code",
   "execution_count": 37,
   "metadata": {},
   "outputs": [
    {
     "name": "stdout",
     "output_type": "stream",
     "text": [
      "the is content of dog.txt :\n",
      "['suzii', 'sandy', 'tom']\n",
      "the is content of cat.txt :\n",
      "['tom', 'harry', 'zasee']\n",
      "the is content of hen.txt :\n"
     ]
    }
   ],
   "source": [
    "def files(textfile):\n",
    "    try:\n",
    "        with open(textfile) as obj:\n",
    "            a = obj.read()\n",
    "    except FileNotFoundError:\n",
    "        pass\n",
    "    else:\n",
    "        b = a.split()\n",
    "        print(b)\n",
    "z=0\n",
    "textfile=['dog.txt','cat.txt','hen.txt']\n",
    "\n",
    "for v in textfile:\n",
    "    print('the is content of '+str(textfile[z])+' :')\n",
    "    z+=1\n",
    "    files(v)"
   ]
  },
  {
   "cell_type": "code",
   "execution_count": 40,
   "metadata": {},
   "outputs": [
    {
     "data": {
      "text/plain": [
       "3"
      ]
     },
     "execution_count": 40,
     "metadata": {},
     "output_type": "execute_result"
    }
   ],
   "source": [
    "line = \"Row, row, row your boat\"\n",
    "line.count('row')\n",
    "line.lower().count('row')"
   ]
  },
  {
   "cell_type": "markdown",
   "metadata": {},
   "source": [
    "# Storing Data"
   ]
  },
  {
   "cell_type": "markdown",
   "metadata": {},
   "source": [
    "# Using json.dump() and json.load()"
   ]
  },
  {
   "cell_type": "code",
   "execution_count": 2,
   "metadata": {},
   "outputs": [],
   "source": [
    "import json\n",
    "a=[1,2,3,9,74,90]\n",
    "b = 'a.json'\n",
    "with open(b,'w') as obj:\n",
    "    json.dump(a,obj)"
   ]
  },
  {
   "cell_type": "code",
   "execution_count": 5,
   "metadata": {},
   "outputs": [
    {
     "name": "stdout",
     "output_type": "stream",
     "text": [
      "[1, 2, 3, 9, 74, 90]\n"
     ]
    }
   ],
   "source": [
    "a=[1,2,3,9,74,90]\n",
    "b = 'a.json'\n",
    "with open(b) as obj:\n",
    "    x = json.load(obj)\n",
    "print(x)"
   ]
  },
  {
   "cell_type": "code",
   "execution_count": 12,
   "metadata": {},
   "outputs": [
    {
     "name": "stdout",
     "output_type": "stream",
     "text": [
      "what is your name ? atif\n",
      "i will remember you when you come back, Atif\n"
     ]
    }
   ],
   "source": [
    "a = input('what is your name ? ')\n",
    "with open('abc.json','w') as obj:\n",
    "    json.dump(a,obj)\n",
    "    print('i will remember you when you come back, '+a.title())"
   ]
  },
  {
   "cell_type": "code",
   "execution_count": 4,
   "metadata": {},
   "outputs": [
    {
     "name": "stdout",
     "output_type": "stream",
     "text": [
      "welcom back Atif.\n"
     ]
    }
   ],
   "source": [
    "with open('abc.json') as obj:\n",
    "    a = json.load(obj)\n",
    "    print('welcom back '+a.title()+'.')"
   ]
  },
  {
   "cell_type": "code",
   "execution_count": 23,
   "metadata": {},
   "outputs": [
    {
     "name": "stdout",
     "output_type": "stream",
     "text": [
      "atif\n"
     ]
    }
   ],
   "source": [
    "f_n = 'abc.json'\n",
    "try:\n",
    "    with open(f_n) as obj:\n",
    "        a = json.load(obj)\n",
    "except FileNotFoundError:\n",
    "    print('something is wrong')\n",
    "else:\n",
    "    print(a)"
   ]
  },
  {
   "cell_type": "markdown",
   "metadata": {},
   "source": [
    "# Refactoring"
   ]
  },
  {
   "cell_type": "code",
   "execution_count": 42,
   "metadata": {},
   "outputs": [
    {
     "name": "stdout",
     "output_type": "stream",
     "text": [
      "atif\n"
     ]
    }
   ],
   "source": [
    "import json\n",
    "def get_stored_username():\n",
    "#\"\"\"Get stored username if available.\"\"\"\n",
    "    filename = 'abc.json'\n",
    "    try:\n",
    "        with open(filename) as f_obj:\n",
    "            username = json.load(f_obj)\n",
    "    except FileNotFoundError:\n",
    "        return None\n",
    "    else:\n",
    "        return username\n",
    "print(get_stored_username())"
   ]
  },
  {
   "cell_type": "code",
   "execution_count": 41,
   "metadata": {},
   "outputs": [
    {
     "name": "stdout",
     "output_type": "stream",
     "text": [
      "Welcom atif\n"
     ]
    }
   ],
   "source": [
    "def greet_user():\n",
    "    username = get_stored_username()\n",
    "    if username :\n",
    "        print('Welcom '+username)\n",
    "    else:\n",
    "        username = input(\"What is your name? \")\n",
    "        filename = 'username.json'\n",
    "        with open(filename, 'w') as f_obj:\n",
    "            json.dump(username, f_obj)\n",
    "            print(\"We'll remember you when you come back, \" + username + \"!\")\n",
    "greet_user()"
   ]
  },
  {
   "cell_type": "code",
   "execution_count": 45,
   "metadata": {},
   "outputs": [
    {
     "name": "stdout",
     "output_type": "stream",
     "text": [
      "What is your name? Ahmed\n",
      "We'll remember you when you come back, Ahmed!\n"
     ]
    }
   ],
   "source": [
    "def get_stored_username():\n",
    "#\"\"\"Get stored username if available.\"\"\"\n",
    "    filename = 'ac.json'\n",
    "    try:\n",
    "        with open(filename) as f_obj:\n",
    "            username = json.load(f_obj)\n",
    "    except FileNotFoundError:\n",
    "        return None\n",
    "    else:\n",
    "        return username\n",
    "def get_new_username():\n",
    "#\"\"\"Prompt for a new username.\"\"\"\n",
    "    username = input(\"What is your name? \")\n",
    "    filename = 'username.json'\n",
    "    with open(filename, 'w') as f_obj:\n",
    "        json.dump(username, f_obj)\n",
    "    return username\n",
    "def greet_user():\n",
    "#\"\"\"Greet the user by name.\"\"\"\n",
    "    username = get_stored_username()\n",
    "    if username:\n",
    "        print(\"Welcome back, \" + username + \"!\")\n",
    "    else:\n",
    "        username = get_new_username()\n",
    "        print(\"We'll remember you when you come back, \" + username + \"!\")\n",
    "greet_user()"
   ]
  },
  {
   "cell_type": "markdown",
   "metadata": {},
   "source": [
    "# task"
   ]
  },
  {
   "cell_type": "raw",
   "metadata": {},
   "source": [
    "10-11. Favorite Number: Write a program that prompts for the user’s favorite\n",
    "number. Use json.dump() to store this number in a file. Write a separate program\n",
    "that reads in this value and prints the message, “I know your favorite\n",
    "number! It’s _____."
   ]
  },
  {
   "cell_type": "code",
   "execution_count": 1,
   "metadata": {},
   "outputs": [
    {
     "name": "stdout",
     "output_type": "stream",
     "text": [
      "Enter your favorite number: 45\n"
     ]
    }
   ],
   "source": [
    "import json\n",
    "f_n = 'num.json'\n",
    "def Favorite_number():\n",
    "  \n",
    "    num = input('Enter your favorite number: ')\n",
    "    with open(f_n,'w') as obj:\n",
    "        json.dump(num,obj)\n",
    "Favorite_number()"
   ]
  },
  {
   "cell_type": "code",
   "execution_count": 2,
   "metadata": {},
   "outputs": [
    {
     "name": "stdout",
     "output_type": "stream",
     "text": [
      "Enter your favorite number: 5\n",
      "your favorite number is 5\n"
     ]
    }
   ],
   "source": [
    "import json\n",
    "f_n = 'num.json'\n",
    "def Favorite_number():\n",
    "  \n",
    "    num = input('Enter your favorite number: ')\n",
    "    with open(f_n,'w') as obj:\n",
    "        json.dump(num,obj)\n",
    "Favorite_number()\n",
    "\n",
    "def show_favorite_number():\n",
    "    with open(f_n) as obj:\n",
    "        a=json.load(obj)\n",
    "        print('your favorite number is '+str(a))\n",
    "show_favorite_number()"
   ]
  },
  {
   "cell_type": "raw",
   "metadata": {},
   "source": [
    "10-12. Favorite Number Remembered: Combine the two programs from\n",
    "Exercise 10-11 into one file. If the number is already stored, report the favorite\n",
    "number to the user. If not, prompt for the user’s favorite number and store it in a\n",
    "file. Run the program twice to see that it works."
   ]
  },
  {
   "cell_type": "code",
   "execution_count": 4,
   "metadata": {},
   "outputs": [
    {
     "name": "stdout",
     "output_type": "stream",
     "text": [
      "Enter your favorite number: 4\n",
      "<function Favorite_number at 0x000001EC8817D5E8>\n"
     ]
    }
   ],
   "source": [
    "f_n = 'num4.json'\n",
    "def Favorite_number():\n",
    "    num = input('Enter your favorite number: ')\n",
    "    with open(f_n,'w') as obj:\n",
    "        json.dump(num,obj)\n",
    "    return Favorite_number\n",
    "def get_new_number():\n",
    "    fun_n=Favorite_number()\n",
    "def Favorite_Number_Remembered():\n",
    "    fun_n=Favorite_number()\n",
    "    if fun_n:\n",
    "        print(fun_n)\n",
    "    else:\n",
    "        num1=input('Enter number you like: ')\n",
    "        num1=Favorite_number()\n",
    "        print('your number is '+str(num1))\n",
    "Favorite_Number_Remembered()"
   ]
  },
  {
   "cell_type": "code",
   "execution_count": 60,
   "metadata": {},
   "outputs": [
    {
     "name": "stdout",
     "output_type": "stream",
     "text": [
      "atif{'a': ['g', 'y', 'u'], 'b': [7, 9, 8], 'c': ['l', 'o', '']}\n",
      "ali{'a': ['g', 'y', 'u'], 'b': [7, 9, 8], 'c': ['l', 'o', '']}\n",
      "saba{'a': ['g', 'y', 'u'], 'b': [7, 9, 8], 'c': ['l', 'o', '']}\n"
     ]
    }
   ],
   "source": []
  },
  {
   "cell_type": "code",
   "execution_count": 59,
   "metadata": {},
   "outputs": [
    {
     "name": "stdout",
     "output_type": "stream",
     "text": [
      "atif {'a': ['hyderabad', 'karachi', 'sakkar']}\n",
      "ali {'a': ['hyderabad', 'karachi', 'sakkar']}\n",
      "saba {'a': ['hyderabad', 'karachi', 'sakkar']}\n"
     ]
    }
   ],
   "source": []
  },
  {
   "cell_type": "code",
   "execution_count": null,
   "metadata": {},
   "outputs": [],
   "source": []
  },
  {
   "cell_type": "code",
   "execution_count": null,
   "metadata": {},
   "outputs": [],
   "source": []
  },
  {
   "cell_type": "code",
   "execution_count": null,
   "metadata": {},
   "outputs": [],
   "source": []
  },
  {
   "cell_type": "code",
   "execution_count": null,
   "metadata": {},
   "outputs": [],
   "source": []
  },
  {
   "cell_type": "code",
   "execution_count": null,
   "metadata": {},
   "outputs": [],
   "source": []
  },
  {
   "cell_type": "code",
   "execution_count": null,
   "metadata": {},
   "outputs": [],
   "source": []
  },
  {
   "cell_type": "code",
   "execution_count": null,
   "metadata": {},
   "outputs": [],
   "source": []
  },
  {
   "cell_type": "code",
   "execution_count": null,
   "metadata": {},
   "outputs": [],
   "source": []
  },
  {
   "cell_type": "code",
   "execution_count": null,
   "metadata": {},
   "outputs": [],
   "source": []
  },
  {
   "cell_type": "code",
   "execution_count": null,
   "metadata": {},
   "outputs": [],
   "source": []
  }
 ],
 "metadata": {
  "kernelspec": {
   "display_name": "Python 3",
   "language": "python",
   "name": "python3"
  },
  "language_info": {
   "codemirror_mode": {
    "name": "ipython",
    "version": 3
   },
   "file_extension": ".py",
   "mimetype": "text/x-python",
   "name": "python",
   "nbconvert_exporter": "python",
   "pygments_lexer": "ipython3",
   "version": "3.7.4"
  }
 },
 "nbformat": 4,
 "nbformat_minor": 2
}
