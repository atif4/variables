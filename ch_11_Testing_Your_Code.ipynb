{
 "cells": [
  {
   "cell_type": "markdown",
   "metadata": {},
   "source": [
    "# Testing a Function"
   ]
  },
  {
   "cell_type": "code",
   "execution_count": 1,
   "metadata": {},
   "outputs": [],
   "source": [
    "def g_f_n (f_n,l_n):\n",
    "    fullname = f_n+' '+l_n\n",
    "    return fullname.upper()"
   ]
  },
  {
   "cell_type": "code",
   "execution_count": 2,
   "metadata": {},
   "outputs": [
    {
     "name": "stdout",
     "output_type": "stream",
     "text": [
      "ATIF QURESHI\n"
     ]
    }
   ],
   "source": [
    "a=g_f_n('atif','qureshi')\n",
    "print(a)"
   ]
  },
  {
   "cell_type": "code",
   "execution_count": 3,
   "metadata": {},
   "outputs": [
    {
     "name": "stdout",
     "output_type": "stream",
     "text": [
      "Enter 'q' to stop program at any time \n",
      "Enter the first name: q\n",
      "List of first name\n",
      "\n",
      "\tq\n",
      "List of last name\n",
      "\n"
     ]
    }
   ],
   "source": [
    "from function_name import g_f_n\n",
    "print(\"Enter 'q' to stop program at any time \")\n",
    "first = []\n",
    "last = []\n",
    "while True:\n",
    "    f_n = input('Enter the first name: ')\n",
    "    first.append(f_n)\n",
    "    if f_n == 'q':\n",
    "        break\n",
    "    l_n = input('Enter the last name: ')\n",
    "    last.append(l_n)\n",
    "    if l_n == 'q':\n",
    "        break \n",
    "    a = g_f_n(f_n,l_n)\n",
    "    print(f_n,l_n)\n",
    "print('List of first name\\n')\n",
    "for i in first:\n",
    "    print('\\t'+str(i))\n",
    "print('List of last name\\n')\n",
    "for j in last:\n",
    "    print('\\t'+str(j))"
   ]
  },
  {
   "cell_type": "code",
   "execution_count": 5,
   "metadata": {},
   "outputs": [
    {
     "name": "stderr",
     "output_type": "stream",
     "text": [
      "E\n",
      "======================================================================\n",
      "ERROR: C:\\Users\\haier\\AppData\\Roaming\\jupyter\\runtime\\kernel-4162e33a-2ca9-42f8-8f17-6b26f25dedaf (unittest.loader._FailedTest)\n",
      "----------------------------------------------------------------------\n",
      "AttributeError: module '__main__' has no attribute 'C:\\Users\\haier\\AppData\\Roaming\\jupyter\\runtime\\kernel-4162e33a-2ca9-42f8-8f17-6b26f25dedaf'\n",
      "\n",
      "----------------------------------------------------------------------\n",
      "Ran 1 test in 0.002s\n",
      "\n",
      "FAILED (errors=1)\n"
     ]
    },
    {
     "ename": "SystemExit",
     "evalue": "True",
     "output_type": "error",
     "traceback": [
      "An exception has occurred, use %tb to see the full traceback.\n",
      "\u001b[1;31mSystemExit\u001b[0m\u001b[1;31m:\u001b[0m True\n"
     ]
    },
    {
     "name": "stderr",
     "output_type": "stream",
     "text": [
      "C:\\ProgramData\\Anaconda3\\lib\\site-packages\\IPython\\core\\interactiveshell.py:3334: UserWarning: To exit: use 'exit', 'quit', or Ctrl-D.\n",
      "  warn(\"To exit: use 'exit', 'quit', or Ctrl-D.\", stacklevel=1)\n"
     ]
    }
   ],
   "source": [
    "import unittest\n",
    "from function_name import g_f_n\n",
    "class NamesTestCase(unittest.TestCase):\n",
    "    def test_f_l_names(self):\n",
    "        a=g_f_n('atif','qureshi')\n",
    "        self.assertEqual(a,'atif qureshi')\n",
    "main = NamesTestCase\n",
    "unittest.main()"
   ]
  },
  {
   "cell_type": "code",
   "execution_count": 6,
   "metadata": {},
   "outputs": [],
   "source": [
    "import unittest"
   ]
  },
  {
   "cell_type": "code",
   "execution_count": 7,
   "metadata": {},
   "outputs": [
    {
     "name": "stderr",
     "output_type": "stream",
     "text": [
      "\n",
      "----------------------------------------------------------------------\n",
      "Ran 0 tests in 0.000s\n",
      "\n",
      "OK\n"
     ]
    }
   ],
   "source": [
    "class NamesTestCase:\n",
    "    def test_f_l_names(self):\n",
    "        a = 'a'+'b'\n",
    "        return a\n",
    "main = NamesTestCase\n",
    "if __name__ == '__main__':\n",
    "    unittest.main(argv=['first-arg-is-ignored'], exit = False)"
   ]
  },
  {
   "cell_type": "code",
   "execution_count": 8,
   "metadata": {},
   "outputs": [
    {
     "name": "stderr",
     "output_type": "stream",
     "text": [
      "E\n",
      "======================================================================\n",
      "ERROR: C:\\Users\\haier\\AppData\\Roaming\\jupyter\\runtime\\kernel-4162e33a-2ca9-42f8-8f17-6b26f25dedaf (unittest.loader._FailedTest)\n",
      "----------------------------------------------------------------------\n",
      "AttributeError: module '__main__' has no attribute 'C:\\Users\\haier\\AppData\\Roaming\\jupyter\\runtime\\kernel-4162e33a-2ca9-42f8-8f17-6b26f25dedaf'\n",
      "\n",
      "----------------------------------------------------------------------\n",
      "Ran 1 test in 0.001s\n",
      "\n",
      "FAILED (errors=1)\n"
     ]
    },
    {
     "ename": "SystemExit",
     "evalue": "True",
     "output_type": "error",
     "traceback": [
      "An exception has occurred, use %tb to see the full traceback.\n",
      "\u001b[1;31mSystemExit\u001b[0m\u001b[1;31m:\u001b[0m True\n"
     ]
    },
    {
     "name": "stderr",
     "output_type": "stream",
     "text": [
      "C:\\ProgramData\\Anaconda3\\lib\\site-packages\\IPython\\core\\interactiveshell.py:3334: UserWarning: To exit: use 'exit', 'quit', or Ctrl-D.\n",
      "  warn(\"To exit: use 'exit', 'quit', or Ctrl-D.\", stacklevel=1)\n"
     ]
    }
   ],
   "source": [
    "import unittest\n",
    "from function_name import *\n",
    "class NamesTestCase(unittest.TestCase):\n",
    "    \n",
    "    def test_f_l_names(self):\n",
    "        a=g_f_n('atif','qureshi')\n",
    "        self.assertEqual(a,'atif qureshi')\n",
    "unittest.main()"
   ]
  },
  {
   "cell_type": "code",
   "execution_count": 9,
   "metadata": {},
   "outputs": [
    {
     "name": "stdout",
     "output_type": "stream",
     "text": [
      "Mohammad Qureshi Atif\n",
      "Mohammad Qureshi\n"
     ]
    }
   ],
   "source": [
    "def get_formatted_name(first, last, middle=''):\n",
    "#function.py \"\"\"Generate a neatly formatted full name.\"\"\"\n",
    "    if middle:\n",
    "        full_name = first + ' ' + middle + ' ' + last\n",
    "    else:\n",
    "        full_name = first + ' ' + last\n",
    "    return full_name.title()\n",
    "a=get_formatted_name('mohammad','atif','qureshi')\n",
    "print(a)\n",
    "b=get_formatted_name('mohammad','qureshi')\n",
    "print(b)\n"
   ]
  },
  {
   "cell_type": "code",
   "execution_count": 10,
   "metadata": {},
   "outputs": [],
   "source": [
    "import unittest "
   ]
  },
  {
   "cell_type": "code",
   "execution_count": 11,
   "metadata": {},
   "outputs": [
    {
     "name": "stderr",
     "output_type": "stream",
     "text": [
      "E\n",
      "======================================================================\n",
      "ERROR: C:\\Users\\haier\\AppData\\Roaming\\jupyter\\runtime\\kernel-4162e33a-2ca9-42f8-8f17-6b26f25dedaf (unittest.loader._FailedTest)\n",
      "----------------------------------------------------------------------\n",
      "AttributeError: module '__main__' has no attribute 'C:\\Users\\haier\\AppData\\Roaming\\jupyter\\runtime\\kernel-4162e33a-2ca9-42f8-8f17-6b26f25dedaf'\n",
      "\n",
      "----------------------------------------------------------------------\n",
      "Ran 1 test in 0.002s\n",
      "\n",
      "FAILED (errors=1)\n"
     ]
    },
    {
     "ename": "SystemExit",
     "evalue": "True",
     "output_type": "error",
     "traceback": [
      "An exception has occurred, use %tb to see the full traceback.\n",
      "\u001b[1;31mSystemExit\u001b[0m\u001b[1;31m:\u001b[0m True\n"
     ]
    },
    {
     "name": "stderr",
     "output_type": "stream",
     "text": [
      "C:\\ProgramData\\Anaconda3\\lib\\site-packages\\IPython\\core\\interactiveshell.py:3334: UserWarning: To exit: use 'exit', 'quit', or Ctrl-D.\n",
      "  warn(\"To exit: use 'exit', 'quit', or Ctrl-D.\", stacklevel=1)\n"
     ]
    }
   ],
   "source": [
    "from test_names import *\n",
    "class CaseNamesTest(unittest.TestCase):\n",
    "    def test_f_l_names(self):\n",
    "        a=get_formatted_name('atif','qureshi')\n",
    "        self.assertEqual(a,'atif qureshi')\n",
    "    def test_first_last_middle_name(self):\n",
    "        #\"\"\"Do names like 'Wolfgang Amadeus Mozart' work?\"\"\"\n",
    "        formatted_name = get_formatted_name('wolfgang', 'mozart', 'amadeus')\n",
    "        self.assertEqual(formatted_name, 'Wolfgang Amadeus Mozart')\n",
    "unittest.main()"
   ]
  },
  {
   "cell_type": "code",
   "execution_count": 18,
   "metadata": {},
   "outputs": [],
   "source": [
    "class AnonymousSurvey():\n",
    "    def __init__(self,question):\n",
    "        self.question = question\n",
    "        self.responses = []\n",
    "    def show_question(self):\n",
    "        print(self.question)\n",
    "    def store_response(self,new_response):\n",
    "        self.responses.append(new_response)\n",
    "    def show_result(self):\n",
    "        print('Survey Result')\n",
    "        for response in self.responses:\n",
    "            print('- '+response.title())"
   ]
  },
  {
   "cell_type": "code",
   "execution_count": 19,
   "metadata": {},
   "outputs": [
    {
     "name": "stdout",
     "output_type": "stream",
     "text": [
      "What language did you first learn to speak?\n",
      "Enter your respone: c\n",
      "Enter your respone: python\n",
      "Enter your respone: q\n",
      "Thanks Everyone who participated: \n",
      "Survey Result\n",
      "- c\n",
      "- python\n"
     ]
    }
   ],
   "source": [
    "from survey import AnonymousSurvey\n",
    "question = \"What language did you first learn to speak?\"\n",
    "my_survey = AnonymousSurvey(question)\n",
    "my_survey.show_question()\n",
    "while True:\n",
    "    response = input('Enter your respone: ')\n",
    "    if response == 'q':\n",
    "        break\n",
    "    my_survey.store_response(response)\n",
    "print('Thanks Everyone who participated: ')\n",
    "my_survey.show_result()"
   ]
  },
  {
   "cell_type": "code",
   "execution_count": 23,
   "metadata": {},
   "outputs": [
    {
     "name": "stderr",
     "output_type": "stream",
     "text": [
      "E\n",
      "======================================================================\n",
      "ERROR: C:\\Users\\haier\\AppData\\Roaming\\jupyter\\runtime\\kernel-4162e33a-2ca9-42f8-8f17-6b26f25dedaf (unittest.loader._FailedTest)\n",
      "----------------------------------------------------------------------\n",
      "AttributeError: module '__main__' has no attribute 'C:\\Users\\haier\\AppData\\Roaming\\jupyter\\runtime\\kernel-4162e33a-2ca9-42f8-8f17-6b26f25dedaf'\n",
      "\n",
      "----------------------------------------------------------------------\n",
      "Ran 1 test in 0.003s\n",
      "\n",
      "FAILED (errors=1)\n"
     ]
    },
    {
     "ename": "SystemExit",
     "evalue": "True",
     "output_type": "error",
     "traceback": [
      "An exception has occurred, use %tb to see the full traceback.\n",
      "\u001b[1;31mSystemExit\u001b[0m\u001b[1;31m:\u001b[0m True\n"
     ]
    },
    {
     "name": "stderr",
     "output_type": "stream",
     "text": [
      "C:\\ProgramData\\Anaconda3\\lib\\site-packages\\IPython\\core\\interactiveshell.py:3334: UserWarning: To exit: use 'exit', 'quit', or Ctrl-D.\n",
      "  warn(\"To exit: use 'exit', 'quit', or Ctrl-D.\", stacklevel=1)\n"
     ]
    }
   ],
   "source": [
    "import unittest\n",
    "from survey import AnonymousSurvey\n",
    "class TestAnonmyousSurvey(unittest.TestCase):\n",
    "#\"\"\"Tests for the class AnonymousSurvey\"\"\"\n",
    "    def test_store_single_response(self):\n",
    "    #\"\"\"Test that a single response is stored properly.\"\"\"\n",
    "        question = \"What language did you first learn to speak?\"\n",
    "        my_survey = AnonymousSurvey(question)\n",
    "        my_survey.store_response('English')\n",
    "        self.assertIn('English', my_survey.responses)\n",
    "unittest.main()"
   ]
  },
  {
   "cell_type": "code",
   "execution_count": null,
   "metadata": {},
   "outputs": [],
   "source": []
  },
  {
   "cell_type": "code",
   "execution_count": null,
   "metadata": {},
   "outputs": [],
   "source": []
  },
  {
   "cell_type": "code",
   "execution_count": null,
   "metadata": {},
   "outputs": [],
   "source": []
  },
  {
   "cell_type": "code",
   "execution_count": null,
   "metadata": {},
   "outputs": [],
   "source": []
  },
  {
   "cell_type": "code",
   "execution_count": null,
   "metadata": {},
   "outputs": [],
   "source": []
  },
  {
   "cell_type": "code",
   "execution_count": null,
   "metadata": {},
   "outputs": [],
   "source": []
  },
  {
   "cell_type": "code",
   "execution_count": null,
   "metadata": {},
   "outputs": [],
   "source": []
  },
  {
   "cell_type": "code",
   "execution_count": null,
   "metadata": {},
   "outputs": [],
   "source": []
  },
  {
   "cell_type": "code",
   "execution_count": null,
   "metadata": {},
   "outputs": [],
   "source": []
  },
  {
   "cell_type": "code",
   "execution_count": null,
   "metadata": {},
   "outputs": [],
   "source": []
  },
  {
   "cell_type": "code",
   "execution_count": null,
   "metadata": {},
   "outputs": [],
   "source": []
  },
  {
   "cell_type": "code",
   "execution_count": null,
   "metadata": {},
   "outputs": [],
   "source": []
  },
  {
   "cell_type": "code",
   "execution_count": null,
   "metadata": {},
   "outputs": [],
   "source": []
  }
 ],
 "metadata": {
  "kernelspec": {
   "display_name": "Python 3",
   "language": "python",
   "name": "python3"
  },
  "language_info": {
   "codemirror_mode": {
    "name": "ipython",
    "version": 3
   },
   "file_extension": ".py",
   "mimetype": "text/x-python",
   "name": "python",
   "nbconvert_exporter": "python",
   "pygments_lexer": "ipython3",
   "version": "3.7.4"
  }
 },
 "nbformat": 4,
 "nbformat_minor": 2
}
