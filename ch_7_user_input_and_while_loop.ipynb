{
 "cells": [
  {
   "cell_type": "markdown",
   "metadata": {},
   "source": [
    "# ch_7_user input and while loop"
   ]
  },
  {
   "cell_type": "markdown",
   "metadata": {},
   "source": [
    "# How input() function works"
   ]
  },
  {
   "cell_type": "code",
   "execution_count": 1,
   "metadata": {},
   "outputs": [
    {
     "name": "stdout",
     "output_type": "stream",
     "text": [
      "tell me something, and i will repeat that for you hi\n",
      "hi\n"
     ]
    }
   ],
   "source": [
    "mas=input('tell me something, and i will repeat that for you ')\n",
    "print(mas)"
   ]
  },
  {
   "cell_type": "code",
   "execution_count": 2,
   "metadata": {},
   "outputs": [
    {
     "name": "stdout",
     "output_type": "stream",
     "text": [
      "please entry your name: atif\n",
      "Hi, atif\n"
     ]
    }
   ],
   "source": [
    "mas=input('please entry your name: ')\n",
    "print('Hi,',mas)"
   ]
  },
  {
   "cell_type": "code",
   "execution_count": 3,
   "metadata": {},
   "outputs": [
    {
     "name": "stdout",
     "output_type": "stream",
     "text": [
      "if you tell us who you are, we can personalize the massage you see.\n",
      "What is you name? atif\n",
      "\n",
      "Hello, atif !\n"
     ]
    }
   ],
   "source": [
    "prompt = \"if you tell us who you are, we can personalize the massage you see.\"\n",
    "prompt+= \"\\nWhat is you name? \"\n",
    "name=input(prompt)\n",
    "print('\\nHello, '+name+\" !\")"
   ]
  },
  {
   "cell_type": "markdown",
   "metadata": {},
   "source": [
    "# using int() to accept numerical input"
   ]
  },
  {
   "cell_type": "code",
   "execution_count": 4,
   "metadata": {},
   "outputs": [
    {
     "name": "stdout",
     "output_type": "stream",
     "text": [
      "how old are you? 23\n",
      "23\n"
     ]
    }
   ],
   "source": [
    "age = input(\"how old are you? \")\n",
    "print(age)"
   ]
  },
  {
   "cell_type": "code",
   "execution_count": null,
   "metadata": {},
   "outputs": [],
   "source": [
    "age = input(\"how old are you? \")\n",
    "print(age)\n",
    "if int(age) <= 12:\n",
    "    print('your age is: '+age)\n",
    "else:\n",
    "    print('your age is over 12: '+age)"
   ]
  },
  {
   "cell_type": "markdown",
   "metadata": {},
   "source": [
    "# the modulo operator"
   ]
  },
  {
   "cell_type": "code",
   "execution_count": 6,
   "metadata": {},
   "outputs": [
    {
     "name": "stdout",
     "output_type": "stream",
     "text": [
      "enter a number, i will tell you if it is even or odd: 65\n",
      "\n",
      "the number 65 is odd\n"
     ]
    }
   ],
   "source": [
    "num=input(\"enter a number, i will tell you if it is even or odd: \")\n",
    "num=int(num)\n",
    "if num%2==0:\n",
    "    print(\"\\nthe number \"+str(num)+\" is even\")\n",
    "else:\n",
    "    print(\"\\nthe number \"+str(num)+\" is odd\")"
   ]
  },
  {
   "cell_type": "markdown",
   "metadata": {},
   "source": [
    "# tesks\n"
   ]
  },
  {
   "cell_type": "code",
   "execution_count": 7,
   "metadata": {},
   "outputs": [
    {
     "name": "stdout",
     "output_type": "stream",
     "text": [
      "what kind of renatal car you like to reant silver\n",
      "\n",
      "Let me see if i can find you a SILVER\n"
     ]
    }
   ],
   "source": [
    "rental_car=input(\"what kind of renatal car you like to reant \")\n",
    "print(\"\\nLet me see if i can find you a \"+rental_car.upper())"
   ]
  },
  {
   "cell_type": "code",
   "execution_count": 8,
   "metadata": {},
   "outputs": [
    {
     "name": "stdout",
     "output_type": "stream",
     "text": [
      "plea(se tell how many people are you? 67\n",
      "there are 67 of us. \n",
      "they will have to wait for a table\n"
     ]
    }
   ],
   "source": [
    "restaurent_seating=(input(\"plea(se tell how many people are you? \"))\n",
    "restaurent_seating=int(restaurent_seating)\n",
    "print(\"there are\",restaurent_seating,\"of us. \")\n",
    "if restaurent_seating >= 8:\n",
    "    print(\"they will have to wait for a table\")\n",
    "else:\n",
    "    print(\"your table is ready. \")"
   ]
  },
  {
   "cell_type": "code",
   "execution_count": 9,
   "metadata": {},
   "outputs": [
    {
     "name": "stdout",
     "output_type": "stream",
     "text": [
      "please enter a number. 5\n",
      "number is not vild\n"
     ]
    }
   ],
   "source": [
    "num = input(\"please enter a number. \")\n",
    "num = int(num)\n",
    "if num is 10:\n",
    "    for i in range(1,11):\n",
    "        a=num*i\n",
    "        print(a)\n",
    "else:\n",
    "    print(\"number is not vild\")"
   ]
  },
  {
   "cell_type": "markdown",
   "metadata": {},
   "source": [
    "# introduaction while loop "
   ]
  },
  {
   "cell_type": "code",
   "execution_count": 10,
   "metadata": {},
   "outputs": [
    {
     "name": "stdout",
     "output_type": "stream",
     "text": [
      "enter a number 5\n",
      "5\n"
     ]
    }
   ],
   "source": [
    "c_n = input(\"enter a number \")\n",
    "c_n=int(c_n)\n",
    "while c_n <= 5:\n",
    "    print(c_n)\n",
    "    c_n+=1"
   ]
  },
  {
   "cell_type": "code",
   "execution_count": 11,
   "metadata": {},
   "outputs": [
    {
     "name": "stdout",
     "output_type": "stream",
     "text": [
      "Tell mr something, and i will repeat it back to you. \n",
      "Enter 'quite' to end the program. quite\n",
      "quite\n"
     ]
    }
   ],
   "source": [
    "prompt = \"Tell mr something, and i will repeat it back to you. \"\n",
    "prompt+= \"\\nEnter 'quite' to end the program. \"\n",
    "mas=\" \"\n",
    "while mas != 'quite':\n",
    "    mas=input(prompt)\n",
    "    print(mas)"
   ]
  },
  {
   "cell_type": "markdown",
   "metadata": {},
   "source": [
    "# using a flag\n"
   ]
  },
  {
   "cell_type": "code",
   "execution_count": 1,
   "metadata": {},
   "outputs": [
    {
     "name": "stdout",
     "output_type": "stream",
     "text": [
      "Tell mr something, and i will repeat it back to you. \n",
      "Enter 'quite' to end the program. hi john\n",
      "hi john\n",
      "Tell mr something, and i will repeat it back to you. \n",
      "Enter 'quite' to end the program. hello saddy\n",
      "hello saddy\n",
      "Tell mr something, and i will repeat it back to you. \n",
      "Enter 'quite' to end the program. i wanna say some thing to you \n",
      "i wanna say some thing to you \n",
      "Tell mr something, and i will repeat it back to you. \n",
      "Enter 'quite' to end the program. tell\n",
      "tell\n",
      "Tell mr something, and i will repeat it back to you. \n",
      "Enter 'quite' to end the program. i love you you\n",
      "i love you you\n",
      "Tell mr something, and i will repeat it back to you. \n",
      "Enter 'quite' to end the program. sorry\n",
      "sorry\n",
      "Tell mr something, and i will repeat it back to you. \n",
      "Enter 'quite' to end the program. quite\n"
     ]
    }
   ],
   "source": [
    "prompt = \"Tell me something, and i will repeat it back to you. \"\n",
    "prompt+= \"\\nEnter 'quite' to end the program. \"\n",
    "active = True\n",
    "while active :\n",
    "    mas = input(prompt)\n",
    "    \n",
    "    if mas == 'quite':\n",
    "        active= False\n",
    "    else:\n",
    "        print(mas)"
   ]
  },
  {
   "cell_type": "code",
   "execution_count": 3,
   "metadata": {},
   "outputs": [
    {
     "name": "stdout",
     "output_type": "stream",
     "text": [
      "Tell me something, and i will repeat it back to you. \n",
      "Enter 'quite' to end the program. hyderabad\n",
      "I'd love to go to Hyderabad!\n",
      "Tell me something, and i will repeat it back to you. \n",
      "Enter 'quite' to end the program. karachi\n",
      "I'd love to go to Karachi!\n",
      "Tell me something, and i will repeat it back to you. \n",
      "Enter 'quite' to end the program. quite\n"
     ]
    }
   ],
   "source": [
    "prompt = \"Tell me something, and i will repeat it back to you. \"\n",
    "prompt+= \"\\nEnter 'quite' to end the program. \"\n",
    "while True:\n",
    "    city = input(prompt)\n",
    "    if city == 'quite':\n",
    "        break\n",
    "    else:\n",
    "        print(\"I'd love to go to \"+city.title()+\"!\")\n",
    "  "
   ]
  },
  {
   "cell_type": "markdown",
   "metadata": {},
   "source": [
    "# using continue in a loop"
   ]
  },
  {
   "cell_type": "code",
   "execution_count": 14,
   "metadata": {},
   "outputs": [
    {
     "name": "stdout",
     "output_type": "stream",
     "text": [
      "1\n",
      "3\n",
      "5\n",
      "7\n",
      "9\n"
     ]
    }
   ],
   "source": [
    "c_n = 0\n",
    "while c_n < 10:\n",
    "    c_n +=1\n",
    "    if c_n % 2 == 0:\n",
    "        continue\n",
    "    print(c_n)"
   ]
  },
  {
   "cell_type": "markdown",
   "metadata": {},
   "source": [
    "# Avoiding infinite loops"
   ]
  },
  {
   "cell_type": "code",
   "execution_count": 1,
   "metadata": {},
   "outputs": [
    {
     "name": "stdout",
     "output_type": "stream",
     "text": [
      "1\n",
      "2\n",
      "3\n",
      "4\n",
      "5\n"
     ]
    }
   ],
   "source": [
    "x=1\n",
    "while x <= 5:\n",
    "    print(x)\n",
    "    x+=1"
   ]
  },
  {
   "cell_type": "markdown",
   "metadata": {},
   "source": [
    "# task\n"
   ]
  },
  {
   "cell_type": "code",
   "execution_count": 1,
   "metadata": {},
   "outputs": [
    {
     "name": "stdout",
     "output_type": "stream",
     "text": [
      "\tPLEASE TYPE QUITE TO EXIT\n",
      "\n",
      "You Can Enter The Pizza Topping Which You Like y\n",
      "I have added Y to your pizza\n",
      "\n",
      "You Can Enter The Pizza Topping Which You Like yuu\n",
      "I have added Yuu to your pizza\n",
      "\n",
      "You Can Enter The Pizza Topping Which You Like uii\n",
      "I have added Uii to your pizza\n",
      "\n",
      "You Can Enter The Pizza Topping Which You Like drfg\n",
      "I have added Drfg to your pizza\n",
      "\n",
      "You Can Enter The Pizza Topping Which You Like quite\n",
      "I have added Quite to your pizza\n",
      "\n"
     ]
    }
   ],
   "source": [
    "mas1=\"\\tplease type quite to exit\\n\"\n",
    "print(mas1.upper())\n",
    "prompt = \"You can enter the Pizza Topping which you like \"\n",
    "mas = ''\n",
    "while mas != 'quite':\n",
    "    mas=input(prompt.title())\n",
    "    print(\"I have added \"+mas.title()+\" to your pizza\\n\")"
   ]
  },
  {
   "cell_type": "code",
   "execution_count": 6,
   "metadata": {},
   "outputs": [
    {
     "name": "stdout",
     "output_type": "stream",
     "text": [
      "please enter your age 13\n",
      "The Cost Ticket Is 15 Dollar(s)\n"
     ]
    }
   ],
   "source": [
    "a=[]\n",
    "b=[0,10,15]\n",
    "age = input(\"please enter your age \")\n",
    "age = int(age)\n",
    "mas = \"the cost ticket is\"\n",
    "a.append(age)\n",
    "if age <= 3:\n",
    "    print(mas.title(),b[0],'Dollar(s)')\n",
    "elif age >=3 and age <= 12:\n",
    "    print(mas.title(),b[1],'Dollar(s)')\n",
    "elif age  > 12:\n",
    "    print(mas.title(),b[2],'Dollar(s)')\n",
    "else:\n",
    "    print('sorry')"
   ]
  },
  {
   "cell_type": "code",
   "execution_count": 10,
   "metadata": {},
   "outputs": [
    {
     "name": "stdout",
     "output_type": "stream",
     "text": [
      "please enter your age 14\n",
      "The Cost Of Ticket Is  15 Dollar(s)\n"
     ]
    }
   ],
   "source": [
    "l_p = [0,10,15]\n",
    "mas1= \"please enter your age \"\n",
    "age = input(mas1)\n",
    "age = int(age)\n",
    "b = 0\n",
    "mas = 'the cost of ticket is '\n",
    "while b < 12 :\n",
    "    if age <=3:\n",
    "        print(mas.title(),l_p[0],\"Dollar(s)\")\n",
    "    elif age >=3 and age <=12:\n",
    "        print(mas.title(),l_p[1],\"Dollar(s)\")\n",
    "    elif age > 12:\n",
    "        print(mas.title(),l_p[2],\"Dollar(s)\")\n",
    "    else:\n",
    "        print(\"sorry\")\n",
    "    b+=1\n",
    "    break"
   ]
  },
  {
   "cell_type": "code",
   "execution_count": 14,
   "metadata": {},
   "outputs": [
    {
     "name": "stdout",
     "output_type": "stream",
     "text": [
      "please enter your age 3\n",
      "The Cost Of Ticket Is  0 Dollar(s)\n",
      "The Cost Of Ticket Is  0 Dollar(s)\n",
      "The Cost Of Ticket Is  0 Dollar(s)\n",
      "The Cost Of Ticket Is  0 Dollar(s)\n",
      "The Cost Of Ticket Is  0 Dollar(s)\n",
      "The Cost Of Ticket Is  0 Dollar(s)\n",
      "The Cost Of Ticket Is  0 Dollar(s)\n",
      "The Cost Of Ticket Is  0 Dollar(s)\n",
      "The Cost Of Ticket Is  0 Dollar(s)\n",
      "The Cost Of Ticket Is  0 Dollar(s)\n",
      "The Cost Of Ticket Is  0 Dollar(s)\n",
      "The Cost Of Ticket Is  0 Dollar(s)\n"
     ]
    }
   ],
   "source": [
    "l_p = [0,10,15]\n",
    "mas1= \"please enter your age \"\n",
    "age = input(mas1)\n",
    "age = int(age)\n",
    "b = 0\n",
    "mas = 'the cost of ticket is '\n",
    "store = [ ]\n",
    "while b < 12 :\n",
    "    for i in range(0,5):\n",
    "        if age <=3:\n",
    "            print(mas.title(),l_p[0],\"Dollar(s)\")\n",
    "        elif age >=3 and age <=12:\n",
    "            print(mas.title(),l_p[1],\"Dollar(s)\")\n",
    "        elif age > 12:\n",
    "            print(mas.title(),l_p[2],\"Dollar(s)\")\n",
    "        else:\n",
    "            print(\"sorry\")\n",
    "        b+=1\n",
    "        break"
   ]
  },
  {
   "cell_type": "code",
   "execution_count": 1,
   "metadata": {},
   "outputs": [
    {
     "name": "stdout",
     "output_type": "stream",
     "text": [
      "Enter Age -1 To Stop The Program\n",
      "please enter your age 1\n",
      "The Cost Of Ticket Is  0 Dollars\n",
      "please enter your age 2\n",
      "The Cost Of Ticket Is  0 Dollars\n",
      "please enter your age 4\n",
      "Please Enter Your Age  10 Dollar(s)\n",
      "please enter your age 13\n",
      "Please Enter Your Age  15 Dollar(s)\n",
      "please enter your age -1\n",
      "[1, 2, 4, 13]\n"
     ]
    }
   ],
   "source": [
    "mas3='enter age -1 to stop the program'\n",
    "mas = 'please enter your age '\n",
    "mas1=\"the cost of ticket is \"\n",
    "l_p = [0,10,15]\n",
    "b =[]\n",
    "c={}\n",
    "active = True \n",
    "print(mas3.title())\n",
    "while active:\n",
    "    age = input(mas)\n",
    "    age =int(age)\n",
    "    \n",
    "    if age >= 0 and age <= 3:\n",
    "        print(mas1.title(),l_p[0],'Dollars')\n",
    "        b.append(age)\n",
    "    elif age >=3 and age <=12:\n",
    "        print(mas.title(),l_p[1],\"Dollar(s)\")\n",
    "        b.append(age)\n",
    "    elif age > 12:\n",
    "        print(mas.title(),l_p[2],\"Dollar(s)\")\n",
    "        b.append(age)\n",
    "    elif age == -1:\n",
    "        active = False \n",
    "print(b)"
   ]
  },
  {
   "cell_type": "code",
   "execution_count": 3,
   "metadata": {},
   "outputs": [
    {
     "name": "stdout",
     "output_type": "stream",
     "text": [
      "\tPLEASE TYPE QUITE TO EXIT\n",
      "\n",
      "You Can Enter The Pizza Topping Which You Like q\n",
      "I have added Q to your pizza\n",
      "\n",
      "You Can Enter The Pizza Topping Which You Like e\n",
      "I have added E to your pizza\n",
      "\n",
      "You Can Enter The Pizza Topping Which You Like t\n",
      "I have added T to your pizza\n",
      "\n",
      "You Can Enter The Pizza Topping Which You Like y\n",
      "I have added Y to your pizza\n",
      "\n",
      "You Can Enter The Pizza Topping Which You Like m\n",
      "I have added M to your pizza\n",
      "\n",
      "You Can Enter The Pizza Topping Which You Like quite\n",
      "I have added Quite to your pizza\n",
      "\n"
     ]
    }
   ],
   "source": [
    "mas1=\"\\tplease type quite to exit\\n\"\n",
    "print(mas1.upper())\n",
    "prompt = \"You can enter the Pizza Topping which you like \"\n",
    "mas = ''\n",
    "active = True\n",
    "while active:\n",
    "    mas=input(prompt.title())\n",
    "    print(\"I have added \"+mas.title()+\" to your pizza\\n\")\n",
    "    if mas == 'quite':\n",
    "        active = False"
   ]
  },
  {
   "cell_type": "code",
   "execution_count": 6,
   "metadata": {},
   "outputs": [
    {
     "name": "stdout",
     "output_type": "stream",
     "text": [
      "\tPLEASE TYPE QUITE TO EXIT\n",
      "\n",
      "You Can Enter The Pizza Topping Which You Like e\n",
      "I have added E to your pizza\n",
      "\n",
      "You Can Enter The Pizza Topping Which You Like i\n",
      "I have added I to your pizza\n",
      "\n",
      "You Can Enter The Pizza Topping Which You Like quite\n",
      "I have added Quite to your pizza\n",
      "\n"
     ]
    }
   ],
   "source": [
    "mas1=\"\\tplease type quite to exit\\n\"\n",
    "print(mas1.upper())\n",
    "prompt = \"You can enter the Pizza Topping which you like \"\n",
    "mas = ''\n",
    "active = True\n",
    "while active:\n",
    "    mas=input(prompt.title())\n",
    "    print(\"I have added \"+mas.title()+\" to your pizza\\n\")\n",
    "    if mas == 'quite':\n",
    "        break"
   ]
  },
  {
   "cell_type": "markdown",
   "metadata": {},
   "source": [
    "# using a while loop with lists and dictionaries"
   ]
  },
  {
   "cell_type": "code",
   "execution_count": 22,
   "metadata": {},
   "outputs": [
    {
     "name": "stdout",
     "output_type": "stream",
     "text": [
      "\n",
      "verfixing users  Babar \n",
      "\n",
      "The Following Users Have Been Confirm\n",
      "BABAR\n",
      "\n",
      "verfixing users  Arif \n",
      "\n",
      "The Following Users Have Been Confirm\n",
      "BABAR\n",
      "ARIF\n",
      "\n",
      "verfixing users  Saba \n",
      "\n",
      "The Following Users Have Been Confirm\n",
      "BABAR\n",
      "ARIF\n",
      "SABA\n",
      "\n",
      "verfixing users  Heina \n",
      "\n",
      "The Following Users Have Been Confirm\n",
      "BABAR\n",
      "ARIF\n",
      "SABA\n",
      "HEINA\n",
      "\n",
      "verfixing users  Javad \n",
      "\n",
      "The Following Users Have Been Confirm\n",
      "BABAR\n",
      "ARIF\n",
      "SABA\n",
      "HEINA\n",
      "JAVAD\n"
     ]
    }
   ],
   "source": [
    "unconfirm_users = ['javad','heina','saba','arif','babar']\n",
    "confirm_users = []\n",
    "mas=\"the following users have been confirm\"\n",
    "\n",
    "while unconfirm_users:\n",
    "    \n",
    "    current_users=unconfirm_users.pop()\n",
    "    print(\"\\nverfixing users \",current_users.title(),'\\n')\n",
    "    confirm_users.append(current_users)\n",
    "    print(mas.title())\n",
    "    \n",
    "    for a in confirm_users:\n",
    "        print(a.upper())"
   ]
  },
  {
   "cell_type": "code",
   "execution_count": 29,
   "metadata": {},
   "outputs": [
    {
     "name": "stdout",
     "output_type": "stream",
     "text": [
      "['a', 'f', 'h', 'l', 'k']\n",
      "['f', 'h', 'l', 'k']\n"
     ]
    }
   ],
   "source": [
    "pets=['a','f','h','l','k']\n",
    "print(pets)\n",
    "while 'a' in pets:\n",
    "    g=pets.remove('a')\n",
    "    print(pets)"
   ]
  },
  {
   "cell_type": "markdown",
   "metadata": {},
   "source": [
    "# filling a dictionary with user input"
   ]
  },
  {
   "cell_type": "code",
   "execution_count": 1,
   "metadata": {},
   "outputs": [
    {
     "name": "stdout",
     "output_type": "stream",
     "text": [
      "Please Enter Your Name a\n",
      "Where You Want To Go th\n",
      "{'a': 'th'}\n",
      "Would You Like To Let Another Person Respond? (Yes/No)yes\n",
      "Please Enter Your Name rt\n",
      "Where You Want To Go uu\n",
      "{'a': 'th', 'rt': 'uu'}\n",
      "Would You Like To Let Another Person Respond? (Yes/No)no\n",
      "\n",
      "--------------------------- Poll Results --------------------\n",
      "A would like to go Th\n",
      "Rt would like to go Uu\n"
     ]
    }
   ],
   "source": [
    "responses = {}\n",
    "polling_active = True\n",
    "mas=\"please enter your name \"\n",
    "mas1=\"where you want to go \"\n",
    "mas2=\"would you like to let another person respond? (yes/no)\"\n",
    "while polling_active:\n",
    "    name = input(mas.title())\n",
    "    response = input(mas1.title())\n",
    "    responses[name]=response\n",
    "    print(responses)\n",
    "    repeat = input(mas2.title())\n",
    "    if repeat == 'no':\n",
    "        polling_active = False\n",
    "print('\\n--------------------------- Poll Results --------------------')\n",
    "for name,response in responses.items():\n",
    "    print(name.title() + ' would like to go ' + response.title())"
   ]
  },
  {
   "cell_type": "code",
   "execution_count": 13,
   "metadata": {},
   "outputs": [
    {
     "name": "stdout",
     "output_type": "stream",
     "text": [
      "please eenter your age 1\n",
      "{0: 1}\n",
      "please eenter your age 2\n",
      "{0: 2}\n",
      "please eenter your age 3\n",
      "{0: 3}\n",
      "please eenter your age -1\n",
      "{0: -1}\n"
     ]
    }
   ],
   "source": [
    "t_d={}\n",
    "t_active=True\n",
    "a = 0\n",
    "while t_active:\n",
    "    age=input('please eenter your age ')\n",
    "    age = int(age)\n",
    "    #if age >= 0 and age <= 3 :\n",
    "    t_d[a]=age\n",
    "    print(t_d)\n",
    "    if age == -1:\n",
    "        t_active = False"
   ]
  },
  {
   "cell_type": "markdown",
   "metadata": {},
   "source": [
    "# task"
   ]
  },
  {
   "cell_type": "code",
   "execution_count": 7,
   "metadata": {},
   "outputs": [
    {
     "name": "stdout",
     "output_type": "stream",
     "text": [
      "I Made Your large sandwich\n",
      "\n",
      "I Made Your ispice sandwich\n",
      "\n",
      "I Made Your dog sandwich\n",
      "\n",
      "I Made Your cream sandwich\n",
      "\n",
      "I Made Your myoonis sandwich\n",
      "\n",
      "I Made Your rool sandwich\n",
      "\n",
      "List Of Sandwich_Orders Which Is Completed ['large', 'ispice', 'dog', 'cream', 'myoonis', 'rool']\n"
     ]
    }
   ],
   "source": [
    "sandwich_order = ['rool','myoonis','cream','dog','ispice','large']\n",
    "finished_sandwiches = []\n",
    "mas = 'i made your '\n",
    "mas1 = 'list of sandwich_orders which is completed'\n",
    "while sandwich_order:\n",
    "    ready = sandwich_order.pop()\n",
    "    print(mas.title()+ready+\" sandwich\\n\")\n",
    "    finished_sandwiches.append(ready)\n",
    "print(mas1.title(),finished_sandwiches)\n",
    "    \n"
   ]
  },
  {
   "cell_type": "code",
   "execution_count": 8,
   "metadata": {},
   "outputs": [
    {
     "name": "stdout",
     "output_type": "stream",
     "text": [
      "I Made Your rool sandwich\n",
      "\n",
      "I Made Your myoonis sandwich\n",
      "\n",
      "I Made Your cream sandwich\n",
      "\n",
      "I Made Your dog sandwich\n",
      "\n",
      "I Made Your ispice sandwich\n",
      "\n",
      "I Made Your large sandwich\n",
      "\n",
      "List Of Sandwich_Orders Which Is Completed ['rool', 'myoonis', 'cream', 'dog', 'ispice', 'large']\n"
     ]
    }
   ],
   "source": [
    "sandwich_order = ['rool','myoonis','cream','dog','ispice','large']\n",
    "finished_sandwiches = []\n",
    "mas = 'i made your '\n",
    "mas1 = 'list of sandwich_orders which is completed'\n",
    "for a in sandwich_order:\n",
    "    finished_sandwiches.append(a)\n",
    "    print(mas.title()+a+\" sandwich\\n\")\n",
    "print(mas1.title(),finished_sandwiches)\n",
    "    \n"
   ]
  },
  {
   "cell_type": "code",
   "execution_count": 16,
   "metadata": {},
   "outputs": [
    {
     "name": "stdout",
     "output_type": "stream",
     "text": [
      "[['rool', 'myoonis', 'cream']]\n"
     ]
    }
   ],
   "source": [
    "sandwich_order = ['rool','myoonis','cream','large','large','large']\n",
    "mas = \"deli has run out of large\"\n",
    "finished_sandwiches = []\n",
    "while 'large' in sandwich_order:\n",
    "    sandwich_order.remove('large')\n",
    "finished_sandwiches.append(sandwich_order)\n",
    "print(finished_sandwiches)"
   ]
  },
  {
   "cell_type": "code",
   "execution_count": null,
   "metadata": {},
   "outputs": [],
   "source": []
  },
  {
   "cell_type": "code",
   "execution_count": null,
   "metadata": {},
   "outputs": [],
   "source": []
  },
  {
   "cell_type": "code",
   "execution_count": null,
   "metadata": {},
   "outputs": [],
   "source": []
  },
  {
   "cell_type": "code",
   "execution_count": null,
   "metadata": {},
   "outputs": [],
   "source": []
  },
  {
   "cell_type": "code",
   "execution_count": null,
   "metadata": {},
   "outputs": [],
   "source": []
  },
  {
   "cell_type": "code",
   "execution_count": null,
   "metadata": {},
   "outputs": [],
   "source": []
  },
  {
   "cell_type": "code",
   "execution_count": null,
   "metadata": {},
   "outputs": [],
   "source": []
  },
  {
   "cell_type": "code",
   "execution_count": null,
   "metadata": {},
   "outputs": [],
   "source": []
  },
  {
   "cell_type": "code",
   "execution_count": null,
   "metadata": {},
   "outputs": [],
   "source": []
  },
  {
   "cell_type": "code",
   "execution_count": null,
   "metadata": {},
   "outputs": [],
   "source": []
  },
  {
   "cell_type": "code",
   "execution_count": null,
   "metadata": {},
   "outputs": [],
   "source": []
  }
 ],
 "metadata": {
  "kernelspec": {
   "display_name": "Python 3",
   "language": "python",
   "name": "python3"
  },
  "language_info": {
   "codemirror_mode": {
    "name": "ipython",
    "version": 3
   },
   "file_extension": ".py",
   "mimetype": "text/x-python",
   "name": "python",
   "nbconvert_exporter": "python",
   "pygments_lexer": "ipython3",
   "version": "3.7.4"
  }
 },
 "nbformat": 4,
 "nbformat_minor": 2
}
